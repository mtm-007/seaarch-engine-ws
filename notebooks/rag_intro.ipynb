{
 "cells": [
  {
   "cell_type": "code",
   "execution_count": 1,
   "id": "4efb2f63-0345-4afc-a02b-5072ab78bae2",
   "metadata": {},
   "outputs": [],
   "source": [
    "#!wget https://raw.githubusercontent.com/alexeygrigorev/minsearch/main/minsearch.py"
   ]
  },
  {
   "cell_type": "code",
   "execution_count": 2,
   "id": "3a8bcaf9-f691-46e0-a903-76b3db0fd455",
   "metadata": {},
   "outputs": [],
   "source": [
    "#!wget https://raw.githubusercontent.com/DataTalksClub/llm-zoomcamp/main/01-intro/parse-faq.ipynb"
   ]
  },
  {
   "cell_type": "code",
   "execution_count": 10,
   "id": "824cafc0-d0f3-4b7e-8875-dfc718413168",
   "metadata": {},
   "outputs": [
    {
     "data": {
      "text/plain": [
       "True"
      ]
     },
     "execution_count": 10,
     "metadata": {},
     "output_type": "execute_result"
    }
   ],
   "source": [
    "import minsearch\n",
    "import json\n",
    "from dotenv import load_dotenv\n",
    "from groq import Groq\n",
    "import os\n",
    "\n",
    "load_dotenv()"
   ]
  },
  {
   "cell_type": "code",
   "execution_count": null,
   "id": "43fdde46-d09e-4680-8d13-e4e2898e47c8",
   "metadata": {},
   "outputs": [],
   "source": [
    "with open('documents.json', 'rt') as f_in:\n",
    "    docs_raw = json.load(f_in)\n",
    "\n",
    "documents=[]\n",
    "\n",
    "for course_dict in docs_raw:\n",
    "    for doc in course_dict['documents']:\n",
    "        doc['course'] = course_dict['course']\n",
    "        documents.append(doc)"
   ]
  },
  {
   "cell_type": "code",
   "execution_count": 8,
   "id": "a6f094e2-04f7-45d7-9424-292f4638c035",
   "metadata": {},
   "outputs": [
    {
     "data": {
      "text/plain": [
       "{'text': \"dThe purpose of this document is to capture frequently asked technical questions\\nThe next cohort starts in Jan 2025. More info at DTC Article.\\nRegister before the course starts using this link.\\nJoin the course Telegram channel with announcements.\\nDon’t forget to register in DataTalks.Club's Slack and join the channel.\",\n",
       " 'section': 'General course-related questions',\n",
       " 'question': 'Course - When will the course start？',\n",
       " 'course': 'data-engineering-zoomcamp'}"
      ]
     },
     "execution_count": 8,
     "metadata": {},
     "output_type": "execute_result"
    }
   ],
   "source": [
    "documents[0]"
   ]
  },
  {
   "cell_type": "code",
   "execution_count": 9,
   "id": "b39fd62f-a5f1-44ca-a007-8f0f74c3e7cd",
   "metadata": {},
   "outputs": [
    {
     "data": {
      "text/plain": [
       "<minsearch.Index at 0x151770ca0>"
      ]
     },
     "execution_count": 9,
     "metadata": {},
     "output_type": "execute_result"
    }
   ],
   "source": [
    "Index = minsearch.Index(\n",
    "    text_fields = ['question','section','text'],\n",
    "    keyword_fields = ['course']\n",
    ")\n",
    "\n",
    "Index.fit(documents)"
   ]
  },
  {
   "cell_type": "code",
   "execution_count": null,
   "id": "b80b3fe1-4cb9-4b60-95e0-92d921eb457a",
   "metadata": {},
   "outputs": [],
   "source": [
    "ques = \"how to parse document files with python?\""
   ]
  },
  {
   "cell_type": "code",
   "execution_count": null,
   "id": "cabd3dac-03b2-4a87-9441-895f9c481740",
   "metadata": {},
   "outputs": [],
   "source": [
    "boost = {'question': 3, 'section' : 0.4}\n",
    "\n",
    "results = Index.search(\n",
    "    query=ques,\n",
    "    filter_dict={'course':'mlops-zoomcamp'},\n",
    "    boost_dict=boost,\n",
    "    num_results=5\n",
    ")"
   ]
  },
  {
   "cell_type": "code",
   "execution_count": null,
   "id": "ae810405-4cc3-4156-ba50-d32ef25aae07",
   "metadata": {},
   "outputs": [],
   "source": [
    "results"
   ]
  },
  {
   "cell_type": "markdown",
   "id": "f598bcd2-bb96-406c-af22-3bc1fed6ceba",
   "metadata": {},
   "source": [
    "#### from search script TextSearch Class function"
   ]
  },
  {
   "cell_type": "code",
   "execution_count": null,
   "id": "e652a229-abfb-4281-a613-a8e9a7cdb99a",
   "metadata": {},
   "outputs": [],
   "source": [
    "from Search_uncln import TextSearch\n",
    "\n",
    "index = TextSearch(\n",
    "    text_fields = ['question','section','text'],\n",
    ")\n",
    "index.fit(documents)\n",
    "\n",
    "se_results =index.search(\n",
    "    query = ques,\n",
    "    n_results= 2, \n",
    "    filters= {'course':'mlops-zoomcamp'},\n",
    "boost = {'question':6, 'section':0.2},\n",
    ")"
   ]
  },
  {
   "cell_type": "code",
   "execution_count": null,
   "id": "475efc05-d3e4-4b54-a66f-fe8e41edb74f",
   "metadata": {},
   "outputs": [],
   "source": [
    "se_results"
   ]
  },
  {
   "cell_type": "markdown",
   "id": "5b03c8c9-8944-4b1c-ac98-0ec8ed77c137",
   "metadata": {},
   "source": [
    "### chatcompletition, Prompt Template, LLM api call"
   ]
  },
  {
   "cell_type": "code",
   "execution_count": null,
   "id": "4d197dc6-d020-49e5-84e5-331aa09c9a05",
   "metadata": {},
   "outputs": [],
   "source": [
    "import minsearch\n",
    "import json\n",
    "from dotenv import load_dotenv\n",
    "from groq import Groq\n",
    "import os\n",
    "\n",
    "load_dotenv()"
   ]
  },
  {
   "cell_type": "code",
   "execution_count": 21,
   "id": "973b6fdf-6210-4bd6-b23c-5c4a450d4135",
   "metadata": {},
   "outputs": [
    {
     "data": {
      "text/plain": [
       "<minsearch.Index at 0x1537db100>"
      ]
     },
     "execution_count": 21,
     "metadata": {},
     "output_type": "execute_result"
    }
   ],
   "source": [
    "with open('documents.json', 'rt') as f_in:\n",
    "    docs_raw = json.load(f_in)\n",
    "\n",
    "documents=[]\n",
    "\n",
    "for course_dict in docs_raw:\n",
    "    for doc in course_dict['documents']:\n",
    "        doc['course'] = course_dict['course']\n",
    "        documents.append(doc)\n",
    "\n",
    "Index = minsearch.Index(\n",
    "    text_fields = ['question','section','text'],\n",
    "    keyword_fields = ['course']\n",
    ")\n",
    "\n",
    "Index.fit(documents)"
   ]
  },
  {
   "cell_type": "code",
   "execution_count": null,
   "id": "741b5697-b2f3-49ab-b568-6c8dec04351d",
   "metadata": {},
   "outputs": [],
   "source": [
    "prompt_template = \"\"\" \n",
    "You are an expert machine learning and mlops engineering helping a junior engineer as an assitant and guide. \n",
    "Answer the QUESTION based on the CONTEXT from the FAQ database.\n",
    "Use only the facts from the CONTEXT when answering.\n",
    "if the CONTEXT does not contain the answer, Output \"Not FOUND in the context given\" and explain your answer with reasons.\n",
    "\n",
    "QUESTION: {question}\n",
    "\n",
    "CONTEXT: {context}\n",
    "\"\"\".strip()\n",
    "\n",
    "context = \"\"\n",
    "\n",
    "for doc in results:\n",
    "    context = context + f\"section: {doc['section']}\\nquestion: {doc['question']}\\nanswer: {doc['text']}\\n\\n\"\n",
    "\n",
    "prompt = prompt_template.format(question=ques, context=context).strip()"
   ]
  },
  {
   "cell_type": "code",
   "execution_count": null,
   "id": "ce7dd538-223f-49ba-a7e1-d155e38b5ed7",
   "metadata": {},
   "outputs": [],
   "source": [
    "print(prompt)"
   ]
  },
  {
   "cell_type": "code",
   "execution_count": null,
   "id": "d69ac5c5-cb09-47e0-b89f-297d092cc016",
   "metadata": {},
   "outputs": [],
   "source": [
    "\n",
    "client = Groq(\n",
    "    api_key=os.getenv(\"GROQ_API_KEY\"),\n",
    ")\n",
    "\n",
    "response = client.chat.completions.create(\n",
    "    messages=[\n",
    "        {\n",
    "            \"role\": \"user\",\n",
    "            \"content\": prompt,\n",
    "        }\n",
    "    ],\n",
    "    model=\"llama3-8b-8192\",\n",
    ")\n",
    "response.choices[0].message.content"
   ]
  },
  {
   "cell_type": "code",
   "execution_count": 11,
   "id": "ce318635-02e5-4ff5-b8b1-bb43c64dfcc2",
   "metadata": {},
   "outputs": [],
   "source": [
    "def search(query):\n",
    "    boost = {'question': 3, 'section' : 0.4}\n",
    "\n",
    "    results = Index.search(\n",
    "        query=query,\n",
    "        filter_dict={'course':'mlops-zoomcamp'},\n",
    "        boost_dict=boost,\n",
    "        num_results=5\n",
    ")\n",
    "    return results"
   ]
  },
  {
   "cell_type": "code",
   "execution_count": 24,
   "id": "2012a964-1060-46ae-80f4-df245cf0ac41",
   "metadata": {},
   "outputs": [],
   "source": [
    "def build_prompt(query, search_results):\n",
    "    prompt_template = \"\"\" \n",
    "You are an expert machine learning and mlops engineering helping a junior engineer as an assitant and guide. \n",
    "Answer the QUESTION based on the CONTEXT from the FAQ database.\n",
    "Use only the facts from the CONTEXT when answering. DO NOT USE OTHER CONTENT OTHER THAN GIVEN CONTEXT!\n",
    "if the CONTEXT does not contain the answer, Output \"Not FOUND in the context given\" and explain your answer with reasons.\n",
    "\n",
    "QUESTION: {question}\n",
    "\n",
    "CONTEXT: {context}\n",
    "\"\"\".strip()\n",
    "\n",
    "    context = \"\"\n",
    "    \n",
    "    for doc in search_results:\n",
    "        context = context + f\"section: {doc['section']}\\nquestion: {doc['question']}\\nanswer: {doc['text']}\\n\\n\"\n",
    "    \n",
    "    prompt = prompt_template.format(question=query, context=context).strip()\n",
    "    return prompt"
   ]
  },
  {
   "cell_type": "code",
   "execution_count": 25,
   "id": "e7756d4e-ddfd-455b-8b46-838c2c416e22",
   "metadata": {},
   "outputs": [],
   "source": [
    "def llm_call(prompt):\n",
    "    client = Groq(\n",
    "    api_key=os.getenv(\"GROQ_API_KEY\"),\n",
    ")\n",
    "    response = client.chat.completions.create(\n",
    "    messages=[\n",
    "        {\n",
    "            \"role\": \"user\",\n",
    "            \"content\": prompt,\n",
    "        }\n",
    "    ],\n",
    "    model=\"llama3-8b-8192\",\n",
    ")\n",
    "    return print(response.choices[0].message.content)"
   ]
  },
  {
   "cell_type": "code",
   "execution_count": 30,
   "id": "71d5e338-dfc8-4130-9a8f-d0fc01bb9576",
   "metadata": {},
   "outputs": [],
   "source": [
    "Query = \"How to use mlflow for experiment tracking?\"\n",
    "def rag(Query):\n",
    "    \n",
    "    search_results = search(Query)\n",
    "    Prompt = build_prompt(Query, search_results)\n",
    "    answer = llm_call(Prompt)\n",
    "    return answer"
   ]
  },
  {
   "cell_type": "code",
   "execution_count": 31,
   "id": "f036cc67-265c-40c3-83b5-37033b64b3f7",
   "metadata": {},
   "outputs": [
    {
     "name": "stdout",
     "output_type": "stream",
     "text": [
      "Based on the given context, I will help you with your question on how to use MLflow for experiment tracking.\n",
      "\n",
      "To use MLflow for experiment tracking, you can follow the guidelines provided in the \"Module 2: Experiment tracking\" section of the context.\n",
      "\n",
      "If you are experiencing issues with your experiment not being visible in the MLflow UI, you can refer to the solution provided for the question \"Experiment not visible in MLflow UI\" which suggests checking the tracking URI and ensuring that it is correct. The tracking URI can be an absolute or relative path to the mlflow.db file.\n",
      "\n",
      "If you want to delete an experiment permanently from MLflow UI, you can refer to the solution provided for the question \"How to Delete an Experiment Permanently from MLFlow UI\" which suggests using a SQL script to delete the experiment.\n",
      "\n",
      "Please let me know if you have any further questions or if there's anything else I can help you with.\n"
     ]
    }
   ],
   "source": [
    "rag(Query)"
   ]
  },
  {
   "cell_type": "code",
   "execution_count": 32,
   "id": "dff91e5c-b084-4db0-b3ff-789a259ecd8d",
   "metadata": {},
   "outputs": [
    {
     "name": "stdout",
     "output_type": "stream",
     "text": [
      "I see you're asking about how to use Kafka!\n",
      "\n",
      "The context doesn't contain any information about Kafka. I searched through the provided text, and Kafka is not mentioned at all. Therefore, I must output: \"Not FOUND in the context given\"\n",
      "\n",
      "The reason is that Kafka is not mentioned in the provided text, neither as a topic, nor a technology, nor a keyword. The text only discusses Git,Experiment tracking with MLflow, and general course questions.\n"
     ]
    }
   ],
   "source": [
    "rag(\"How to use Kafka?\")"
   ]
  },
  {
   "cell_type": "code",
   "execution_count": null,
   "id": "f95915a8-3610-4d08-aae6-0dd99e9b20a5",
   "metadata": {},
   "outputs": [],
   "source": []
  }
 ],
 "metadata": {
  "kernelspec": {
   "display_name": "Python 3 (ipykernel)",
   "language": "python",
   "name": "python3"
  },
  "language_info": {
   "codemirror_mode": {
    "name": "ipython",
    "version": 3
   },
   "file_extension": ".py",
   "mimetype": "text/x-python",
   "name": "python",
   "nbconvert_exporter": "python",
   "pygments_lexer": "ipython3",
   "version": "3.10.14"
  }
 },
 "nbformat": 4,
 "nbformat_minor": 5
}
