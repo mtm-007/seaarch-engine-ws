{
 "cells": [
  {
   "cell_type": "code",
   "execution_count": 6,
   "id": "4efb2f63-0345-4afc-a02b-5072ab78bae2",
   "metadata": {},
   "outputs": [],
   "source": [
    "#!wget https://raw.githubusercontent.com/alexeygrigorev/minsearch/main/minsearch.py"
   ]
  },
  {
   "cell_type": "code",
   "execution_count": 7,
   "id": "3a8bcaf9-f691-46e0-a903-76b3db0fd455",
   "metadata": {},
   "outputs": [],
   "source": [
    "#!wget https://raw.githubusercontent.com/DataTalksClub/llm-zoomcamp/main/01-intro/parse-faq.ipynb"
   ]
  },
  {
   "cell_type": "code",
   "execution_count": 8,
   "id": "824cafc0-d0f3-4b7e-8875-dfc718413168",
   "metadata": {},
   "outputs": [],
   "source": [
    "import minsearch\n",
    "import json"
   ]
  },
  {
   "cell_type": "code",
   "execution_count": 9,
   "id": "e098f0a9-bcf2-4c3b-bff6-8492fd54d663",
   "metadata": {},
   "outputs": [],
   "source": [
    "with open('documents.json', 'rt') as f_in:\n",
    "    docs_raw = json.load(f_in)"
   ]
  },
  {
   "cell_type": "code",
   "execution_count": 10,
   "id": "7c9d1a72-49e9-4d45-8b2e-cc22371fded6",
   "metadata": {},
   "outputs": [],
   "source": [
    "documents=[]\n",
    "\n",
    "for course_dict in docs_raw:\n",
    "    for doc in course_dict['documents']:\n",
    "        doc['course'] = course_dict['course']\n",
    "        documents.append(doc)"
   ]
  },
  {
   "cell_type": "code",
   "execution_count": 11,
   "id": "a6f094e2-04f7-45d7-9424-292f4638c035",
   "metadata": {},
   "outputs": [
    {
     "data": {
      "text/plain": [
       "{'text': \"dThe purpose of this document is to capture frequently asked technical questions\\nThe next cohort starts in Jan 2025. More info at DTC Article.\\nRegister before the course starts using this link.\\nJoin the course Telegram channel with announcements.\\nDon’t forget to register in DataTalks.Club's Slack and join the channel.\",\n",
       " 'section': 'General course-related questions',\n",
       " 'question': 'Course - When will the course start？',\n",
       " 'course': 'data-engineering-zoomcamp'}"
      ]
     },
     "execution_count": 11,
     "metadata": {},
     "output_type": "execute_result"
    }
   ],
   "source": [
    "documents[0]"
   ]
  },
  {
   "cell_type": "code",
   "execution_count": 12,
   "id": "9daca2dd-03ec-4370-a79f-89969fa68866",
   "metadata": {},
   "outputs": [],
   "source": [
    "Index = minsearch.Index(\n",
    "    text_fields = ['question','section','text'],\n",
    "    keyword_fields = ['course']\n",
    ")"
   ]
  },
  {
   "cell_type": "code",
   "execution_count": 13,
   "id": "309ae800-99d8-4c06-a197-1b470daf9e85",
   "metadata": {},
   "outputs": [
    {
     "data": {
      "text/plain": [
       "<minsearch.Index at 0x12fc06650>"
      ]
     },
     "execution_count": 13,
     "metadata": {},
     "output_type": "execute_result"
    }
   ],
   "source": [
    "Index.fit(documents)"
   ]
  },
  {
   "cell_type": "code",
   "execution_count": 14,
   "id": "b80b3fe1-4cb9-4b60-95e0-92d921eb457a",
   "metadata": {},
   "outputs": [],
   "source": [
    "ques = \"how to parse document files with python?\""
   ]
  },
  {
   "cell_type": "code",
   "execution_count": 15,
   "id": "cabd3dac-03b2-4a87-9441-895f9c481740",
   "metadata": {},
   "outputs": [],
   "source": [
    "boost = {'question': 3, 'section' : 0.4}\n",
    "\n",
    "results = Index.search(\n",
    "    query=ques,\n",
    "    filter_dict={'course':'mlops-zoomcamp'},\n",
    "    boost_dict=boost,\n",
    "    num_results=5\n",
    ")"
   ]
  },
  {
   "cell_type": "code",
   "execution_count": 16,
   "id": "ae810405-4cc3-4156-ba50-d32ef25aae07",
   "metadata": {},
   "outputs": [
    {
     "data": {
      "text/plain": [
       "[{'text': 'If you create a folder data and download datasets or raw files in your local repository. Then to push all your code to remote repository without this files or folder please use gitignore file. The simple way to create it do the following steps\\n1. Create empty .txt file (using text editor or command line)\\n2. Safe as .gitignore (. must use the dot symbol)\\n3. Add rules\\n *.parquet - to ignore all parquet files\\ndata/ - to ignore all files in folder data\\n\\nFor more pattern read GIT documentation\\nhttps://git-scm.com/docs/gitignore\\nAdded by Olga Rudakova (olgakurgan@gmail.com)',\n",
       "  'section': 'Module 1: Introduction',\n",
       "  'question': '.gitignore how-to',\n",
       "  'course': 'mlops-zoomcamp'},\n",
       " {'text': 'I have faced a problem while reading the large parquet file. I tried some workarounds but they were NOT successful with Jupyter.\\nThe error message is:\\nIndexError: index 311297 is out of bounds for axis 0 with size 131743\\nI solved it by performing the homework directly as a python script.\\nAdded by Ibraheem Taha (ibraheemtaha91@gmail.com)\\nYou can try using the Pyspark library\\nAnswered by kamaldeen (kamaldeen32@gmail.com)',\n",
       "  'section': 'Module 1: Introduction',\n",
       "  'question': 'Reading large parquet files',\n",
       "  'course': 'mlops-zoomcamp'},\n",
       " {'text': 'sns.distplot(df_train[\"duration\"])\\nCan be replaced with\\nsns.histplot(\\ndf_train[\"duration\"] , kde=True,\\nstat=\"density\", kde_kws=dict(cut=3), bins=50,\\nalpha=.4, edgecolor=(1, 1, 1, 0.4),\\n)\\nTo get almost identical result',\n",
       "  'section': 'Module 1: Introduction',\n",
       "  'question': 'How to replace distplot with histplot',\n",
       "  'course': 'mlops-zoomcamp'},\n",
       " {'text': 'Problem description. How can we use Jupyter notebooks with the Pipenv environment?\\nSolution: Refer to this stackoverflow question. Basically install jupyter and ipykernel using pipenv. And then register the kernel with `python -m ipykernel install --user --name=my-virtualenv-name` inside the Pipenv shell. If you are using Jupyter notebooks in VS Code, doing this will also add the virtual environment in the list of kernels.\\nAdded by Ron Medina',\n",
       "  'section': 'Module 4: Deployment',\n",
       "  'question': 'Pipenv with Jupyter',\n",
       "  'course': 'mlops-zoomcamp'},\n",
       " {'text': \"No matter if you're with a 'live' cohort or follow on the self-paced mode, the way to start is similar:\\nsee what things are where by reading  pins and  bookmarks on the course-channel\\nreading the repo (bookmarked in channel) and watching the video lessons (playlist bookmarked in channel)\\nif have questions, search the channel itself first; someone may have already asked and gotten a solution\\nif don't want to comb through the search results, read  for the most Frequently Asked Questions (this document)\\nif don't even want to read/skim/search (use ctrl+F) the questions in FAQ doc, tag the @ZoomcampQABot when you ask questions, and it will summarize it for you (if answers in its knowledge-base)\\nFor generic, non-zoomcamp queries, you can also ask ChatGPT/BingCopilot/GoogleGemini/etc, especially for error messages\\ncheck if you're on track by checking the deadlines (in Course Management form for Homework submissions)\\nmain difference of not being in a “live” cohort is that the responses to your questions might be delayed as not many active students come online anymore. Which is not an issue if you do your own due diligence and search for answers first or reading the documentation of the library.\\nIf you do need to ask questions when no answers supplied in resources above have helped, follow the asking-questions.md (bookmarked in channel) guidelines, also in Pins…\",\n",
       "  'section': 'General course questions',\n",
       "  'question': 'Course - How do I start?',\n",
       "  'course': 'mlops-zoomcamp'}]"
      ]
     },
     "execution_count": 16,
     "metadata": {},
     "output_type": "execute_result"
    }
   ],
   "source": [
    "results"
   ]
  },
  {
   "cell_type": "markdown",
   "id": "f598bcd2-bb96-406c-af22-3bc1fed6ceba",
   "metadata": {},
   "source": [
    "#### from search script TextSearch Class function"
   ]
  },
  {
   "cell_type": "code",
   "execution_count": 17,
   "id": "e652a229-abfb-4281-a613-a8e9a7cdb99a",
   "metadata": {},
   "outputs": [],
   "source": [
    "from Search_uncln import TextSearch\n",
    "\n",
    "index = TextSearch(\n",
    "    text_fields = ['question','section','text'],\n",
    ")\n",
    "index.fit(documents)\n",
    "\n",
    "se_results =index.search(\n",
    "    query = ques,\n",
    "    n_results= 2, \n",
    "    filters= {'course':'mlops-zoomcamp'},\n",
    "boost = {'question':6, 'section':0.2},\n",
    ")"
   ]
  },
  {
   "cell_type": "code",
   "execution_count": 18,
   "id": "475efc05-d3e4-4b54-a66f-fe8e41edb74f",
   "metadata": {},
   "outputs": [
    {
     "data": {
      "text/plain": [
       "[{'text': 'If you create a folder data and download datasets or raw files in your local repository. Then to push all your code to remote repository without this files or folder please use gitignore file. The simple way to create it do the following steps\\n1. Create empty .txt file (using text editor or command line)\\n2. Safe as .gitignore (. must use the dot symbol)\\n3. Add rules\\n *.parquet - to ignore all parquet files\\ndata/ - to ignore all files in folder data\\n\\nFor more pattern read GIT documentation\\nhttps://git-scm.com/docs/gitignore\\nAdded by Olga Rudakova (olgakurgan@gmail.com)',\n",
       "  'section': 'Module 1: Introduction',\n",
       "  'question': '.gitignore how-to',\n",
       "  'course': 'mlops-zoomcamp'},\n",
       " {'text': 'I have faced a problem while reading the large parquet file. I tried some workarounds but they were NOT successful with Jupyter.\\nThe error message is:\\nIndexError: index 311297 is out of bounds for axis 0 with size 131743\\nI solved it by performing the homework directly as a python script.\\nAdded by Ibraheem Taha (ibraheemtaha91@gmail.com)\\nYou can try using the Pyspark library\\nAnswered by kamaldeen (kamaldeen32@gmail.com)',\n",
       "  'section': 'Module 1: Introduction',\n",
       "  'question': 'Reading large parquet files',\n",
       "  'course': 'mlops-zoomcamp'}]"
      ]
     },
     "execution_count": 18,
     "metadata": {},
     "output_type": "execute_result"
    }
   ],
   "source": [
    "se_results"
   ]
  },
  {
   "cell_type": "markdown",
   "id": "5b03c8c9-8944-4b1c-ac98-0ec8ed77c137",
   "metadata": {},
   "source": [
    "### chatcompletition, Prompt Template, LLM api call"
   ]
  },
  {
   "cell_type": "code",
   "execution_count": 22,
   "id": "3d71744c-9a8a-4b89-9ef4-b953c38ec1d0",
   "metadata": {},
   "outputs": [],
   "source": [
    "from openai import OpenAI"
   ]
  },
  {
   "cell_type": "code",
   "execution_count": 25,
   "id": "36603adc-ad7d-4542-896f-8cdbe6e96815",
   "metadata": {},
   "outputs": [],
   "source": [
    "#client = OpenAI()"
   ]
  },
  {
   "cell_type": "code",
   "execution_count": 26,
   "id": "4cb25a2e-d44a-4b91-bf66-c22f329a7822",
   "metadata": {},
   "outputs": [
    {
     "data": {
      "text/plain": [
       "'how to parse document files with python?'"
      ]
     },
     "execution_count": 26,
     "metadata": {},
     "output_type": "execute_result"
    }
   ],
   "source": [
    "ques"
   ]
  },
  {
   "cell_type": "code",
   "execution_count": null,
   "id": "6f71d0b0-0acc-4744-9133-a953be7ab3d6",
   "metadata": {},
   "outputs": [],
   "source": [
    "response = client.chat.completions.create(\n",
    "    model = '',\n",
    "    message = [{\"role\": \"user\", \"content\": ques}],\n",
    "               \n",
    ")"
   ]
  },
  {
   "cell_type": "code",
   "execution_count": 36,
   "id": "ab58e958-58eb-478b-9fb9-a385c03049de",
   "metadata": {},
   "outputs": [],
   "source": [
    "from dotenv import load_dotenv\n",
    "from groq import Groq\n",
    "import os\n",
    "\n",
    "load_dotenv()\n",
    "\n",
    "client = Groq(\n",
    "    api_key=os.getenv(\"GROQ_API_KEY\"),\n",
    ")\n",
    "\n",
    "response = client.chat.completions.create(\n",
    "    messages=[\n",
    "        {\n",
    "            \"role\": \"user\",\n",
    "            \"content\":ques,\n",
    "            #\"content\": \"Explain the importance of fast language models\",\n",
    "        }\n",
    "    ],\n",
    "    model=\"llama3-8b-8192\",\n",
    ")"
   ]
  },
  {
   "cell_type": "code",
   "execution_count": 58,
   "id": "12806eaf-c81d-4072-be09-370d42ac4bb7",
   "metadata": {},
   "outputs": [
    {
     "name": "stdout",
     "output_type": "stream",
     "text": [
      "There are several ways to parse document files using Python, depending on the type of file and the structure of the document. Here are some common methods:\n",
      "\n",
      "1. **XML parsing**:\n",
      "\t* Use the `xml.etree.ElementTree` module to parse XML documents.\n",
      "\t* Example: `root = ET.parse('file.xml').getroot()`\n",
      "2. **JSON parsing**:\n",
      "\t* Use the `json` module to parse JSON documents.\n",
      "\t* Example: `data = json.load(open('file.json'))`\n",
      "3. **HTML parsing**:\n",
      "\t* Use the `html.parser` module to parse HTML documents.\n",
      "\t* Example: `from html.parser import HTMLParser; parser = HTMLParser(); parser.feed('file.html')`\n",
      "4. **PDF parsing**:\n",
      "\t* Use the `PyPDF2` library to parse PDF files.\n",
      "\t* Example: `pdf = PyPDF2.PdfFileReader('file.pdf'); pages = pdf.numPages`\n",
      "5. **Microsoft Office document parsing**:\n",
      "\t* Use the `python-docx` library to parse Word documents (.docx).\n",
      "\t* Use the `openpyxl` library to parse Excel spreadsheets (.xlsx).\n",
      "\t* Use the `python-odf` library to parse OpenDocument files (.odt, .ods, .odg).\n",
      "6. **Text parsing**:\n",
      "\t* Use the `csv` module to parse comma-separated values (CSV) files.\n",
      "\t* Use the `re` module to parse text files using regular expressions.\n",
      "\n",
      "Some popular libraries for document parsing in Python are:\n",
      "\n",
      "1. `xml.etree.ElementTree`: parsing XML documents\n",
      "2. `json`: parsing JSON documents\n",
      "3. `html.parser`: parsing HTML documents\n",
      "4. `PyPDF2`: parsing PDF files\n",
      "5. `python-docx`: parsing Word documents (.docx)\n",
      "6. `openpyxl`: parsing Excel spreadsheets (.xlsx)\n",
      "7. `python-odf`: parsing OpenDocument files (.odt, .ods, .odg)\n",
      "8. `csv`: parsing CSV files\n",
      "9. `re`: parsing text files using regular expressions\n",
      "\n",
      "When parsing document files, you may need to consider the following:\n",
      "\n",
      "1. **Character encoding**: ensure that you're using the correct character encoding scheme (e.g., UTF-8) to handle non-ASCII characters.\n",
      "2. **Syntax errors**: handle any syntax errors that may occur during parsing, such as invalid XML or JSON structure.\n",
      "3. **Data validation**: validate the parsed data to ensure it matches your expectations.\n",
      "\n",
      "Remember to consult the documentation for each library and module to learn more about their specific use cases and limitations.\n"
     ]
    }
   ],
   "source": [
    "response.choices[0].message.content\n",
    "print(response.choices[0].message.content)"
   ]
  },
  {
   "cell_type": "code",
   "execution_count": 89,
   "id": "97914881-5b4f-479d-9afa-a61cf158c124",
   "metadata": {},
   "outputs": [],
   "source": [
    "prompt_template = \"\"\" \n",
    "You are an expert machine learning and mlops engineering helping a junior engineer as an assitant and guide. \n",
    "Answer the QUESTION based on the CONTEXT from the FAQ database.\n",
    "Use only the facts from the CONTEXT when answering.\n",
    "if the CONTEXT does not contain the answer, Output \"Not FOUND in the context given\" and explain your answer with reasons.\n",
    "\n",
    "QUESTION: {question}\n",
    "\n",
    "CONTEXT: {context}\n",
    "\"\"\".strip()"
   ]
  },
  {
   "cell_type": "code",
   "execution_count": 84,
   "id": "35de2a94-6785-4720-af68-2b02b05e90f9",
   "metadata": {},
   "outputs": [],
   "source": [
    "context = \"\"\n",
    "\n",
    "for doc in results:\n",
    "    context = context + f\"section: {doc['section']}\\nquestion: {doc['question']}\\nanswer: {doc['text']}\\n\\n\"\n",
    "    "
   ]
  },
  {
   "cell_type": "code",
   "execution_count": 85,
   "id": "c610d2d5-f11f-411d-aedb-b81b1ddc24b5",
   "metadata": {},
   "outputs": [
    {
     "name": "stdout",
     "output_type": "stream",
     "text": [
      "section: Module 1: Introduction\n",
      "question: .gitignore how-to\n",
      "answer: If you create a folder data and download datasets or raw files in your local repository. Then to push all your code to remote repository without this files or folder please use gitignore file. The simple way to create it do the following steps\n",
      "1. Create empty .txt file (using text editor or command line)\n",
      "2. Safe as .gitignore (. must use the dot symbol)\n",
      "3. Add rules\n",
      " *.parquet - to ignore all parquet files\n",
      "data/ - to ignore all files in folder data\n",
      "\n",
      "For more pattern read GIT documentation\n",
      "https://git-scm.com/docs/gitignore\n",
      "Added by Olga Rudakova (olgakurgan@gmail.com)\n",
      "\n",
      "section: Module 1: Introduction\n",
      "question: Reading large parquet files\n",
      "answer: I have faced a problem while reading the large parquet file. I tried some workarounds but they were NOT successful with Jupyter.\n",
      "The error message is:\n",
      "IndexError: index 311297 is out of bounds for axis 0 with size 131743\n",
      "I solved it by performing the homework directly as a python script.\n",
      "Added by Ibraheem Taha (ibraheemtaha91@gmail.com)\n",
      "You can try using the Pyspark library\n",
      "Answered by kamaldeen (kamaldeen32@gmail.com)\n",
      "\n",
      "section: Module 1: Introduction\n",
      "question: How to replace distplot with histplot\n",
      "answer: sns.distplot(df_train[\"duration\"])\n",
      "Can be replaced with\n",
      "sns.histplot(\n",
      "df_train[\"duration\"] , kde=True,\n",
      "stat=\"density\", kde_kws=dict(cut=3), bins=50,\n",
      "alpha=.4, edgecolor=(1, 1, 1, 0.4),\n",
      ")\n",
      "To get almost identical result\n",
      "\n",
      "section: Module 4: Deployment\n",
      "question: Pipenv with Jupyter\n",
      "answer: Problem description. How can we use Jupyter notebooks with the Pipenv environment?\n",
      "Solution: Refer to this stackoverflow question. Basically install jupyter and ipykernel using pipenv. And then register the kernel with `python -m ipykernel install --user --name=my-virtualenv-name` inside the Pipenv shell. If you are using Jupyter notebooks in VS Code, doing this will also add the virtual environment in the list of kernels.\n",
      "Added by Ron Medina\n",
      "\n",
      "section: General course questions\n",
      "question: Course - How do I start?\n",
      "answer: No matter if you're with a 'live' cohort or follow on the self-paced mode, the way to start is similar:\n",
      "see what things are where by reading  pins and  bookmarks on the course-channel\n",
      "reading the repo (bookmarked in channel) and watching the video lessons (playlist bookmarked in channel)\n",
      "if have questions, search the channel itself first; someone may have already asked and gotten a solution\n",
      "if don't want to comb through the search results, read  for the most Frequently Asked Questions (this document)\n",
      "if don't even want to read/skim/search (use ctrl+F) the questions in FAQ doc, tag the @ZoomcampQABot when you ask questions, and it will summarize it for you (if answers in its knowledge-base)\n",
      "For generic, non-zoomcamp queries, you can also ask ChatGPT/BingCopilot/GoogleGemini/etc, especially for error messages\n",
      "check if you're on track by checking the deadlines (in Course Management form for Homework submissions)\n",
      "main difference of not being in a “live” cohort is that the responses to your questions might be delayed as not many active students come online anymore. Which is not an issue if you do your own due diligence and search for answers first or reading the documentation of the library.\n",
      "If you do need to ask questions when no answers supplied in resources above have helped, follow the asking-questions.md (bookmarked in channel) guidelines, also in Pins…\n",
      "\n",
      "\n"
     ]
    }
   ],
   "source": [
    "print(context)"
   ]
  },
  {
   "cell_type": "code",
   "execution_count": 86,
   "id": "f648f527-bb85-473f-9552-0f99c4ef2a29",
   "metadata": {},
   "outputs": [],
   "source": [
    "prompt = prompt_template.format(question=ques, context=context).strip()"
   ]
  },
  {
   "cell_type": "code",
   "execution_count": 87,
   "id": "ce7dd538-223f-49ba-a7e1-d155e38b5ed7",
   "metadata": {},
   "outputs": [
    {
     "name": "stdout",
     "output_type": "stream",
     "text": [
      "You are an expert machine learning and mlops engineering helping a junior engineer as an assitant and guide. \n",
      "Answer the QUESTION based on the CONTEXT from the FAQ database.\n",
      "Use only the facts from the CONTEXT when answering.\n",
      "if the CONTEXT does not contain the answer, Output \"Not FOUND in the context given\" and give your reasons for that.\n",
      "\n",
      "QUESTION: how to parse document files with python?\n",
      "\n",
      "CONTEXT: section: Module 1: Introduction\n",
      "question: .gitignore how-to\n",
      "answer: If you create a folder data and download datasets or raw files in your local repository. Then to push all your code to remote repository without this files or folder please use gitignore file. The simple way to create it do the following steps\n",
      "1. Create empty .txt file (using text editor or command line)\n",
      "2. Safe as .gitignore (. must use the dot symbol)\n",
      "3. Add rules\n",
      " *.parquet - to ignore all parquet files\n",
      "data/ - to ignore all files in folder data\n",
      "\n",
      "For more pattern read GIT documentation\n",
      "https://git-scm.com/docs/gitignore\n",
      "Added by Olga Rudakova (olgakurgan@gmail.com)\n",
      "\n",
      "section: Module 1: Introduction\n",
      "question: Reading large parquet files\n",
      "answer: I have faced a problem while reading the large parquet file. I tried some workarounds but they were NOT successful with Jupyter.\n",
      "The error message is:\n",
      "IndexError: index 311297 is out of bounds for axis 0 with size 131743\n",
      "I solved it by performing the homework directly as a python script.\n",
      "Added by Ibraheem Taha (ibraheemtaha91@gmail.com)\n",
      "You can try using the Pyspark library\n",
      "Answered by kamaldeen (kamaldeen32@gmail.com)\n",
      "\n",
      "section: Module 1: Introduction\n",
      "question: How to replace distplot with histplot\n",
      "answer: sns.distplot(df_train[\"duration\"])\n",
      "Can be replaced with\n",
      "sns.histplot(\n",
      "df_train[\"duration\"] , kde=True,\n",
      "stat=\"density\", kde_kws=dict(cut=3), bins=50,\n",
      "alpha=.4, edgecolor=(1, 1, 1, 0.4),\n",
      ")\n",
      "To get almost identical result\n",
      "\n",
      "section: Module 4: Deployment\n",
      "question: Pipenv with Jupyter\n",
      "answer: Problem description. How can we use Jupyter notebooks with the Pipenv environment?\n",
      "Solution: Refer to this stackoverflow question. Basically install jupyter and ipykernel using pipenv. And then register the kernel with `python -m ipykernel install --user --name=my-virtualenv-name` inside the Pipenv shell. If you are using Jupyter notebooks in VS Code, doing this will also add the virtual environment in the list of kernels.\n",
      "Added by Ron Medina\n",
      "\n",
      "section: General course questions\n",
      "question: Course - How do I start?\n",
      "answer: No matter if you're with a 'live' cohort or follow on the self-paced mode, the way to start is similar:\n",
      "see what things are where by reading  pins and  bookmarks on the course-channel\n",
      "reading the repo (bookmarked in channel) and watching the video lessons (playlist bookmarked in channel)\n",
      "if have questions, search the channel itself first; someone may have already asked and gotten a solution\n",
      "if don't want to comb through the search results, read  for the most Frequently Asked Questions (this document)\n",
      "if don't even want to read/skim/search (use ctrl+F) the questions in FAQ doc, tag the @ZoomcampQABot when you ask questions, and it will summarize it for you (if answers in its knowledge-base)\n",
      "For generic, non-zoomcamp queries, you can also ask ChatGPT/BingCopilot/GoogleGemini/etc, especially for error messages\n",
      "check if you're on track by checking the deadlines (in Course Management form for Homework submissions)\n",
      "main difference of not being in a “live” cohort is that the responses to your questions might be delayed as not many active students come online anymore. Which is not an issue if you do your own due diligence and search for answers first or reading the documentation of the library.\n",
      "If you do need to ask questions when no answers supplied in resources above have helped, follow the asking-questions.md (bookmarked in channel) guidelines, also in Pins…\n"
     ]
    }
   ],
   "source": [
    "print(prompt)"
   ]
  },
  {
   "cell_type": "code",
   "execution_count": 90,
   "id": "d69ac5c5-cb09-47e0-b89f-297d092cc016",
   "metadata": {},
   "outputs": [
    {
     "data": {
      "text/plain": [
       "'I can help you with that! \\n\\nUnfortunately, there is no mention of parsing document files with Python in the given context. However, we can see that there is a mention of reading large parquet files with Pyspark library.\\n\\nSo, my answer would be: Not FOUND in the context given\\n\\nReason: The topic of parsing document files with Python was not discussed in the provided context.'"
      ]
     },
     "execution_count": 90,
     "metadata": {},
     "output_type": "execute_result"
    }
   ],
   "source": [
    "client = Groq(\n",
    "    api_key=os.getenv(\"GROQ_API_KEY\"),\n",
    ")\n",
    "\n",
    "response = client.chat.completions.create(\n",
    "    messages=[\n",
    "        {\n",
    "            \"role\": \"user\",\n",
    "            \"content\": prompt,\n",
    "        }\n",
    "    ],\n",
    "    model=\"llama3-8b-8192\",\n",
    ")\n",
    "response.choices[0].message.content"
   ]
  },
  {
   "cell_type": "code",
   "execution_count": null,
   "id": "ce318635-02e5-4ff5-b8b1-bb43c64dfcc2",
   "metadata": {},
   "outputs": [],
   "source": []
  },
  {
   "cell_type": "code",
   "execution_count": null,
   "id": "dcef80e5-4339-471a-9d21-e8d66ac7e3ec",
   "metadata": {},
   "outputs": [],
   "source": []
  }
 ],
 "metadata": {
  "kernelspec": {
   "display_name": "Python 3 (ipykernel)",
   "language": "python",
   "name": "python3"
  },
  "language_info": {
   "codemirror_mode": {
    "name": "ipython",
    "version": 3
   },
   "file_extension": ".py",
   "mimetype": "text/x-python",
   "name": "python",
   "nbconvert_exporter": "python",
   "pygments_lexer": "ipython3",
   "version": "3.10.14"
  }
 },
 "nbformat": 4,
 "nbformat_minor": 5
}
