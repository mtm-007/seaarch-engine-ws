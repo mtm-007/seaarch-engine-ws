{
 "cells": [
  {
   "cell_type": "code",
   "execution_count": 1,
   "id": "a80d74b2-cd7d-449a-b847-972998d54305",
   "metadata": {},
   "outputs": [],
   "source": [
    "from openai import OpenAI\n",
    "\n",
    "client =  OpenAI(\n",
    "    base_url = \"http://localhost:11434/v1\",\n",
    "    api_key = \"ollama\"\n",
    ")"
   ]
  },
  {
   "cell_type": "code",
   "execution_count": 2,
   "id": "dcda898a-3389-4a41-9cf2-96c109aa6706",
   "metadata": {},
   "outputs": [],
   "source": [
    "from elasticsearch import Elasticsearch"
   ]
  },
  {
   "cell_type": "code",
   "execution_count": 3,
   "id": "29d26e34-739c-4911-b9c5-ce2a278b778e",
   "metadata": {},
   "outputs": [],
   "source": [
    "es_client = Elasticsearch(\"http://localhost:9200\")"
   ]
  },
  {
   "cell_type": "code",
   "execution_count": null,
   "id": "1d8de332-c7ca-4cce-ae48-656144113f75",
   "metadata": {},
   "outputs": [],
   "source": [
    "index_Settings = {\n",
    "    \"settings\": {\n",
    "        \"number_of_shards\": 1,\n",
    "        \"number_of_replicas\": 0\n",
    "    },\n",
    "    \"mappings\": {\n",
    "        \"properties\": {\n",
    "            \"text\": {\"type\": \"text\"},\n",
    "            \"section\": {\"type\": \"text\"},\n",
    "            \"question\": {\"type\": \"text\"},\n",
    "            \"course\": {\"type\": \"keyword\"} \n",
    "        }\n",
    "    }\n",
    "}\n",
    "\n",
    "index_name = \"course_faq_questions\" #must be lowercase\n",
    "\n",
    "#create an index, only run one time as it is persistent\n",
    "es_client.indices.create(index= index_name, body=index_Settings)\n"
   ]
  },
  {
   "cell_type": "code",
   "execution_count": 8,
   "id": "2899f4fb-e249-43c4-9d4f-0eb3bf5f8dd9",
   "metadata": {},
   "outputs": [],
   "source": [
    "import requests\n",
    "\n",
    "docs_url = 'https://github.com/DataTalksClub/llm-zoomcamp/blob/main/01-intro/documents.json?raw=1'\n",
    "docs_response = requests.get(docs_url)\n",
    "documents_raw = docs_response.json()\n",
    "\n",
    "documents = []\n",
    "\n",
    "for course in documents_raw:\n",
    "    course_name = course['course']\n",
    "\n",
    "    for doc in course['documents']:\n",
    "        doc['course'] = course_name\n",
    "        documents.append(doc)"
   ]
  },
  {
   "cell_type": "code",
   "execution_count": 9,
   "id": "f8f22ec3-280b-4996-8e99-beb2d376fb25",
   "metadata": {},
   "outputs": [
    {
     "data": {
      "text/plain": [
       "{'text': \"The purpose of this document is to capture frequently asked technical questions\\nThe exact day and hour of the course will be 15th Jan 2024 at 17h00. The course will start with the first  “Office Hours'' live.1\\nSubscribe to course public Google Calendar (it works from Desktop only).\\nRegister before the course starts using this link.\\nJoin the course Telegram channel with announcements.\\nDon’t forget to register in DataTalks.Club's Slack and join the channel.\",\n",
       " 'section': 'General course-related questions',\n",
       " 'question': 'Course - When will the course start?',\n",
       " 'course': 'data-engineering-zoomcamp'}"
      ]
     },
     "execution_count": 9,
     "metadata": {},
     "output_type": "execute_result"
    }
   ],
   "source": [
    "documents[0]"
   ]
  },
  {
   "cell_type": "code",
   "execution_count": 10,
   "id": "73ee85bf-5191-4b8f-b0b6-a3f90bb00000",
   "metadata": {},
   "outputs": [
    {
     "name": "stderr",
     "output_type": "stream",
     "text": [
      "/home/codespace/.local/lib/python3.10/site-packages/tqdm/auto.py:21: TqdmWarning: IProgress not found. Please update jupyter and ipywidgets. See https://ipywidgets.readthedocs.io/en/stable/user_install.html\n",
      "  from .autonotebook import tqdm as notebook_tqdm\n"
     ]
    }
   ],
   "source": [
    "from tqdm.auto import tqdm"
   ]
  },
  {
   "cell_type": "code",
   "execution_count": 11,
   "id": "23db432e-fb72-426e-8b03-c397b52f07f0",
   "metadata": {},
   "outputs": [
    {
     "name": "stderr",
     "output_type": "stream",
     "text": [
      "100%|████████████████████████████████████████████████████████████████████████| 948/948 [00:20<00:00, 45.23it/s]\n"
     ]
    }
   ],
   "source": [
    "for doc in tqdm(documents):\n",
    "    es_client.index(index=index_name, document=doc)"
   ]
  },
  {
   "cell_type": "code",
   "execution_count": 13,
   "id": "0f2c9197-0f25-4660-9c23-3b40253053ea",
   "metadata": {},
   "outputs": [],
   "source": [
    "def elastic_search(query):\n",
    "    search_query = {\n",
    "        \"size\": 5,\n",
    "        \"query\": {\n",
    "            \"bool\": {\n",
    "                \"must\": {\n",
    "                    \"multi_match\": {\n",
    "                        \"query\": query,\n",
    "                        \"fields\": [\"question^3\", \"text\", \"section\"],\n",
    "                        \"type\": \"best_fields\"\n",
    "                    }\n",
    "                },\n",
    "                \"filter\": {\n",
    "                    \"term\": {\n",
    "                        \"course\": \"data-engineering-zoomcamp\"\n",
    "                    }\n",
    "                }\n",
    "            }\n",
    "        }\n",
    "    }\n",
    "\n",
    "    response = es_client.search(index= index_name, body= search_query)     \n",
    "    \n",
    "    hits_results = []\n",
    "    for hit in response['hits']['hits']:\n",
    "        hits_results.append(hit['_source'])\n",
    "    \n",
    "    return hits_results"
   ]
  },
  {
   "cell_type": "code",
   "execution_count": 14,
   "id": "af837e72-68d0-4ce0-8764-9d8aaa228fff",
   "metadata": {},
   "outputs": [],
   "source": [
    "def build_prompt(query, search_results):\n",
    "    prompt_template = \"\"\" \n",
    "You are an expert machine learning and mlops engineering helping a junior engineer as an assitant and guide. \n",
    "Answer the QUESTION based on the CONTEXT from the FAQ database.\n",
    "Use only the facts from the CONTEXT when answering. DO NOT USE OTHER CONTENT OTHER THAN GIVEN CONTEXT!\n",
    "if the CONTEXT does not contain the answer, Output \"Not FOUND in the context given\" and explain your answer with reasons.\n",
    "\n",
    "QUESTION: {question}\n",
    "\n",
    "CONTEXT: {context}\n",
    "\"\"\".strip()\n",
    "\n",
    "    context = \"\"\n",
    "    \n",
    "    for doc in search_results:\n",
    "        context = context + f\"section: {doc['section']}\\nquestion: {doc['question']}\\nanswer: {doc['text']}\\n\\n\"\n",
    "    \n",
    "    prompt = prompt_template.format(question=query, context=context).strip()\n",
    "    return prompt"
   ]
  },
  {
   "cell_type": "code",
   "execution_count": 15,
   "id": "be29c5f3-3916-4f2b-8064-1e77bcea1742",
   "metadata": {},
   "outputs": [],
   "source": [
    "def llm_call(prompt):\n",
    "\n",
    "    response = client.chat.completions.create(\n",
    "    messages=[{\"role\": \"user\", \"content\": prompt,}],\n",
    "    model=\"gemma2:2b\",\n",
    ")\n",
    "    return response.choices[0].message.content"
   ]
  },
  {
   "cell_type": "code",
   "execution_count": 16,
   "id": "acd2e00a-0037-4130-8982-c8b23031ef94",
   "metadata": {},
   "outputs": [],
   "source": [
    "def rag_with_elastic(query):\n",
    "    \n",
    "    search_results = elastic_search(query)\n",
    "    Prompt = build_prompt(query, search_results)\n",
    "    answer = llm_call(Prompt)\n",
    "    return answer"
   ]
  },
  {
   "cell_type": "code",
   "execution_count": 18,
   "id": "fc227047-7e0d-41f3-afbe-3fc71292e13a",
   "metadata": {},
   "outputs": [],
   "source": [
    "query = \"How do I Run Kafka for first time?\""
   ]
  },
  {
   "cell_type": "code",
   "execution_count": 19,
   "id": "431c3e56-72b0-4171-bac5-d48f0f58db7c",
   "metadata": {},
   "outputs": [
    {
     "name": "stdout",
     "output_type": "stream",
     "text": [
      "This context describes how to create a Kafka Producer application, but it does not discuss installing Kafka or its deployment.  Let's break down the information provided:\n",
      "\n",
      "\n",
      "**Understanding the Context:**\n",
      "\n",
      "* **Focus on Kafka Producer Application:** This guide provides instructions for creating and running the `JsonProducer` Java code within the project directory. \n",
      "* **Java Implementation:** The context mentions building a Java application using the `JsonProducer.java` file.\n",
      "* **Project Execution:** It calls for execution of a Java program: `java -cp build/libs/<jar_name>-1.0-SNAPSHOT.jar:out src/main/java/org/example/JsonProducer.java`.   \n",
      "\n",
      "\n",
      "\n",
      "\n",
      "**Reasons Why This Information Alone Is Insufficient to Answer \"How do I Run Kafka for first time\"**\n",
      "\n",
      "*  Kafka is a distributed streaming platform, not just a Java application. To utilize its features, you need a more complete setup that involves:\n",
      "    * **Installation:** Setting up the necessary software to handle Kafka's components. This includes installing Apache Kafka itself and potentially other tools like ZooKeeper (for ensuring distributed consistency) \n",
      "    * **Configuration of Kafka Server:** You create a server that manages data streams between nodes, including topic configuration.  \n",
      "    * **Producer/Consumer Setup:** It is crucial to have separate consumers and producers that interact with the topics in Kafka.   \n",
      "\n",
      "* The context you provided emphasizes Java code development for applications on  Kafka's platform - this does NOT mean we can automatically jump to deployment without more steps! \n",
      "\n",
      "\n",
      "\n",
      "Let me know if you require assistance with a different aspect or step of Kafka setup – I can guide you through related details!\n"
     ]
    }
   ],
   "source": [
    "rag_with_elastic(query)"
   ]
  },
  {
   "cell_type": "code",
   "execution_count": null,
   "id": "47a0c5e9-5d2a-4414-bc16-082d20c159a7",
   "metadata": {},
   "outputs": [],
   "source": []
  }
 ],
 "metadata": {
  "kernelspec": {
   "display_name": "Python 3 (ipykernel)",
   "language": "python",
   "name": "python3"
  },
  "language_info": {
   "codemirror_mode": {
    "name": "ipython",
    "version": 3
   },
   "file_extension": ".py",
   "mimetype": "text/x-python",
   "name": "python",
   "nbconvert_exporter": "python",
   "pygments_lexer": "ipython3",
   "version": "3.10.13"
  }
 },
 "nbformat": 4,
 "nbformat_minor": 5
}
