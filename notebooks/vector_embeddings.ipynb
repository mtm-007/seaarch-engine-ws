{
 "cells": [
  {
   "cell_type": "code",
   "execution_count": 12,
   "id": "43f7d3f4-bded-4ec4-acc7-5a1e489d0cae",
   "metadata": {},
   "outputs": [],
   "source": [
    "import json"
   ]
  },
  {
   "cell_type": "code",
   "execution_count": null,
   "id": "e0fd43f8-55f0-4ea6-8eaf-57b5a6ed33a5",
   "metadata": {},
   "outputs": [],
   "source": []
  },
  {
   "cell_type": "code",
   "execution_count": 13,
   "id": "240c6e91-1d39-4b43-b23e-19be5dd8b2d0",
   "metadata": {},
   "outputs": [],
   "source": [
    "with open('documents.json', 'rt') as f_in:\n",
    "    docs_raw = json.load(f_in)\n",
    "\n",
    "\n",
    "documents = []\n",
    "\n",
    "for course_dict in docs_raw:\n",
    "    for doc in course_dict['documents']:\n",
    "        doc['course'] = course_dict['course']\n",
    "        documents.append(doc)"
   ]
  },
  {
   "cell_type": "code",
   "execution_count": 14,
   "id": "96bed7f2-8b4c-472a-a6ed-00383f19c10e",
   "metadata": {},
   "outputs": [
    {
     "data": {
      "text/plain": [
       "{'text': \"dThe purpose of this document is to capture frequently asked technical questions\\nThe next cohort starts in Jan 2025. More info at DTC Article.\\nRegister before the course starts using this link.\\nJoin the course Telegram channel with announcements.\\nDon’t forget to register in DataTalks.Club's Slack and join the channel.\",\n",
       " 'section': 'General course-related questions',\n",
       " 'question': 'Course - When will the course start？',\n",
       " 'course': 'data-engineering-zoomcamp'}"
      ]
     },
     "execution_count": 14,
     "metadata": {},
     "output_type": "execute_result"
    }
   ],
   "source": [
    "documents[0]"
   ]
  },
  {
   "cell_type": "markdown",
   "id": "1df23414-fdb2-4468-a24c-883dc3fe4e93",
   "metadata": {},
   "source": [
    "### Create embedding with a pre-trained model"
   ]
  },
  {
   "cell_type": "code",
   "execution_count": 15,
   "id": "45261294-d65e-4134-b4f3-aa06573dbbff",
   "metadata": {},
   "outputs": [
    {
     "name": "stderr",
     "output_type": "stream",
     "text": [
      "/home/codespace/.local/lib/python3.10/site-packages/transformers/tokenization_utils_base.py:1601: FutureWarning: `clean_up_tokenization_spaces` was not set. It will be set to `True` by default. This behavior will be depracted in transformers v4.45, and will be then set to `False` by default. For more details check this issue: https://github.com/huggingface/transformers/issues/31884\n",
      "  warnings.warn(\n"
     ]
    }
   ],
   "source": [
    "from sentence_transformers import SentenceTransformer\n",
    "\n",
    "model = SentenceTransformer(\"all-MiniLM-L6-v2\")"
   ]
  },
  {
   "cell_type": "code",
   "execution_count": 16,
   "id": "d2c268c9-3c08-4b11-95f4-55f2f10f546a",
   "metadata": {},
   "outputs": [],
   "source": [
    "indexd_text =[]\n",
    "\n",
    "for doc in documents:\n",
    "    doc['text_vector'] = model.encode(doc['text']).tolist()\n",
    "    indexd_text.append(doc)"
   ]
  },
  {
   "cell_type": "markdown",
   "id": "2d9ac410-d287-495f-b375-cb0af7740b65",
   "metadata": {},
   "source": [
    "#### Elastic search connection"
   ]
  },
  {
   "cell_type": "code",
   "execution_count": 24,
   "id": "3eb3c3e7-eedf-4a04-92d8-93ee112abe31",
   "metadata": {},
   "outputs": [
    {
     "data": {
      "text/plain": [
       "ObjectApiResponse({'name': '934a4bc7a925', 'cluster_name': 'docker-cluster', 'cluster_uuid': 'UGFBXMLRQrqh9_e0sByKvA', 'version': {'number': '8.4.3', 'build_flavor': 'default', 'build_type': 'docker', 'build_hash': '42f05b9372a9a4a470db3b52817899b99a76ee73', 'build_date': '2022-10-04T07:17:24.662462378Z', 'build_snapshot': False, 'lucene_version': '9.3.0', 'minimum_wire_compatibility_version': '7.17.0', 'minimum_index_compatibility_version': '7.0.0'}, 'tagline': 'You Know, for Search'})"
      ]
     },
     "execution_count": 24,
     "metadata": {},
     "output_type": "execute_result"
    }
   ],
   "source": [
    "from elasticsearch import Elasticsearch\n",
    "\n",
    "#here elastic search is set up docker\n",
    "es_client = Elasticsearch('http://localhost:9200')\n",
    "\n",
    "es_client.info()"
   ]
  },
  {
   "cell_type": "markdown",
   "id": "72797dae-d679-491c-95e4-b0776e1e6782",
   "metadata": {},
   "source": [
    "## Create mapping and index"
   ]
  },
  {
   "cell_type": "code",
   "execution_count": 21,
   "id": "8e1aa8c4-a7b9-4805-b94a-b719f5ecdc81",
   "metadata": {},
   "outputs": [],
   "source": [
    "index_settings = {\n",
    "    \"settings\": {\n",
    "        \"number_of_shards\": 1,\n",
    "        \"number_of_replicas\": 0,\n",
    "},\n",
    "    \"mappings\": {\n",
    "        \"properties\": {\n",
    "            \"text\" : {\"type\": \"text\"},\n",
    "            \"section\" : {\"type\": \"text\"},\n",
    "            \"question\" : {\"type\" : \"text\"},\n",
    "            \"course\": {\"type\" : \"keyword\"},\n",
    "            \"text_vector\": {\"type\" :\"dense_vector\", \"dims\": 384, \"index\": True, \"similarity\": \"cosine\"},\n",
    "            \n",
    "        }\n",
    "    }\n",
    "}"
   ]
  },
  {
   "cell_type": "markdown",
   "id": "51b8d883-8eac-4306-adcf-ee21d936c3fe",
   "metadata": {},
   "source": [
    "## Best Practise Note\n",
    "- as a best practice after updating or indexing or reindex   \n",
    "- first delete (if there is with the same name) to avoid error  "
   ]
  },
  {
   "cell_type": "code",
   "execution_count": 22,
   "id": "bcfebaa2-300b-47c8-989b-e24a55d6ba47",
   "metadata": {},
   "outputs": [
    {
     "data": {
      "text/plain": [
       "ObjectApiResponse({'acknowledged': True, 'shards_acknowledged': True, 'index': 'course-questions'})"
      ]
     },
     "execution_count": 22,
     "metadata": {},
     "output_type": "execute_result"
    }
   ],
   "source": [
    "index_name = \"course-questions\"\n",
    "\n",
    "#as a best practice after updating or indexing or reindex first delete (if there is with the same name) to avoid error\n",
    "es_client.indices.delete(index=index_name, ignore_unavailable=True)\n",
    "es_client.indices.create(index=index_name, body= index_settings)"
   ]
  },
  {
   "cell_type": "markdown",
   "id": "5f09dcc3-3b31-4966-b084-a49619e3fe19",
   "metadata": {},
   "source": [
    "## add document to index (aka elastic search)\n",
    "- for every document push into the index db"
   ]
  },
  {
   "cell_type": "code",
   "execution_count": 23,
   "id": "4cf64201-0642-4390-90cf-7f7ae0622106",
   "metadata": {},
   "outputs": [],
   "source": [
    "for doc in indexd_text:\n",
    "    try:\n",
    "        es_client.index(index=index_name, document=doc)\n",
    "    except Exception as e:\n",
    "        print(e)"
   ]
  },
  {
   "cell_type": "code",
   "execution_count": 27,
   "id": "93f2e8ca-e6c6-42d1-a7e2-b19349c2bf76",
   "metadata": {},
   "outputs": [],
   "source": [
    "query_term = \" Tensorflow or Pytorch\"\n",
    "query_vector_term = model.encode(query_term)"
   ]
  },
  {
   "cell_type": "code",
   "execution_count": 28,
   "id": "508a9572-f9fc-4b7e-b4c6-153ffa5854c5",
   "metadata": {},
   "outputs": [],
   "source": [
    "query = {\n",
    "    \"field\": \"text_vector\",\n",
    "    \"query_vector\" : query_vector_term,\n",
    "    \"k\" : 5,\n",
    "    \"num_candidates\" : 10000,\n",
    "}"
   ]
  },
  {
   "cell_type": "code",
   "execution_count": 29,
   "id": "348a1e24-e371-427c-ac8e-4fdd2c847748",
   "metadata": {},
   "outputs": [
    {
     "data": {
      "text/plain": [
       "[{'_index': 'course-questions',\n",
       "  '_id': 'm5QzWpEBOrmxiPAXaDbs',\n",
       "  '_score': 0.79801464,\n",
       "  '_source': {'question': 'Can we use pytorch for this lesson/homework ?',\n",
       "   'course': 'machine-learning-zoomcamp',\n",
       "   'section': '8. Neural Networks and Deep Learning',\n",
       "   'text': 'Pytorch is also a deep learning framework that allows to do equivalent tasks as keras. Here is a tutorial to create a CNN from scratch using pytorch :\\nhttps://blog.paperspace.com/writing-cnns-from-scratch-in-pytorch/\\nThe functions have similar goals. The syntax can be slightly different. For the lessons and the homework, we use keras, but one can feel free to make a pull request with the equivalent with pytorch for lessons and homework!\\nMélanie Fouesnard'}},\n",
       " {'_index': 'course-questions',\n",
       "  '_id': 'u5QzWpEBOrmxiPAXazbB',\n",
       "  '_score': 0.76735115,\n",
       "  '_source': {'question': 'Using Tensorflow 2.15 for AWS deployment',\n",
       "   'course': 'machine-learning-zoomcamp',\n",
       "   'section': '9. Serverless Deep Learning',\n",
       "   'text': 'Using the 2.14 version with python 3.11 works fine.\\nIn case it doesn’t work, I tried with tensorflow 2.4.4 whl, however, make sure to run it on top of supported python versions like 3.8, else there will be issues installing tf==2.4.4\\nAdded by Abhijit Chakraborty'}},\n",
       " {'_index': 'course-questions',\n",
       "  '_id': 'xJQzWpEBOrmxiPAXbDaK',\n",
       "  '_score': 0.74491036,\n",
       "  '_source': {'question': 'How to install Tensorflow in Ubuntu WSL2',\n",
       "   'course': 'machine-learning-zoomcamp',\n",
       "   'section': '10. Kubernetes and TensorFlow Serving',\n",
       "   'text': 'Running a CNN on your CPU can take a long time and once you’ve run out of free time on some cloud providers, it’s time to pay up. Both can be tackled by installing tensorflow with CUDA support on your local machine if you have the right hardware.\\nI was able to get it working by using the following resources:\\nCUDA on WSL :: CUDA Toolkit Documentation (nvidia.com)\\nInstall TensorFlow with pip\\nStart Locally | PyTorch\\nI included the link to PyTorch so that you can get that one installed and working too while everything is fresh on your mind. Just select your options, and for Computer Platform, I chose CUDA 11.7 and it worked for me.\\nAdded by Martin Uribe'}},\n",
       " {'_index': 'course-questions',\n",
       "  '_id': 'jJQzWpEBOrmxiPAXZzaZ',\n",
       "  '_score': 0.73459923,\n",
       "  '_source': {'question': 'How to install CUDA & cuDNN on Ubuntu 22.04',\n",
       "   'course': 'machine-learning-zoomcamp',\n",
       "   'section': '8. Neural Networks and Deep Learning',\n",
       "   'text': 'In order to run tensorflow with gpu on your local machine you’ll need to setup cuda and cudnn.\\nThe process can be overwhelming. Here’s a simplified guide\\nOsman Ali'}},\n",
       " {'_index': 'course-questions',\n",
       "  '_id': 'wZQzWpEBOrmxiPAXbDZI',\n",
       "  '_score': 0.71593344,\n",
       "  '_source': {'question': '\"Unable to import module \\'lambda_function\\': No module named \\'tensorflow\\'\" when run python test.py',\n",
       "   'course': 'machine-learning-zoomcamp',\n",
       "   'section': '9. Serverless Deep Learning',\n",
       "   'text': 'Make sure all codes in test.py dont have any dependencies with tensorflow library. One of most common reason that lead the this error is tflite still imported from tensorflow. Change import tensorflow.lite as tflite to import tflite_runtime.interpreter as tflite\\nAdded by Ryan Pramana'}}]"
      ]
     },
     "execution_count": 29,
     "metadata": {},
     "output_type": "execute_result"
    }
   ],
   "source": [
    "result = es_client.search(index=index_name, knn=query, source=[\"text\",\"section\",\"question\",\"course\"])\n",
    "result[\"hits\"][\"hits\"]"
   ]
  },
  {
   "cell_type": "markdown",
   "id": "9ab0e431-6132-49aa-9bab-f82ca2b1bb47",
   "metadata": {},
   "source": [
    "### keyword search with elastic search"
   ]
  },
  {
   "cell_type": "code",
   "execution_count": 31,
   "id": "b45dca16-fdbd-4427-a0c9-e51981b26ecc",
   "metadata": {},
   "outputs": [],
   "source": [
    "response = es_client.search(\n",
    "    index= index_name,\n",
    "    query= {\n",
    "        \"bool\" : {\n",
    "            \"must\" : {\n",
    "                \"multi_match\": {\n",
    "                    \"query\" : \"Is pytorch better than Tensorflow\",\n",
    "                    \"fields\" : [\"text\", \"section\", \"question\", \"course\"],\n",
    "                    \"type\" : \"best_fields\"\n",
    "                                }\n",
    "                    },\n",
    "            \"filter\" :{\n",
    "                \"term\" : { \"course\" : \"machine-learning-zoomcamp\" }\n",
    "                      }\n",
    "                }\n",
    "            }\n",
    ")"
   ]
  },
  {
   "cell_type": "code",
   "execution_count": null,
   "id": "0b03ba8e-cb6e-44ef-a675-5e87879d44e3",
   "metadata": {},
   "outputs": [],
   "source": [
    "response[\"hits\"][\"hits\"]"
   ]
  },
  {
   "cell_type": "code",
   "execution_count": 35,
   "id": "1198ecc2-d81e-46d8-b954-21cff993e830",
   "metadata": {},
   "outputs": [],
   "source": [
    "knn_query = {\n",
    "    \"field\": \"text_vector\",\n",
    "    \"query_vector\" : query_vector_term,\n",
    "    \"k\" : 5,\n",
    "    \"num_candidates\" : 10000,\n",
    "}\n",
    "\n",
    "response = es_client.search(\n",
    "    index= index_name,\n",
    "    query = {\n",
    "        \"match\" : {\n",
    "            \"course\" : \"machine-learning-zoomcamp\"\n",
    "        }\n",
    "    },\n",
    "    knn = knn_query,\n",
    "    size = 5,\n",
    "    explain=True\n",
    ")"
   ]
  },
  {
   "cell_type": "code",
   "execution_count": null,
   "id": "34fe3a91-a3d0-4df0-88f2-6637341bdd9e",
   "metadata": {},
   "outputs": [],
   "source": [
    "response[\"hits\"][\"hits\"]"
   ]
  },
  {
   "cell_type": "code",
   "execution_count": null,
   "id": "31ef5d2f-ff32-4f5b-981b-522ed2aff88c",
   "metadata": {},
   "outputs": [],
   "source": []
  }
 ],
 "metadata": {
  "kernelspec": {
   "display_name": "Python 3 (ipykernel)",
   "language": "python",
   "name": "python3"
  },
  "language_info": {
   "codemirror_mode": {
    "name": "ipython",
    "version": 3
   },
   "file_extension": ".py",
   "mimetype": "text/x-python",
   "name": "python",
   "nbconvert_exporter": "python",
   "pygments_lexer": "ipython3",
   "version": "3.12.1"
  }
 },
 "nbformat": 4,
 "nbformat_minor": 5
}
