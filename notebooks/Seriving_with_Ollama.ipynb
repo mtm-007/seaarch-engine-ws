{
 "cells": [
  {
   "cell_type": "markdown",
   "id": "5b03c8c9-8944-4b1c-ac98-0ec8ed77c137",
   "metadata": {},
   "source": [
    "### chatcompletition, Prompt Template, LLM api call"
   ]
  },
  {
   "cell_type": "code",
   "execution_count": 1,
   "id": "0d37691a-cd42-4f3c-a621-db1563d82914",
   "metadata": {},
   "outputs": [],
   "source": [
    "import minsearch\n",
    "import json\n",
    "import os"
   ]
  },
  {
   "cell_type": "code",
   "execution_count": 2,
   "id": "973b6fdf-6210-4bd6-b23c-5c4a450d4135",
   "metadata": {},
   "outputs": [
    {
     "data": {
      "text/plain": [
       "<minsearch.Index at 0x792675c372b0>"
      ]
     },
     "execution_count": 2,
     "metadata": {},
     "output_type": "execute_result"
    }
   ],
   "source": [
    "with open('documents.json', 'rt') as f_in:\n",
    "    docs_raw = json.load(f_in)\n",
    "\n",
    "documents=[]\n",
    "\n",
    "for course_dict in docs_raw:\n",
    "    for doc in course_dict['documents']:\n",
    "        doc['course'] = course_dict['course']\n",
    "        documents.append(doc)\n",
    "        \n",
    "Index = minsearch.Index(\n",
    "    text_fields = ['question','section','text'],\n",
    "    keyword_fields = ['course']\n",
    ")  \n",
    "\n",
    "Index.fit(documents)"
   ]
  },
  {
   "cell_type": "code",
   "execution_count": 3,
   "id": "ce318635-02e5-4ff5-b8b1-bb43c64dfcc2",
   "metadata": {},
   "outputs": [],
   "source": [
    "def search(query):\n",
    "    boost = {'question': 3, 'section' : 0.4}\n",
    "\n",
    "    results = Index.search(\n",
    "        query=query,\n",
    "        filter_dict={'course':'mlops-zoomcamp'},\n",
    "        boost_dict=boost,\n",
    "        num_results=5\n",
    ")\n",
    "    return results"
   ]
  },
  {
   "cell_type": "code",
   "execution_count": 4,
   "id": "2012a964-1060-46ae-80f4-df245cf0ac41",
   "metadata": {},
   "outputs": [],
   "source": [
    "def build_prompt(query, search_results):\n",
    "    prompt_template = \"\"\" \n",
    "You are an expert machine learning and mlops engineering helping a junior engineer as an assitant and guide. \n",
    "Answer the QUESTION based on the CONTEXT from the FAQ database.\n",
    "Use only the facts from the CONTEXT when answering. DO NOT USE OTHER CONTENT OTHER THAN GIVEN CONTEXT!\n",
    "if the CONTEXT does not contain the answer, Output \"Not FOUND in the context given\" and explain your answer with reasons.\n",
    "\n",
    "QUESTION: {question}\n",
    "\n",
    "CONTEXT: {context}\n",
    "\"\"\".strip()\n",
    "\n",
    "    context = \"\"\n",
    "    \n",
    "    for doc in search_results:\n",
    "        context = context + f\"section: {doc['section']}\\nquestion: {doc['question']}\\nanswer: {doc['text']}\\n\\n\"\n",
    "    \n",
    "    prompt = prompt_template.format(question=query, context=context).strip()\n",
    "    return prompt"
   ]
  },
  {
   "cell_type": "code",
   "execution_count": 5,
   "id": "e49ee04b-9a1c-4e4d-b526-b85a5c7803ce",
   "metadata": {},
   "outputs": [],
   "source": [
    "from openai import OpenAI"
   ]
  },
  {
   "cell_type": "code",
   "execution_count": 6,
   "id": "e7756d4e-ddfd-455b-8b46-838c2c416e22",
   "metadata": {},
   "outputs": [],
   "source": [
    "def llm_call(prompt):\n",
    "    client =  OpenAI(\n",
    "        base_url = \"http://localhost:11434/v1\",\n",
    "        api_key = \"ollama\"\n",
    ")\n",
    "    response = client.chat.completions.create(\n",
    "    messages=[{\"role\": \"user\", \"content\": prompt,}],\n",
    "    model=\"phi3\",\n",
    ")\n",
    "    return response.choices[0].message.content"
   ]
  },
  {
   "cell_type": "code",
   "execution_count": 7,
   "id": "71d5e338-dfc8-4130-9a8f-d0fc01bb9576",
   "metadata": {},
   "outputs": [],
   "source": [
    "\n",
    "def rag(query):\n",
    "    \n",
    "    search_results = search(query)\n",
    "    Prompt = build_prompt(query, search_results)\n",
    "    answer = llm_call(Prompt)\n",
    "    return answer"
   ]
  },
  {
   "cell_type": "code",
   "execution_count": 12,
   "id": "55461b47-1686-4e75-8c77-12bd200eb485",
   "metadata": {},
   "outputs": [
    {
     "data": {
      "text/plain": [
       "'The steps provided to set environment variables for AWS credentials in a docker command are as follows: You should use the `-e` flag with `docker run`, specifying each variable separately after it, like this - assuming your image is named \"homework-04\":\\n\\n```\\ndocker run -it --rm -v ~/.aws:/root/.aws homework-04 \\\\\\n  -e AWS_ACCESS_KEY_ID=xxxxxxxx -e AWS_SECRET_ACCESS_KEY=xxxxx\\n```  \\nor by using the `--env` shorthand for `-e`. This tells Docker to pass these variables as environment variables into your container. Make sure that `homework-04` is replaced with your image name and you input real AWS access key, secret ID etc., when running this command on a secure system or after storing them safely in the `.aws/credentials` file.\\nRemember not to store sensitive data like credentials directly into scripts for security purposes! It\\'s also worth mentioning that some services might require additional setup (like `AWS_SESSION_TOKEN`) which would follow similar steps including passing as environment variables or mount points in the Docker run command with `--env-file`.'"
      ]
     },
     "execution_count": 12,
     "metadata": {},
     "output_type": "execute_result"
    }
   ],
   "source": [
    "rag(\"How to use Kafka and docker?\")"
   ]
  },
  {
   "cell_type": "code",
   "execution_count": 13,
   "id": "644791c6-6664-4a88-aa56-5326f9d322be",
   "metadata": {},
   "outputs": [
    {
     "name": "stdout",
     "output_type": "stream",
     "text": [
      "The steps provided to set environment variables for AWS credentials in a docker command are as follows: You should use the `-e` flag with `docker run`, specifying each variable separately after it, like this - assuming your image is named \"homework-04\":\n",
      "\n",
      "```\n",
      "docker run -it --rm -v ~/.aws:/root/.aws homework-04 \\\n",
      "  -e AWS_ACCESS_KEY_ID=xxxxxxxx -e AWS_SECRET_ACCESS_KEY=xxxxx\n",
      "```  \n",
      "or by using the `--env` shorthand for `-e`. This tells Docker to pass these variables as environment variables into your container. Make sure that `homework-04` is replaced with your image name and you input real AWS access key, secret ID etc., when running this command on a secure system or after storing them safely in the `.aws/credentials` file.\n",
      "Remember not to store sensitive data like credentials directly into scripts for security purposes! It's also worth mentioning that some services might require additional setup (like `AWS_SESSION_TOKEN`) which would follow similar steps including passing as environment variables or mount points in the Docker run command with `--env-file`.\n"
     ]
    }
   ],
   "source": [
    "print(_)"
   ]
  },
  {
   "cell_type": "code",
   "execution_count": null,
   "id": "650cc41b-d6d5-4bcb-80cf-15c3ada2baa1",
   "metadata": {},
   "outputs": [],
   "source": []
  }
 ],
 "metadata": {
  "kernelspec": {
   "display_name": "Python 3 (ipykernel)",
   "language": "python",
   "name": "python3"
  },
  "language_info": {
   "codemirror_mode": {
    "name": "ipython",
    "version": 3
   },
   "file_extension": ".py",
   "mimetype": "text/x-python",
   "name": "python",
   "nbconvert_exporter": "python",
   "pygments_lexer": "ipython3",
   "version": "3.10.13"
  }
 },
 "nbformat": 4,
 "nbformat_minor": 5
}
