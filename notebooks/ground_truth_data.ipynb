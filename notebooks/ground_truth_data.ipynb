{
 "cells": [
  {
   "cell_type": "code",
   "execution_count": 59,
   "id": "9e3a2067-3445-419a-983d-99c9d63e8873",
   "metadata": {},
   "outputs": [],
   "source": [
    "import requests\n",
    "import hashlib\n",
    "from collections import defaultdict\n",
    "import json\n",
    "import os\n",
    "from dotenv import load_dotenv\n",
    "\n",
    "from openai import OpenAI\n",
    "from pathlib import Path\n",
    "from tqdm.auto import tqdm"
   ]
  },
  {
   "cell_type": "code",
   "execution_count": 1,
   "id": "f7742857-7c2c-4834-95e6-5937103a4525",
   "metadata": {},
   "outputs": [],
   "source": [
    "\n",
    "docs_url = 'https://github.com/DataTalksClub/llm-zoomcamp/blob/main/01-intro/documents.json?raw=1'\n",
    "docs_response = requests.get(docs_url)\n",
    "documents_raw = docs_response.json()\n",
    "\n",
    "documents = []\n",
    "\n",
    "for course in documents_raw:\n",
    "    course_name = course['course']\n",
    "\n",
    "    for doc in course['documents']:\n",
    "        doc['course'] = course_name\n",
    "        documents.append(doc)"
   ]
  },
  {
   "cell_type": "code",
   "execution_count": 29,
   "id": "90826c4e-0d04-4764-a097-e4df0c57e59c",
   "metadata": {},
   "outputs": [],
   "source": [
    "def generate_document_id(doc):\n",
    "    #combined = f\"{doc['course']}-{doc['question']}\"\n",
    "    combined = f\"{doc['course']}-{doc['question']}-{doc['text'][:10]}\"\n",
    "    hash_object = hashlib.md5(combined.encode())\n",
    "    hash_hex = hash_object.hexdigest()\n",
    "    document_id = hash_hex[:8]\n",
    "    return document_id"
   ]
  },
  {
   "cell_type": "code",
   "execution_count": 30,
   "id": "e414ab19-4ae7-4c3a-8079-70814450f2ab",
   "metadata": {},
   "outputs": [],
   "source": [
    "for doc in documents:\n",
    "    doc['id'] = generate_document_id(doc)"
   ]
  },
  {
   "cell_type": "code",
   "execution_count": 31,
   "id": "39c1a512-9769-453a-b687-1eb9f77be3f7",
   "metadata": {},
   "outputs": [
    {
     "data": {
      "text/plain": [
       "{'text': \"There are 3 Zoom Camps in a year, as of 2024. However, they are for separate courses:\\nData-Engineering (Jan - Apr)\\nMLOps (May - Aug)\\nMachine Learning (Sep - Jan)\\nThere's only one Data-Engineering Zoomcamp “live” cohort per year, for the certification. Same as for the other Zoomcamps.\\nThey follow pretty much the same schedule for each cohort per zoomcamp. For Data-Engineering it is (generally) from Jan-Apr of the year. If you’re not interested in the Certificate, you can take any zoom camps at any time, at your own pace, out of sync with any “live” cohort.\",\n",
       " 'section': 'General course-related questions',\n",
       " 'question': 'Course - how many Zoomcamps in a year?',\n",
       " 'course': 'data-engineering-zoomcamp',\n",
       " 'id': '2ed9b986'}"
      ]
     },
     "execution_count": 31,
     "metadata": {},
     "output_type": "execute_result"
    }
   ],
   "source": [
    "documents[5]"
   ]
  },
  {
   "cell_type": "code",
   "execution_count": 32,
   "id": "0d912823-b64e-4741-a40e-0552d1bd7057",
   "metadata": {},
   "outputs": [],
   "source": [
    "hashes = defaultdict(list)\n",
    "\n",
    "for doc in documents:\n",
    "    doc_id = doc['id']\n",
    "    hashes[doc_id].append(doc)"
   ]
  },
  {
   "cell_type": "code",
   "execution_count": 33,
   "id": "eee286b4-62a5-4bbf-a6d9-c7b41db4752e",
   "metadata": {},
   "outputs": [
    {
     "data": {
      "text/plain": [
       "(947, 948)"
      ]
     },
     "execution_count": 33,
     "metadata": {},
     "output_type": "execute_result"
    }
   ],
   "source": [
    "len(hashes), len(documents)"
   ]
  },
  {
   "cell_type": "code",
   "execution_count": 34,
   "id": "807fe2b5-a09b-457e-93da-cb884c902b90",
   "metadata": {},
   "outputs": [
    {
     "name": "stdout",
     "output_type": "stream",
     "text": [
      "593f7569 2\n"
     ]
    }
   ],
   "source": [
    "for k, v in hashes.items():\n",
    "    if len(v) > 1:\n",
    "        print(k, len(v)) "
   ]
  },
  {
   "cell_type": "code",
   "execution_count": 35,
   "id": "33becbbc-e72e-4d08-9bf8-e6e4d6e010ad",
   "metadata": {},
   "outputs": [
    {
     "data": {
      "text/plain": [
       "[{'text': \"They both do the same, it's just less typing from the script.\\nAsked by Andrew Katoch, Added by Edidiong Esu\",\n",
       "  'section': '6. Decision Trees and Ensemble Learning',\n",
       "  'question': 'Does it matter if we let the Python file create the server or if we run gunicorn directly?',\n",
       "  'course': 'machine-learning-zoomcamp',\n",
       "  'id': '593f7569'},\n",
       " {'text': \"They both do the same, it's just less typing from the script.\",\n",
       "  'section': '6. Decision Trees and Ensemble Learning',\n",
       "  'question': 'Does it matter if we let the Python file create the server or if we run gunicorn directly?',\n",
       "  'course': 'machine-learning-zoomcamp',\n",
       "  'id': '593f7569'}]"
      ]
     },
     "execution_count": 35,
     "metadata": {},
     "output_type": "execute_result"
    }
   ],
   "source": [
    "hashes['593f7569']"
   ]
  },
  {
   "cell_type": "code",
   "execution_count": 40,
   "id": "d323ec35-22d6-462f-a6f0-49d597f51302",
   "metadata": {},
   "outputs": [],
   "source": [
    "with open('document_with_ids.json', 'wt') as f_out:\n",
    "    json.dump(documents, f_out, indent= 2 )"
   ]
  },
  {
   "cell_type": "code",
   "execution_count": 41,
   "id": "3770aef7-c032-461c-8c6e-1dd2bb6c7b1b",
   "metadata": {},
   "outputs": [
    {
     "name": "stdout",
     "output_type": "stream",
     "text": [
      "[\n",
      "  {\n",
      "    \"text\": \"The purpose of this document is to capture frequently asked technical questions\\nThe exact day and hour of the course will be 15th Jan 2024 at 17h00. The course will start with the first  \\u201cOffice Hours'' live.1\\nSubscribe to course public Google Calendar (it works from Desktop only).\\nRegister before the course starts using this link.\\nJoin the course Telegram channel with announcements.\\nDon\\u2019t forget to register in DataTalks.Club's Slack and join the channel.\",\n",
      "    \"section\": \"General course-related questions\",\n",
      "    \"question\": \"Course - When will the course start?\",\n",
      "    \"course\": \"data-engineering-zoomcamp\",\n",
      "    \"id\": \"c02e79ef\"\n",
      "  },\n",
      "  {\n",
      "    \"text\": \"GitHub - DataTalksClub data-engineering-zoomcamp#prerequisites\",\n"
     ]
    }
   ],
   "source": [
    "!head document_with_ids.json"
   ]
  },
  {
   "cell_type": "code",
   "execution_count": 50,
   "id": "ec6ced7b-a8bd-463a-9e72-9a4d55a18756",
   "metadata": {},
   "outputs": [],
   "source": [
    "from openai import OpenAI\n",
    "\n",
    "\n",
    "#parent_dir = Path(__file__).resolve().parent.parent #does not work for jupyter notebook\n",
    "cwd = os.getcwd()\n",
    "parent_dir = Path(cwd).parent\n",
    "env_path = parent_dir / '.env'\n",
    "\n",
    "load_dotenv(dotenv_path=env_path)\n",
    "key = os.getenv('OPENAI_API_KEY')\n",
    "client = OpenAI(api_key=key)"
   ]
  },
  {
   "cell_type": "code",
   "execution_count": 51,
   "id": "6060ad4b-f2c8-4096-b89f-24abc33b0dc8",
   "metadata": {},
   "outputs": [],
   "source": [
    "prompt_template = \"\"\"\n",
    "You emulate a student who's taking our course.\n",
    "Formulate 5 questions this student might ask based on a FAQ record. The record\n",
    "should contain the answer to the questions, and the questions should be complete and not too short.\n",
    "If possible, use as fewer words as possible from the record. \n",
    "\n",
    "The record:\n",
    "\n",
    "section: {section}\n",
    "question: {question}\n",
    "answer: {text}\n",
    "\n",
    "Provide the output in parsable JSON without using code blocks:\n",
    "\n",
    "[\"question1\", \"question2\", ..., \"question5\"]\n",
    "\"\"\".strip()"
   ]
  },
  {
   "cell_type": "code",
   "execution_count": 52,
   "id": "d1551dcc-9f46-40ec-9701-0cb4ec06d0a0",
   "metadata": {},
   "outputs": [
    {
     "name": "stdout",
     "output_type": "stream",
     "text": [
      "You emulate a student who's taking our course.\n",
      "Formulate 5 questions this student might ask based on a FAQ record. The record\n",
      "should contain the answer to the questions, and the questions should be complete and not too short.\n",
      "If possible, use as fewer words as possible from the record. \n",
      "\n",
      "The record:\n",
      "\n",
      "section: General course-related questions\n",
      "question: Course - Can I still join the course after the start date?\n",
      "answer: Yes, even if you don't register, you're still eligible to submit the homeworks.\n",
      "Be aware, however, that there will be deadlines for turning in the final projects. So don't leave everything for the last minute.\n",
      "\n",
      "Provide the output in parsable JSON without using code blocks:\n",
      "\n",
      "[\"question1\", \"question2\", ..., \"question5\"]\n"
     ]
    }
   ],
   "source": [
    "doc = documents[2]\n",
    "prompt = prompt_template.format(**doc)\n",
    "print(prompt)"
   ]
  },
  {
   "cell_type": "code",
   "execution_count": 55,
   "id": "30eabcee-2b45-468f-a36c-0feb78ff03f2",
   "metadata": {},
   "outputs": [
    {
     "data": {
      "text/plain": [
       "'[\"Is it possible to enroll in the course once it has already started?\", \"What happens if I miss the registration deadline for the course?\", \"Am I allowed to submit homework even if I join late?\", \"Are there specific deadlines I need to remember for the final projects?\", \"What should I keep in mind regarding project submissions as the course progresses?\"]'"
      ]
     },
     "execution_count": 55,
     "metadata": {},
     "output_type": "execute_result"
    }
   ],
   "source": [
    "response = client.chat.completions.create(\n",
    "        model = 'gpt-4o-mini',\n",
    "        messages = [{\"role\": \"user\", \"content\": prompt}]\n",
    "    )\n",
    "\n",
    "json_response = response.choices[0].message.content\n",
    "json_response\n"
   ]
  },
  {
   "cell_type": "code",
   "execution_count": 56,
   "id": "e5d5e731-449a-47a7-8291-30820d372508",
   "metadata": {},
   "outputs": [
    {
     "data": {
      "text/plain": [
       "['Is it possible to enroll in the course once it has already started?',\n",
       " 'What happens if I miss the registration deadline for the course?',\n",
       " 'Am I allowed to submit homework even if I join late?',\n",
       " 'Are there specific deadlines I need to remember for the final projects?',\n",
       " 'What should I keep in mind regarding project submissions as the course progresses?']"
      ]
     },
     "execution_count": 56,
     "metadata": {},
     "output_type": "execute_result"
    }
   ],
   "source": [
    "json.loads(json_response)"
   ]
  },
  {
   "cell_type": "code",
   "execution_count": 66,
   "id": "595d1560-1947-4cd0-b41a-0e99acfb0063",
   "metadata": {},
   "outputs": [],
   "source": [
    "def generate_questions(doc):\n",
    "    prompt = prompt_template.format(**doc)\n",
    "\n",
    "    response = client.chat.completions.create(\n",
    "        model = 'gpt-4o-mini',\n",
    "        messages = [{\"role\": \"user\", \"content\": prompt}]\n",
    "    )\n",
    "\n",
    "    json_response = response.choices[0].message.content\n",
    "    return json_response"
   ]
  },
  {
   "cell_type": "code",
   "execution_count": 67,
   "id": "61f8e4d5-9f7c-42a7-a86b-e7b84aae37ca",
   "metadata": {},
   "outputs": [],
   "source": [
    "results = {}"
   ]
  },
  {
   "cell_type": "code",
   "execution_count": 68,
   "id": "c4367d3f-f304-49e2-8d63-cab978cb8898",
   "metadata": {},
   "outputs": [
    {
     "name": "stderr",
     "output_type": "stream",
     "text": [
      "100%|████████████████████████████████████████████████████████████████████████████████| 948/948 [28:50<00:00,  1.83s/it]\n"
     ]
    }
   ],
   "source": [
    "\n",
    "for doc in tqdm(documents):\n",
    "    doc_id = doc['id']\n",
    "    if doc_id in results:\n",
    "        continue\n",
    "    questions = generate_questions(doc)\n",
    "    results[doc_id] = questions"
   ]
  },
  {
   "cell_type": "code",
   "execution_count": 69,
   "id": "cdd42948-8139-4088-a044-646b19a1989b",
   "metadata": {},
   "outputs": [],
   "source": [
    "parsed_results = {}\n",
    "\n",
    "for doc_id, json_questions in results.items():\n",
    "    parsed_results[doc_id] = json.loads(json_questions)"
   ]
  },
  {
   "cell_type": "code",
   "execution_count": 72,
   "id": "61582548-d558-4cc8-815d-618713aea8ba",
   "metadata": {},
   "outputs": [],
   "source": [
    "doc_index = {d['id']: d for d in documents}"
   ]
  },
  {
   "cell_type": "code",
   "execution_count": 74,
   "id": "d000f393-cd40-4a6d-a530-6bf65aeae074",
   "metadata": {},
   "outputs": [],
   "source": [
    "final_results = []\n",
    "\n",
    "for doc_id, questions in parsed_results.items():\n",
    "    course = doc_index[doc_id]['course']\n",
    "    for q in questions:\n",
    "        final_results.append((q, course, doc_id))"
   ]
  },
  {
   "cell_type": "code",
   "execution_count": 76,
   "id": "07779c8d-8030-4671-91ff-020cc2da0cf4",
   "metadata": {},
   "outputs": [],
   "source": [
    "import pandas as pd"
   ]
  },
  {
   "cell_type": "code",
   "execution_count": 78,
   "id": "6e77b317-24f3-4fe3-ac8b-031b299c1393",
   "metadata": {},
   "outputs": [],
   "source": [
    "df = pd.DataFrame(final_results, columns= ['question', 'course', 'document'])"
   ]
  },
  {
   "cell_type": "code",
   "execution_count": 79,
   "id": "1f99660e-3f19-44f7-b6dd-f8b65fb29f59",
   "metadata": {},
   "outputs": [],
   "source": [
    "df.to_csv('ground_truth_data.csv', index=False)"
   ]
  },
  {
   "cell_type": "code",
   "execution_count": 80,
   "id": "f4e853f5-dfaa-48d4-afb3-5aec41115b24",
   "metadata": {},
   "outputs": [
    {
     "name": "stdout",
     "output_type": "stream",
     "text": [
      "question,course,document\n",
      "What is the starting date and time for the course?,data-engineering-zoomcamp,c02e79ef\n",
      "How do I subscribe to the course calendar?,data-engineering-zoomcamp,c02e79ef\n",
      "Where can I find the registration link for the course?,data-engineering-zoomcamp,c02e79ef\n",
      "Is there a Telegram channel for course announcements?,data-engineering-zoomcamp,c02e79ef\n",
      "Do I need to register in DataTalks.Club's Slack?,data-engineering-zoomcamp,c02e79ef\n",
      "What are the necessary qualifications to enroll in this course?,data-engineering-zoomcamp,1f6520ca\n",
      "Is there a specific skill set required before taking this course?,data-engineering-zoomcamp,1f6520ca\n",
      "Can you provide details on what prior knowledge is needed for this course?,data-engineering-zoomcamp,1f6520ca\n",
      "Are there any recommended skills or tools to learn before starting this course?,data-engineering-zoomcamp,1f6520ca\n"
     ]
    }
   ],
   "source": [
    "!head ground_truth_data.csv"
   ]
  },
  {
   "cell_type": "code",
   "execution_count": null,
   "id": "6cde2823-b2fb-4611-9aae-be8f869632d3",
   "metadata": {},
   "outputs": [],
   "source": []
  }
 ],
 "metadata": {
  "kernelspec": {
   "display_name": "Python 3 (ipykernel)",
   "language": "python",
   "name": "python3"
  },
  "language_info": {
   "codemirror_mode": {
    "name": "ipython",
    "version": 3
   },
   "file_extension": ".py",
   "mimetype": "text/x-python",
   "name": "python",
   "nbconvert_exporter": "python",
   "pygments_lexer": "ipython3",
   "version": "3.12.8"
  }
 },
 "nbformat": 4,
 "nbformat_minor": 5
}
