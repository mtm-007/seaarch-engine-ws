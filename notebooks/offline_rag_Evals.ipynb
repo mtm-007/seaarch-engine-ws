{
 "cells": [
  {
   "cell_type": "markdown",
   "id": "10314576-5906-4893-abf2-b9a5dddc967e",
   "metadata": {},
   "source": [
    "#### Load documents with ID"
   ]
  },
  {
   "cell_type": "code",
   "execution_count": 1,
   "id": "77c8854c-5f8c-4836-99bc-425aaf51c74c",
   "metadata": {},
   "outputs": [],
   "source": [
    "import requests\n",
    "import pandas as pd\n",
    "import json\n",
    "import seaborn as sns\n",
    "\n",
    "import matplotlib.pyplot as plt"
   ]
  },
  {
   "cell_type": "code",
   "execution_count": 2,
   "id": "e4ec9f9f-bb6d-4fff-81e5-ad3b10823537",
   "metadata": {},
   "outputs": [],
   "source": [
    "base_url = 'https://github.com/DataTalksClub/llm-zoomcamp/blob/main'\n",
    "relative_url = '03-vector-search/eval/documents-with-ids.json'\n",
    "docs_url = f'{base_url}/{relative_url}?raw=1'\n",
    "docs_response = requests.get(docs_url)\n",
    "\n",
    "documents = docs_response.json()"
   ]
  },
  {
   "cell_type": "code",
   "execution_count": 3,
   "id": "6bf018c8-adbb-44ce-aed0-29f556df8f61",
   "metadata": {},
   "outputs": [
    {
     "data": {
      "text/plain": [
       "{'text': \"The purpose of this document is to capture frequently asked technical questions\\nThe exact day and hour of the course will be 15th Jan 2024 at 17h00. The course will start with the first  “Office Hours'' live.1\\nSubscribe to course public Google Calendar (it works from Desktop only).\\nRegister before the course starts using this link.\\nJoin the course Telegram channel with announcements.\\nDon’t forget to register in DataTalks.Club's Slack and join the channel.\",\n",
       " 'section': 'General course-related questions',\n",
       " 'question': 'Course - When will the course start?',\n",
       " 'course': 'data-engineering-zoomcamp',\n",
       " 'id': 'c02e79ef'}"
      ]
     },
     "execution_count": 3,
     "metadata": {},
     "output_type": "execute_result"
    }
   ],
   "source": [
    "documents[0]"
   ]
  },
  {
   "cell_type": "code",
   "execution_count": 4,
   "id": "9fb792ba-43ab-4a21-b9ab-6375a9c708f6",
   "metadata": {},
   "outputs": [
    {
     "data": {
      "text/plain": [
       "{'text': \"The purpose of this document is to capture frequently asked technical questions\\nThe exact day and hour of the course will be 15th Jan 2024 at 17h00. The course will start with the first  “Office Hours'' live.1\\nSubscribe to course public Google Calendar (it works from Desktop only).\\nRegister before the course starts using this link.\\nJoin the course Telegram channel with announcements.\\nDon’t forget to register in DataTalks.Club's Slack and join the channel.\",\n",
       " 'section': 'General course-related questions',\n",
       " 'question': 'Course - When will the course start?',\n",
       " 'course': 'data-engineering-zoomcamp',\n",
       " 'id': 'c02e79ef'}"
      ]
     },
     "execution_count": 4,
     "metadata": {},
     "output_type": "execute_result"
    }
   ],
   "source": [
    "with open('document_with_ids.json', 'r') as f:\n",
    "    data = json.load(f)\n",
    "data[0]"
   ]
  },
  {
   "cell_type": "markdown",
   "id": "2c713eb6-34e7-488e-9e81-3df6beef768b",
   "metadata": {},
   "source": [
    "#### Load Ground truth data"
   ]
  },
  {
   "cell_type": "code",
   "execution_count": 5,
   "id": "c0203499-eda6-45b9-bf5d-3c407b5c16da",
   "metadata": {},
   "outputs": [],
   "source": [
    "df_ground_truth = pd.read_csv('ground_truth_data.csv')\n",
    "df_ground_truth = df_ground_truth[df_ground_truth.course == 'machine-learning-zoomcamp']\n",
    "ground_truth = df_ground_truth.to_dict(orient= 'records')"
   ]
  },
  {
   "cell_type": "code",
   "execution_count": 6,
   "id": "798899d5-8b4f-4597-928a-7893d4942b7f",
   "metadata": {},
   "outputs": [
    {
     "data": {
      "text/plain": [
       "{'question': 'What happens if I cannot attend a class session?',\n",
       " 'course': 'machine-learning-zoomcamp',\n",
       " 'document': '5170565b'}"
      ]
     },
     "execution_count": 6,
     "metadata": {},
     "output_type": "execute_result"
    }
   ],
   "source": [
    "ground_truth[10]"
   ]
  },
  {
   "cell_type": "code",
   "execution_count": 7,
   "id": "dab498d6-1bb3-4399-81f1-edbad56403e2",
   "metadata": {},
   "outputs": [
    {
     "data": {
      "text/plain": [
       "'Everything is recorded, so you won’t miss anything. You will be able to ask your questions for office hours in advance and we will cover them during the live stream. Also, you can always ask questions in Slack.'"
      ]
     },
     "execution_count": 7,
     "metadata": {},
     "output_type": "execute_result"
    }
   ],
   "source": [
    "docs_idx = {d['id']: d for d in documents}\n",
    "docs_idx['5170565b']['text']"
   ]
  },
  {
   "cell_type": "markdown",
   "id": "c489b52b-5288-4ea0-9004-e4b2c461d348",
   "metadata": {},
   "source": [
    "### index data"
   ]
  },
  {
   "cell_type": "code",
   "execution_count": 8,
   "id": "b1f3c07c-0540-4c97-91ff-4d4d4cb3cef2",
   "metadata": {},
   "outputs": [
    {
     "name": "stderr",
     "output_type": "stream",
     "text": [
      "/home/codespace/.local/lib/python3.12/site-packages/tqdm/auto.py:21: TqdmWarning: IProgress not found. Please update jupyter and ipywidgets. See https://ipywidgets.readthedocs.io/en/stable/user_install.html\n",
      "  from .autonotebook import tqdm as notebook_tqdm\n"
     ]
    }
   ],
   "source": [
    "from sentence_transformers import SentenceTransformer\n",
    "from elasticsearch import Elasticsearch"
   ]
  },
  {
   "cell_type": "code",
   "execution_count": 9,
   "id": "e6a41516-8790-4e77-985d-703bd8c08a41",
   "metadata": {},
   "outputs": [],
   "source": [
    "model_name = 'multi-qa-MiniLM-L6-cos-v1'\n",
    "model = SentenceTransformer(model_name)"
   ]
  },
  {
   "cell_type": "code",
   "execution_count": 10,
   "id": "b2e4280c-69f0-415b-90dd-1a5f047ab120",
   "metadata": {},
   "outputs": [
    {
     "data": {
      "text/plain": [
       "ObjectApiResponse({'acknowledged': True, 'shards_acknowledged': True, 'index': 'course-questions'})"
      ]
     },
     "execution_count": 10,
     "metadata": {},
     "output_type": "execute_result"
    }
   ],
   "source": [
    "es_client = Elasticsearch('http://localhost:9200')\n",
    "\n",
    "index_settings = {\n",
    "    \"settings\": {\n",
    "        \"number_of_shards\": 1,\n",
    "        \"number_of_replicas\": 0\n",
    "    },\n",
    "    \"mappings\": {\n",
    "        \"properties\": {\n",
    "            \"text\": {\"type\": \"text\"},\n",
    "            \"section\": {\"type\": \"text\"},\n",
    "            \"question\": {\"type\": \"text\"},\n",
    "            \"course\": {\"type\": \"keyword\"},\n",
    "            \"id\": {\"type\": \"keyword\"},\n",
    "            \"question_text_vector\": {\n",
    "                \"type\": \"dense_vector\",\n",
    "                \"dims\": 384,\n",
    "                \"index\": True,\n",
    "                \"similarity\": \"cosine\"\n",
    "            },\n",
    "        }\n",
    "    }\n",
    "}\n",
    "\n",
    "index_name = \"course-questions\"\n",
    "es_client.indices.delete(index=index_name, ignore_unavailable=True)\n",
    "es_client.indices.create(index = index_name, body = index_settings)"
   ]
  },
  {
   "cell_type": "code",
   "execution_count": 11,
   "id": "e7a3bb50-c463-47ae-9337-358798f71580",
   "metadata": {},
   "outputs": [
    {
     "name": "stderr",
     "output_type": "stream",
     "text": [
      "100%|████████████████████████████████████████████████████████████████████████████████| 948/948 [01:01<00:00, 15.48it/s]\n"
     ]
    }
   ],
   "source": [
    "from tqdm import tqdm\n",
    "\n",
    "for doc in tqdm(documents):\n",
    "    question = doc['question']\n",
    "    text = doc['text']\n",
    "    doc['question_text_vector'] = model.encode(question + ' ' + text)\n",
    "\n",
    "    es_client.index(index= index_name, document= doc)"
   ]
  },
  {
   "cell_type": "code",
   "execution_count": 12,
   "id": "863bfbca-1ef3-4736-a16f-8cf05a8653a5",
   "metadata": {},
   "outputs": [],
   "source": [
    "def elastic_search_knn(field, vector, course):\n",
    "    knn = {\n",
    "        \"field\" : field,\n",
    "        \"query_vector\" : vector,\n",
    "        \"k\" : 5,\n",
    "        \"num_candidates\" : 10000,\n",
    "        \"filter\" : {\n",
    "            \"term\" : {\n",
    "                \"course\" : course\n",
    "                }\n",
    "            }\n",
    "        }\n",
    "    search_query = {\n",
    "        \"knn\" : knn,\n",
    "        \"_source\" : [\"text\", \"section\", \"question\", \"course\", \"id\"]\n",
    "    }\n",
    "    \n",
    "    es_result = es_client.search(\n",
    "        index = index_name,\n",
    "        body = search_query\n",
    "    )\n",
    "    result_docs = []\n",
    "    \n",
    "    for hit in es_result['hits']['hits']:\n",
    "        result_docs.append(hit['_source'])\n",
    "    \n",
    "    return result_docs\n",
    "\n",
    "def question_text_vector_knn(q):\n",
    "    question = q[\"question\"]\n",
    "    course = q[\"course\"]\n",
    "\n",
    "    v_q = model.encode(question)\n",
    "    return elastic_search_knn(\"question_text_vector\", v_q, course)"
   ]
  },
  {
   "cell_type": "code",
   "execution_count": 13,
   "id": "14bf5e9e-61b5-4a9c-8cab-cee40ad1950a",
   "metadata": {},
   "outputs": [
    {
     "data": {
      "text/plain": [
       "[{'question': 'What if I miss a session?',\n",
       "  'course': 'machine-learning-zoomcamp',\n",
       "  'section': 'General course-related questions',\n",
       "  'text': 'Everything is recorded, so you won’t miss anything. You will be able to ask your questions for office hours in advance and we will cover them during the live stream. Also, you can always ask questions in Slack.',\n",
       "  'id': '5170565b'},\n",
       " {'question': 'Is it going to be live? When?',\n",
       "  'course': 'machine-learning-zoomcamp',\n",
       "  'section': 'General course-related questions',\n",
       "  'text': 'The course videos are pre-recorded, you can start watching the course right now.\\nWe will also occasionally have office hours - live sessions where we will answer your questions. The office hours sessions are recorded too.\\nYou can see the office hours as well as the pre-recorded course videos in the course playlist on YouTube.',\n",
       "  'id': '39fda9f0'},\n",
       " {'question': 'The same accuracy on epochs',\n",
       "  'course': 'machine-learning-zoomcamp',\n",
       "  'section': '8. Neural Networks and Deep Learning',\n",
       "  'text': \"Problem description\\nThe accuracy and the loss are both still the same or nearly the same while training.\\nSolution description\\nIn the homework, you should set class_mode='binary' while reading the data.\\nAlso, problem occurs when you choose the wrong optimizer, batch size, or learning rate\\nAdded by Ekaterina Kutovaia\",\n",
       "  'id': '7d11d5ce'},\n",
       " {'question': 'Useful Resource for Missing Data Treatment\\nhttps://www.kaggle.com/code/parulpandey/a-guide-to-handling-missing-values-in-python/notebook',\n",
       "  'course': 'machine-learning-zoomcamp',\n",
       "  'section': '2. Machine Learning for Regression',\n",
       "  'text': '(Hrithik Kumar Advani)',\n",
       "  'id': '81b8e8d0'},\n",
       " {'question': 'Will I get a certificate if I missed the midterm project?',\n",
       "  'course': 'machine-learning-zoomcamp',\n",
       "  'section': 'General course-related questions',\n",
       "  'text': \"Yes, it's possible. See the previous answer.\",\n",
       "  'id': '1d644223'}]"
      ]
     },
     "execution_count": 13,
     "metadata": {},
     "output_type": "execute_result"
    }
   ],
   "source": [
    "question_text_vector_knn(dict(\n",
    "    question='Are sessions recorded if I miss one?',\n",
    "    course='machine-learning-zoomcamp'\n",
    "))"
   ]
  },
  {
   "cell_type": "markdown",
   "id": "13038773-c455-4de2-9b87-ec75ccc74caa",
   "metadata": {},
   "source": [
    "#### The Rag Flow"
   ]
  },
  {
   "cell_type": "code",
   "execution_count": 14,
   "id": "6f1ca22d-b5d6-43f0-a99f-901fb6837b66",
   "metadata": {},
   "outputs": [],
   "source": [
    "def build_prompt(query, search_results):\n",
    "    prompt_template = \"\"\"\n",
    "You're a course teaching assistant. Answer the QUESTION based on the CONTEXT from the FAQ database.\n",
    "Use only the facts from the CONTEXT when answering the QUESTION.\n",
    "\n",
    "QUESTION: {question}\n",
    "\n",
    "CONTEXT: \n",
    "{context}\"\"\".strip()\n",
    "    context = \"\"\n",
    "    for doc in search_results:\n",
    "        context = context + f\"section: {doc['section']}\\nquestion: {doc['question']}\\nAnswer: {doc['text']}\\n\\n\"\n",
    "\n",
    "    prompt = prompt_template.format(question=query, context = context).strip()\n",
    "    return prompt"
   ]
  },
  {
   "cell_type": "code",
   "execution_count": 15,
   "id": "e8dc847b-a5fa-440a-be5c-d67573e5f517",
   "metadata": {},
   "outputs": [],
   "source": [
    "from openai import OpenAI\n",
    "from dotenv import load_dotenv\n",
    "import os\n",
    "\n",
    "load_dotenv()\n",
    "\n",
    "api_key = os.getenv('OPENAI_API_KEY')\n",
    "client = OpenAI(api_key = api_key)\n",
    "\n",
    "def llm(prompt, model = 'gpt-4o-mini'):\n",
    "    response = client.chat.completions.create(\n",
    "        model = model,\n",
    "        messages =  [{\"role\" : \"user\", \"content\" : prompt}]\n",
    "    )\n",
    "    return response.choices[0].message.content"
   ]
  },
  {
   "cell_type": "code",
   "execution_count": 16,
   "id": "3a273372-5c7c-4b5a-b582-0e01c99d554a",
   "metadata": {},
   "outputs": [],
   "source": [
    "def rag(query: dict, model = 'gpt-4o-mini') ->str:\n",
    "    search_results = question_text_vector_knn(query)\n",
    "    prompt= build_prompt(query['question'], search_results)\n",
    "    answer = llm(prompt, model=model)\n",
    "    return answer"
   ]
  },
  {
   "cell_type": "code",
   "execution_count": 17,
   "id": "24cf7de2-b083-46a3-aa5a-b0f717e7af05",
   "metadata": {},
   "outputs": [
    {
     "data": {
      "text/plain": [
       "{'question': 'What happens if I cannot attend a class session?',\n",
       " 'course': 'machine-learning-zoomcamp',\n",
       " 'document': '5170565b'}"
      ]
     },
     "execution_count": 17,
     "metadata": {},
     "output_type": "execute_result"
    }
   ],
   "source": [
    "ground_truth[10]"
   ]
  },
  {
   "cell_type": "code",
   "execution_count": 18,
   "id": "81c0b293-4044-4e98-be16-0cae239bbc29",
   "metadata": {},
   "outputs": [
    {
     "data": {
      "text/plain": [
       "\"If you cannot attend a class session, don't worry, as everything is recorded. You won't miss anything important. You will also have the opportunity to ask questions for office hours in advance, and those questions will be addressed during the live stream. Additionally, you can always pose questions in Slack.\""
      ]
     },
     "execution_count": 18,
     "metadata": {},
     "output_type": "execute_result"
    }
   ],
   "source": [
    "rag(ground_truth[10])"
   ]
  },
  {
   "cell_type": "code",
   "execution_count": 19,
   "id": "6767ea66-0482-4534-8a2e-d3206e4d64b7",
   "metadata": {},
   "outputs": [
    {
     "data": {
      "text/plain": [
       "'Everything is recorded, so you won’t miss anything. You will be able to ask your questions for office hours in advance and we will cover them during the live stream. Also, you can always ask questions in Slack.'"
      ]
     },
     "execution_count": 19,
     "metadata": {},
     "output_type": "execute_result"
    }
   ],
   "source": [
    "docs_idx['5170565b']['text']"
   ]
  },
  {
   "cell_type": "markdown",
   "id": "c2c6da97-c41d-4b5a-8ed3-cb1f9dc74d6c",
   "metadata": {},
   "source": [
    "### Cosine Similarity Metric"
   ]
  },
  {
   "cell_type": "code",
   "execution_count": 20,
   "id": "8a6e7b45-edef-4eb0-a5c3-14f544d1b8bf",
   "metadata": {},
   "outputs": [
    {
     "data": {
      "text/plain": [
       "np.float32(0.7919637)"
      ]
     },
     "execution_count": 20,
     "metadata": {},
     "output_type": "execute_result"
    }
   ],
   "source": [
    "llm_answer = 'If you cannot attend a class session, everything is recorded, so you won’t miss anything. You can ask your questions in advance for office hours, and those will be covered during the live stream. Additionally, you can always ask questions in Slack.'\n",
    "doc_answer = 'Everything is recorded, so you won’t miss anything. You will be able to ask your questions for office hours in advance and we will cover them during the live stream. Also, you can always ask questions in Slack.'\n",
    "\n",
    "v_llm = model.encode(llm_answer)\n",
    "v_doc = model.encode(doc_answer)\n",
    "\n",
    "v_llm.dot(v_doc)"
   ]
  },
  {
   "cell_type": "code",
   "execution_count": 33,
   "id": "48c15763-3a8c-4dae-9489-c8fdf4e96e05",
   "metadata": {},
   "outputs": [],
   "source": [
    "answers = {}"
   ]
  },
  {
   "cell_type": "code",
   "execution_count": 34,
   "id": "c31094f9-febb-4870-aea7-ff6cc6b210ba",
   "metadata": {},
   "outputs": [
    {
     "data": {
      "text/plain": [
       "{}"
      ]
     },
     "execution_count": 34,
     "metadata": {},
     "output_type": "execute_result"
    }
   ],
   "source": [
    "answers"
   ]
  },
  {
   "cell_type": "code",
   "execution_count": null,
   "id": "32d2fab1-3ee6-41bd-ba84-a7df608f8384",
   "metadata": {},
   "outputs": [],
   "source": [
    "for i, rec in enumerate(tqdm(ground_truth)):\n",
    "    if i in answers:\n",
    "        continue\n",
    "    answer_llm = rag(rec)\n",
    "    doc_id = rec['document']\n",
    "    orig_document = docs_idx[doc_id]\n",
    "    answer_orig = orig_document['text']\n",
    "\n",
    "    answers[i] = {\n",
    "        \"answer_llm\" : answer_llm,\n",
    "        \"answer_orig\" : answer_orig,\n",
    "        \"document\" : doc_id\n",
    "    }"
   ]
  },
  {
   "cell_type": "code",
   "execution_count": 36,
   "id": "4c33b52a-d060-4bdb-b723-997da1af945b",
   "metadata": {},
   "outputs": [],
   "source": [
    "df_gpt_4o_mini = pd.DataFrame(answers.values())"
   ]
  },
  {
   "cell_type": "code",
   "execution_count": null,
   "id": "e2a4951a-a6e5-4368-9ea0-d86b9cbd8679",
   "metadata": {},
   "outputs": [],
   "source": [
    "df_gpt_4o_mini"
   ]
  },
  {
   "cell_type": "markdown",
   "id": "6f3bdc88-05ed-4c33-876f-3d43634d9ffb",
   "metadata": {},
   "source": [
    "### adding and updating the data to include question\n",
    "- saving cost: cropped it to 250  \n",
    "download from zoomcamp repo\n"
   ]
  },
  {
   "cell_type": "code",
   "execution_count": 41,
   "id": "8b8db8d6-14bd-492d-b68f-3f77321e0f1e",
   "metadata": {},
   "outputs": [],
   "source": [
    "#results_gpt4o_mini = [None]*len(ground_truth) \n",
    "updated_results_gpt_4o_mini = [None]*len(ground_truth[:250]) \n",
    "\n",
    "for i, val in answers.items():\n",
    "    updated_results_gpt_4o_mini[i] = val.copy()\n",
    "    updated_results_gpt_4o_mini[i].update(ground_truth[i])"
   ]
  },
  {
   "cell_type": "code",
   "execution_count": 117,
   "id": "d64231d0-0ed0-4ca8-ae1b-bf0eef5244e8",
   "metadata": {},
   "outputs": [],
   "source": [
    "df_updated_results_gpt_4o_mini = pd.DataFrame(updated_results_gpt_4o_mini)\n",
    "df_updated_results_gpt_4o_mini.to_csv('data/updated_results_gpt_4o_mini_sample_250.csv')"
   ]
  },
  {
   "cell_type": "code",
   "execution_count": 21,
   "id": "25f2ecfd-0353-4677-bc1a-8a2d4c476ee6",
   "metadata": {},
   "outputs": [],
   "source": [
    "base_url = 'https://raw.githubusercontent.com/DataTalksClub/llm-zoomcamp/main'\n",
    "relative_url = '04-monitoring/data/results-gpt4o.csv'\n",
    "docs_url = f'{base_url}/{relative_url}'\n",
    "\n",
    "df_gpt4o = pd.read_csv(docs_url)"
   ]
  },
  {
   "cell_type": "code",
   "execution_count": 22,
   "id": "0dbb1dac-d8b0-42e5-a927-5d51e73edf8f",
   "metadata": {},
   "outputs": [],
   "source": [
    "#!mkdir data"
   ]
  },
  {
   "cell_type": "code",
   "execution_count": 23,
   "id": "e8592667-c01f-43a7-a7bd-e9f3b87fcf99",
   "metadata": {},
   "outputs": [
    {
     "data": {
      "text/plain": [
       "'If you cannot attend a class session, everything is recorded, so you won’t miss anything. You can ask your questions for office hours in advance, and they will be covered during the live stream. Additionally, you can always ask questions in Slack.'"
      ]
     },
     "execution_count": 23,
     "metadata": {},
     "output_type": "execute_result"
    }
   ],
   "source": [
    "rag(ground_truth[10], model='gpt-4o')"
   ]
  },
  {
   "cell_type": "markdown",
   "id": "d1d49b5f-b7c2-4914-834e-17bd8c85a41a",
   "metadata": {},
   "source": [
    "### Comparing gpt-4o with gpt-4o-mini results with similarity metric"
   ]
  },
  {
   "cell_type": "code",
   "execution_count": 24,
   "id": "1683fca0-8bf8-4f9f-a745-d03adbfbc0e1",
   "metadata": {},
   "outputs": [
    {
     "data": {
      "text/plain": [
       "np.float32(0.9558694)"
      ]
     },
     "execution_count": 24,
     "metadata": {},
     "output_type": "execute_result"
    }
   ],
   "source": [
    "llm_4o_mini_answer = 'If you cannot attend a class session, everything is recorded, so you won’t miss anything. You can ask your questions in advance for office hours, and those will be covered during the live stream. Additionally, you can always ask questions in Slack.'\n",
    "llm_4o_answer = \"If you cannot attend a class session, you won't miss anything important because everything is recorded. You will have the opportunity to watch the recordings later. Additionally, you can submit your questions for the office hours in advance, and they will be addressed during the live stream. You can also ask questions anytime in Slack.\"\n",
    "v_llm_4o_mini = model.encode(llm_4o_mini_answer)\n",
    "v_llm_4o = model.encode(llm_4o_answer)\n",
    "\n",
    "v_llm_4o_mini.dot(v_llm_4o)"
   ]
  },
  {
   "cell_type": "markdown",
   "id": "962ddd42-43bd-47a2-a30e-4d16da870b7b",
   "metadata": {},
   "source": [
    "#### Multi-threading execution"
   ]
  },
  {
   "cell_type": "code",
   "execution_count": 25,
   "id": "88e84192-a5dd-49fd-a2e7-9ea48a9662b2",
   "metadata": {},
   "outputs": [],
   "source": [
    "from tqdm.auto import tqdm\n",
    "\n",
    "from concurrent.futures import ThreadPoolExecutor\n",
    "\n",
    "pool = ThreadPoolExecutor(max_workers=2)\n",
    "\n",
    "def map_progress(pool, seq, f):\n",
    "    results = []\n",
    "\n",
    "    with tqdm(total=len(seq)) as progress:\n",
    "        futures = []\n",
    "\n",
    "        for el in seq:\n",
    "            future = pool.submit(f, el)\n",
    "            future.add_done_callback(lambda p: progress.update())\n",
    "            futures.append(future)\n",
    "\n",
    "        for future in futures:\n",
    "            result = future.result()\n",
    "            results.append(result)\n",
    "\n",
    "    return results"
   ]
  },
  {
   "cell_type": "code",
   "execution_count": 26,
   "id": "b68c4b07-e3fe-4a56-b888-80758b83fff7",
   "metadata": {},
   "outputs": [],
   "source": [
    "def process_record(rec):\n",
    "    model = 'gpt-4o-mini'\n",
    "    answer_llm = rag(rec, model)\n",
    "\n",
    "    doc_id = rec['document']\n",
    "    original_doc = docs_idx[doc_id]\n",
    "    answer_orig = original_doc['text']\n",
    "\n",
    "    return {\n",
    "        \"answer_llm\" : answer_llm,\n",
    "        \"answer_orig\" : answer_orig,\n",
    "        \"document\" : doc_id,\n",
    "        \"question\" : rec[\"question\"],\n",
    "        \"course\" : rec[\"course\"]\n",
    "    }"
   ]
  },
  {
   "cell_type": "code",
   "execution_count": 27,
   "id": "0f8bf608-c93b-44ea-8c54-da70ef9c993d",
   "metadata": {},
   "outputs": [
    {
     "data": {
      "text/plain": [
       "{'answer_llm': 'If you cannot attend a class session, everything is recorded, so you won’t miss anything. You will have the opportunity to ask your questions for office hours in advance, and those questions will be covered during the live stream. Additionally, you can always ask questions in Slack.',\n",
       " 'answer_orig': 'Everything is recorded, so you won’t miss anything. You will be able to ask your questions for office hours in advance and we will cover them during the live stream. Also, you can always ask questions in Slack.',\n",
       " 'document': '5170565b',\n",
       " 'question': 'What happens if I cannot attend a class session?',\n",
       " 'course': 'machine-learning-zoomcamp'}"
      ]
     },
     "execution_count": 27,
     "metadata": {},
     "output_type": "execute_result"
    }
   ],
   "source": [
    "process_record(ground_truth[10])"
   ]
  },
  {
   "cell_type": "code",
   "execution_count": 57,
   "id": "275d55b3-1c15-4b5a-842b-595ec7be5dcc",
   "metadata": {},
   "outputs": [],
   "source": [
    "#resutls_model = map_progress(pool, ground_truth, process_record)"
   ]
  },
  {
   "cell_type": "code",
   "execution_count": 28,
   "id": "976077eb-d8c5-48e6-a5dd-ef9965d5b145",
   "metadata": {},
   "outputs": [],
   "source": [
    "base_url = 'https://raw.githubusercontent.com/DataTalksClub/llm-zoomcamp/main'\n",
    "relative_url = '04-monitoring/data/results-gpt35.csv'\n",
    "docs_url = f'{base_url}/{relative_url}'\n",
    "\n",
    "df_gpt_35 = pd.read_csv(docs_url)"
   ]
  },
  {
   "cell_type": "markdown",
   "id": "c7541ab3-0ed1-44ac-9dd1-4d245d6e3a07",
   "metadata": {},
   "source": [
    "##### Cosine Similarity"
   ]
  },
  {
   "cell_type": "markdown",
   "id": "62e2a9bc-1e5e-4a83-8284-5c52670ab891",
   "metadata": {},
   "source": [
    "### gpt-4o"
   ]
  },
  {
   "cell_type": "code",
   "execution_count": 29,
   "id": "24fd4333-faae-49f6-902f-46e46a2ecd06",
   "metadata": {},
   "outputs": [],
   "source": [
    "results_gpt_4o = df_gpt4o.to_dict(orient='records')"
   ]
  },
  {
   "cell_type": "code",
   "execution_count": 30,
   "id": "abf2f7c0-e868-498c-94b6-c83e3165b01f",
   "metadata": {},
   "outputs": [
    {
     "data": {
      "text/plain": [
       "{'answer_llm': 'The CONTEXT provided does not give specific instructions on how to sign up for the course. However, it does mention that you can access the course materials on the course page: [ML Zoomcamp](http://mlzoomcamp.com/). \\n\\nYou might want to start by visiting the course website and looking for further instructions there, as it likely has additional details on how to sign up or enroll in the course.',\n",
       " 'answer_orig': 'Machine Learning Zoomcamp FAQ\\nThe purpose of this document is to capture frequently asked technical questions.\\nWe did this for our data engineering course and it worked quite well. Check this document for inspiration on how to structure your questions and answers:\\nData Engineering Zoomcamp FAQ\\nIn the course GitHub repository there’s a link. Here it is: https://airtable.com/shryxwLd0COOEaqXo\\nwork',\n",
       " 'document': '0227b872',\n",
       " 'question': 'Where can I sign up for the course?',\n",
       " 'course': 'machine-learning-zoomcamp'}"
      ]
     },
     "execution_count": 30,
     "metadata": {},
     "output_type": "execute_result"
    }
   ],
   "source": [
    "record = results_gpt_4o[0]\n",
    "record"
   ]
  },
  {
   "cell_type": "code",
   "execution_count": 31,
   "id": "28edfb0b-849f-48af-a66e-c8be8044a0a3",
   "metadata": {},
   "outputs": [],
   "source": [
    "def compute_similarity(record):\n",
    "    llm_answer = record['answer_llm']\n",
    "    doc_answer = record['answer_orig']\n",
    "    v_llm = model.encode(llm_answer)\n",
    "    v_doc = model.encode(doc_answer)\n",
    "    \n",
    "    return v_llm.dot(v_doc)"
   ]
  },
  {
   "cell_type": "code",
   "execution_count": 32,
   "id": "f928f7d2-677d-4cd4-b6ab-3a91aa33e4d1",
   "metadata": {},
   "outputs": [
    {
     "name": "stderr",
     "output_type": "stream",
     "text": [
      "100%|██████████████████████████████████████████████████████████████████████████████| 1830/1830 [02:54<00:00, 10.46it/s]\n"
     ]
    }
   ],
   "source": [
    "similarity = []\n",
    "\n",
    "for record in tqdm(results_gpt_4o):\n",
    "    sim = compute_similarity(record)\n",
    "    similarity.append(sim)"
   ]
  },
  {
   "cell_type": "code",
   "execution_count": 33,
   "id": "a623245e-bc67-45cf-827d-42ce24ff0b34",
   "metadata": {},
   "outputs": [
    {
     "data": {
      "text/plain": [
       "count    1830.000000\n",
       "mean        0.679129\n",
       "std         0.217995\n",
       "min        -0.153425\n",
       "25%         0.591460\n",
       "50%         0.734788\n",
       "75%         0.835390\n",
       "max         0.995339\n",
       "Name: cosine, dtype: float64"
      ]
     },
     "execution_count": 33,
     "metadata": {},
     "output_type": "execute_result"
    }
   ],
   "source": [
    "df_gpt4o['cosine'] = similarity\n",
    "df_gpt4o['cosine'].describe()"
   ]
  },
  {
   "cell_type": "code",
   "execution_count": 34,
   "id": "2ed6fd6d-8644-40bc-a986-37933da5bf6a",
   "metadata": {},
   "outputs": [
    {
     "name": "stderr",
     "output_type": "stream",
     "text": [
      "/tmp/ipykernel_15856/2967343473.py:1: UserWarning: \n",
      "\n",
      "`distplot` is a deprecated function and will be removed in seaborn v0.14.0.\n",
      "\n",
      "Please adapt your code to use either `displot` (a figure-level function with\n",
      "similar flexibility) or `histplot` (an axes-level function for histograms).\n",
      "\n",
      "For a guide to updating your code to use the new functions, please see\n",
      "https://gist.github.com/mwaskom/de44147ed2974457ad6372750bbe5751\n",
      "\n",
      "  sns.distplot(df_gpt4o['cosine'])\n"
     ]
    },
    {
     "data": {
      "text/plain": [
       "<Axes: xlabel='cosine', ylabel='Density'>"
      ]
     },
     "execution_count": 34,
     "metadata": {},
     "output_type": "execute_result"
    },
    {
     "data": {
      "image/png": "[encoded data removed]",
      "text/plain": [
       "<Figure size 640x480 with 1 Axes>"
      ]
     },
     "metadata": {},
     "output_type": "display_data"
    }
   ],
   "source": [
    "sns.distplot(df_gpt4o['cosine'])"
   ]
  },
  {
   "cell_type": "markdown",
   "id": "19cac27c-e6d9-4b9f-ad0d-6ce430d9fa03",
   "metadata": {},
   "source": [
    "#### gpt-3.5-turbo"
   ]
  },
  {
   "cell_type": "code",
   "execution_count": 35,
   "id": "f14827a2-ccce-4973-9538-2d16a0f531a6",
   "metadata": {},
   "outputs": [
    {
     "name": "stderr",
     "output_type": "stream",
     "text": [
      "100%|██████████████████████████████████████████████████████████████████████████████| 1830/1830 [02:15<00:00, 13.50it/s]\n"
     ]
    }
   ],
   "source": [
    "results_gpt_35 = df_gpt_35.to_dict(orient='records')\n",
    "\n",
    "similarity_3_5 = []\n",
    "\n",
    "for record in tqdm(results_gpt_35):\n",
    "    sim = compute_similarity(record)\n",
    "    similarity_3_5.append(sim)"
   ]
  },
  {
   "cell_type": "code",
   "execution_count": 36,
   "id": "8ff1ff46-682c-4904-8f61-4eeb7aa6abbd",
   "metadata": {},
   "outputs": [
    {
     "data": {
      "text/plain": [
       "count    1830.000000\n",
       "mean        0.657599\n",
       "std         0.226062\n",
       "min        -0.168921\n",
       "25%         0.546504\n",
       "50%         0.714783\n",
       "75%         0.817262\n",
       "max         1.000000\n",
       "Name: cosine, dtype: float64"
      ]
     },
     "execution_count": 36,
     "metadata": {},
     "output_type": "execute_result"
    }
   ],
   "source": [
    "df_gpt_35['cosine'] = similarity_3_5\n",
    "df_gpt_35['cosine'].describe()"
   ]
  },
  {
   "cell_type": "code",
   "execution_count": 37,
   "id": "ac2d9880-ee2b-46de-9031-76bf60dcf30b",
   "metadata": {},
   "outputs": [
    {
     "name": "stderr",
     "output_type": "stream",
     "text": [
      "/tmp/ipykernel_15856/1261886430.py:1: UserWarning: \n",
      "\n",
      "`distplot` is a deprecated function and will be removed in seaborn v0.14.0.\n",
      "\n",
      "Please adapt your code to use either `displot` (a figure-level function with\n",
      "similar flexibility) or `histplot` (an axes-level function for histograms).\n",
      "\n",
      "For a guide to updating your code to use the new functions, please see\n",
      "https://gist.github.com/mwaskom/de44147ed2974457ad6372750bbe5751\n",
      "\n",
      "  sns.distplot(df_gpt4o['cosine'], label = '4o')\n",
      "/tmp/ipykernel_15856/1261886430.py:2: UserWarning: \n",
      "\n",
      "`distplot` is a deprecated function and will be removed in seaborn v0.14.0.\n",
      "\n",
      "Please adapt your code to use either `displot` (a figure-level function with\n",
      "similar flexibility) or `histplot` (an axes-level function for histograms).\n",
      "\n",
      "For a guide to updating your code to use the new functions, please see\n",
      "https://gist.github.com/mwaskom/de44147ed2974457ad6372750bbe5751\n",
      "\n",
      "  sns.distplot(df_gpt_35['cosine'], label = '3.5')\n"
     ]
    },
    {
     "data": {
      "text/plain": [
       "<matplotlib.legend.Legend at 0x74eccd3371a0>"
      ]
     },
     "execution_count": 37,
     "metadata": {},
     "output_type": "execute_result"
    },
    {
     "data": {
      "image/png": "[encoded data removed]",
      "text/plain": [
       "<Figure size 640x480 with 1 Axes>"
      ]
     },
     "metadata": {},
     "output_type": "display_data"
    }
   ],
   "source": [
    "sns.distplot(df_gpt4o['cosine'], label = '4o')\n",
    "sns.distplot(df_gpt_35['cosine'], label = '3.5')\n",
    "\n",
    "plt.legend()"
   ]
  },
  {
   "cell_type": "markdown",
   "id": "e57a8d47-9f8e-4228-9575-d7877737b23c",
   "metadata": {},
   "source": [
    "### gpt-4o-mini"
   ]
  },
  {
   "cell_type": "code",
   "execution_count": 38,
   "id": "4389dd0e-75a9-4cc5-b046-e0e6683c4dc3",
   "metadata": {},
   "outputs": [
    {
     "name": "stderr",
     "output_type": "stream",
     "text": [
      "100%|██████████████████████████████████████████████████████████████████████████████| 1830/1830 [02:31<00:00, 12.04it/s]\n"
     ]
    }
   ],
   "source": [
    "base_url = 'https://raw.githubusercontent.com/DataTalksClub/llm-zoomcamp/main'\n",
    "relative_url = '04-monitoring/data/results-gpt4o-mini.csv'\n",
    "docs_url = f'{base_url}/{relative_url}'\n",
    "\n",
    "df_gpt_4o_mini = pd.read_csv(docs_url)\n",
    "\n",
    "results_gpt_4o_mini = df_gpt_4o_mini.to_dict(orient='records')\n",
    "\n",
    "similarity_4o_mini = []\n",
    "\n",
    "for record in tqdm(results_gpt_4o_mini):\n",
    "    sim = compute_similarity(record)\n",
    "    similarity_4o_mini.append(sim)"
   ]
  },
  {
   "cell_type": "code",
   "execution_count": 44,
   "id": "e1d884b5-6e19-4938-b681-ddaef0db6d35",
   "metadata": {},
   "outputs": [
    {
     "data": {
      "text/html": [
       "<div>\n",
       "<style scoped>\n",
       "    .dataframe tbody tr th:only-of-type {\n",
       "        vertical-align: middle;\n",
       "    }\n",
       "\n",
       "    .dataframe tbody tr th {\n",
       "        vertical-align: top;\n",
       "    }\n",
       "\n",
       "    .dataframe thead th {\n",
       "        text-align: right;\n",
       "    }\n",
       "</style>\n",
       "<table border=\"1\" class=\"dataframe\">\n",
       "  <thead>\n",
       "    <tr style=\"text-align: right;\">\n",
       "      <th></th>\n",
       "      <th>answer_llm</th>\n",
       "      <th>answer_orig</th>\n",
       "      <th>document</th>\n",
       "      <th>question</th>\n",
       "      <th>course</th>\n",
       "      <th>cosine</th>\n",
       "    </tr>\n",
       "  </thead>\n",
       "  <tbody>\n",
       "    <tr>\n",
       "      <th>0</th>\n",
       "      <td>You can sign up for the course by visiting the...</td>\n",
       "      <td>Machine Learning Zoomcamp FAQ\\nThe purpose of ...</td>\n",
       "      <td>0227b872</td>\n",
       "      <td>Where can I sign up for the course?</td>\n",
       "      <td>machine-learning-zoomcamp</td>\n",
       "      <td>0.388595</td>\n",
       "    </tr>\n",
       "    <tr>\n",
       "      <th>1</th>\n",
       "      <td>You can sign up using the link provided in the...</td>\n",
       "      <td>Machine Learning Zoomcamp FAQ\\nThe purpose of ...</td>\n",
       "      <td>0227b872</td>\n",
       "      <td>Can you provide a link to sign up?</td>\n",
       "      <td>machine-learning-zoomcamp</td>\n",
       "      <td>0.298360</td>\n",
       "    </tr>\n",
       "    <tr>\n",
       "      <th>2</th>\n",
       "      <td>Yes, there is an FAQ for the Machine Learning ...</td>\n",
       "      <td>Machine Learning Zoomcamp FAQ\\nThe purpose of ...</td>\n",
       "      <td>0227b872</td>\n",
       "      <td>Is there an FAQ for this Machine Learning course?</td>\n",
       "      <td>machine-learning-zoomcamp</td>\n",
       "      <td>0.583048</td>\n",
       "    </tr>\n",
       "    <tr>\n",
       "      <th>3</th>\n",
       "      <td>The context does not provide any specific info...</td>\n",
       "      <td>Machine Learning Zoomcamp FAQ\\nThe purpose of ...</td>\n",
       "      <td>0227b872</td>\n",
       "      <td>Does this course have a GitHub repository for ...</td>\n",
       "      <td>machine-learning-zoomcamp</td>\n",
       "      <td>-0.019481</td>\n",
       "    </tr>\n",
       "    <tr>\n",
       "      <th>4</th>\n",
       "      <td>To structure your questions and answers for th...</td>\n",
       "      <td>Machine Learning Zoomcamp FAQ\\nThe purpose of ...</td>\n",
       "      <td>0227b872</td>\n",
       "      <td>How can I structure my questions and answers f...</td>\n",
       "      <td>machine-learning-zoomcamp</td>\n",
       "      <td>0.358467</td>\n",
       "    </tr>\n",
       "    <tr>\n",
       "      <th>...</th>\n",
       "      <td>...</td>\n",
       "      <td>...</td>\n",
       "      <td>...</td>\n",
       "      <td>...</td>\n",
       "      <td>...</td>\n",
       "      <td>...</td>\n",
       "    </tr>\n",
       "    <tr>\n",
       "      <th>1825</th>\n",
       "      <td>Some suggested titles for listing the Machine ...</td>\n",
       "      <td>I’ve seen LinkedIn users list DataTalksClub as...</td>\n",
       "      <td>c6a22665</td>\n",
       "      <td>What are some suggested titles for listing the...</td>\n",
       "      <td>machine-learning-zoomcamp</td>\n",
       "      <td>0.620892</td>\n",
       "    </tr>\n",
       "    <tr>\n",
       "      <th>1826</th>\n",
       "      <td>It is best advised that you do not list the Ma...</td>\n",
       "      <td>I’ve seen LinkedIn users list DataTalksClub as...</td>\n",
       "      <td>c6a22665</td>\n",
       "      <td>Should I list the Machine Learning Zoomcamp ex...</td>\n",
       "      <td>machine-learning-zoomcamp</td>\n",
       "      <td>0.730319</td>\n",
       "    </tr>\n",
       "    <tr>\n",
       "      <th>1827</th>\n",
       "      <td>You can incorporate your Machine Learning Zoom...</td>\n",
       "      <td>I’ve seen LinkedIn users list DataTalksClub as...</td>\n",
       "      <td>c6a22665</td>\n",
       "      <td>In which LinkedIn sections can I incorporate m...</td>\n",
       "      <td>machine-learning-zoomcamp</td>\n",
       "      <td>0.679815</td>\n",
       "    </tr>\n",
       "    <tr>\n",
       "      <th>1828</th>\n",
       "      <td>The advice on including a project link in a CV...</td>\n",
       "      <td>I’ve seen LinkedIn users list DataTalksClub as...</td>\n",
       "      <td>c6a22665</td>\n",
       "      <td>Who gave advice on including a project link in...</td>\n",
       "      <td>machine-learning-zoomcamp</td>\n",
       "      <td>0.355928</td>\n",
       "    </tr>\n",
       "    <tr>\n",
       "      <th>1829</th>\n",
       "      <td>The suggestion to showcase progress through Li...</td>\n",
       "      <td>I’ve seen LinkedIn users list DataTalksClub as...</td>\n",
       "      <td>c6a22665</td>\n",
       "      <td>Who suggested showcasing progress through Link...</td>\n",
       "      <td>machine-learning-zoomcamp</td>\n",
       "      <td>0.318145</td>\n",
       "    </tr>\n",
       "  </tbody>\n",
       "</table>\n",
       "<p>1830 rows × 6 columns</p>\n",
       "</div>"
      ],
      "text/plain": [
       "                                             answer_llm  \\\n",
       "0     You can sign up for the course by visiting the...   \n",
       "1     You can sign up using the link provided in the...   \n",
       "2     Yes, there is an FAQ for the Machine Learning ...   \n",
       "3     The context does not provide any specific info...   \n",
       "4     To structure your questions and answers for th...   \n",
       "...                                                 ...   \n",
       "1825  Some suggested titles for listing the Machine ...   \n",
       "1826  It is best advised that you do not list the Ma...   \n",
       "1827  You can incorporate your Machine Learning Zoom...   \n",
       "1828  The advice on including a project link in a CV...   \n",
       "1829  The suggestion to showcase progress through Li...   \n",
       "\n",
       "                                            answer_orig  document  \\\n",
       "0     Machine Learning Zoomcamp FAQ\\nThe purpose of ...  0227b872   \n",
       "1     Machine Learning Zoomcamp FAQ\\nThe purpose of ...  0227b872   \n",
       "2     Machine Learning Zoomcamp FAQ\\nThe purpose of ...  0227b872   \n",
       "3     Machine Learning Zoomcamp FAQ\\nThe purpose of ...  0227b872   \n",
       "4     Machine Learning Zoomcamp FAQ\\nThe purpose of ...  0227b872   \n",
       "...                                                 ...       ...   \n",
       "1825  I’ve seen LinkedIn users list DataTalksClub as...  c6a22665   \n",
       "1826  I’ve seen LinkedIn users list DataTalksClub as...  c6a22665   \n",
       "1827  I’ve seen LinkedIn users list DataTalksClub as...  c6a22665   \n",
       "1828  I’ve seen LinkedIn users list DataTalksClub as...  c6a22665   \n",
       "1829  I’ve seen LinkedIn users list DataTalksClub as...  c6a22665   \n",
       "\n",
       "                                               question  \\\n",
       "0                   Where can I sign up for the course?   \n",
       "1                    Can you provide a link to sign up?   \n",
       "2     Is there an FAQ for this Machine Learning course?   \n",
       "3     Does this course have a GitHub repository for ...   \n",
       "4     How can I structure my questions and answers f...   \n",
       "...                                                 ...   \n",
       "1825  What are some suggested titles for listing the...   \n",
       "1826  Should I list the Machine Learning Zoomcamp ex...   \n",
       "1827  In which LinkedIn sections can I incorporate m...   \n",
       "1828  Who gave advice on including a project link in...   \n",
       "1829  Who suggested showcasing progress through Link...   \n",
       "\n",
       "                         course    cosine  \n",
       "0     machine-learning-zoomcamp  0.388595  \n",
       "1     machine-learning-zoomcamp  0.298360  \n",
       "2     machine-learning-zoomcamp  0.583048  \n",
       "3     machine-learning-zoomcamp -0.019481  \n",
       "4     machine-learning-zoomcamp  0.358467  \n",
       "...                         ...       ...  \n",
       "1825  machine-learning-zoomcamp  0.620892  \n",
       "1826  machine-learning-zoomcamp  0.730319  \n",
       "1827  machine-learning-zoomcamp  0.679815  \n",
       "1828  machine-learning-zoomcamp  0.355928  \n",
       "1829  machine-learning-zoomcamp  0.318145  \n",
       "\n",
       "[1830 rows x 6 columns]"
      ]
     },
     "execution_count": 44,
     "metadata": {},
     "output_type": "execute_result"
    }
   ],
   "source": [
    "df_gpt_4o_mini"
   ]
  },
  {
   "cell_type": "code",
   "execution_count": 39,
   "id": "86cf875a-d582-45ce-b888-9cb64140b180",
   "metadata": {},
   "outputs": [
    {
     "data": {
      "text/plain": [
       "count    1830.000000\n",
       "mean        0.680332\n",
       "std         0.215962\n",
       "min        -0.141910\n",
       "25%         0.585866\n",
       "50%         0.733998\n",
       "75%         0.836750\n",
       "max         0.982701\n",
       "Name: cosine, dtype: float64"
      ]
     },
     "execution_count": 39,
     "metadata": {},
     "output_type": "execute_result"
    }
   ],
   "source": [
    "df_gpt_4o_mini['cosine'] = similarity_4o_mini\n",
    "df_gpt_4o_mini['cosine'].describe()"
   ]
  },
  {
   "cell_type": "markdown",
   "id": "65af4f09-623a-49ef-a17f-32c866dda2c1",
   "metadata": {},
   "source": [
    "```\n",
    "gpt-4o-mini\n",
    "\n",
    "count    1830.000000\n",
    "mean        0.679129\n",
    "std         0.217995\n",
    "min        -0.153425\n",
    "25%         0.591460\n",
    "50%         0.734788\n",
    "75%         0.835390\n",
    "max         0.995339\n",
    "Name: cosine, dtype: float64\n",
    "```"
   ]
  },
  {
   "cell_type": "code",
   "execution_count": 43,
   "id": "f90b046a-62fa-4258-855c-ead7e60421ec",
   "metadata": {},
   "outputs": [
    {
     "name": "stderr",
     "output_type": "stream",
     "text": [
      "/tmp/ipykernel_15856/566471859.py:1: UserWarning: \n",
      "\n",
      "`distplot` is a deprecated function and will be removed in seaborn v0.14.0.\n",
      "\n",
      "Please adapt your code to use either `displot` (a figure-level function with\n",
      "similar flexibility) or `histplot` (an axes-level function for histograms).\n",
      "\n",
      "For a guide to updating your code to use the new functions, please see\n",
      "https://gist.github.com/mwaskom/de44147ed2974457ad6372750bbe5751\n",
      "\n",
      "  sns.distplot(df_gpt4o['cosine'], label = '4o')\n",
      "/tmp/ipykernel_15856/566471859.py:2: UserWarning: \n",
      "\n",
      "`distplot` is a deprecated function and will be removed in seaborn v0.14.0.\n",
      "\n",
      "Please adapt your code to use either `displot` (a figure-level function with\n",
      "similar flexibility) or `histplot` (an axes-level function for histograms).\n",
      "\n",
      "For a guide to updating your code to use the new functions, please see\n",
      "https://gist.github.com/mwaskom/de44147ed2974457ad6372750bbe5751\n",
      "\n",
      "  sns.distplot(df_gpt_4o_mini['cosine'], label = '4o_mini')\n",
      "/tmp/ipykernel_15856/566471859.py:3: UserWarning: \n",
      "\n",
      "`distplot` is a deprecated function and will be removed in seaborn v0.14.0.\n",
      "\n",
      "Please adapt your code to use either `displot` (a figure-level function with\n",
      "similar flexibility) or `histplot` (an axes-level function for histograms).\n",
      "\n",
      "For a guide to updating your code to use the new functions, please see\n",
      "https://gist.github.com/mwaskom/de44147ed2974457ad6372750bbe5751\n",
      "\n",
      "  sns.distplot(df_gpt_35['cosine'], label = '3.5')\n"
     ]
    },
    {
     "data": {
      "text/plain": [
       "<matplotlib.legend.Legend at 0x74edb1d27b00>"
      ]
     },
     "execution_count": 43,
     "metadata": {},
     "output_type": "execute_result"
    },
    {
     "data": {
      "image/png": "[encoded data removed]",
      "text/plain": [
       "<Figure size 640x480 with 1 Axes>"
      ]
     },
     "metadata": {},
     "output_type": "display_data"
    }
   ],
   "source": [
    "sns.distplot(df_gpt4o['cosine'], label = '4o')\n",
    "sns.distplot(df_gpt_4o_mini['cosine'], label = '4o_mini')\n",
    "sns.distplot(df_gpt_35['cosine'], label = '3.5')\n",
    "\n",
    "plt.legend()"
   ]
  },
  {
   "cell_type": "markdown",
   "id": "6fc9652e-4ef4-4353-933e-1f414dd468dc",
   "metadata": {},
   "source": [
    "### LLM as A Judge"
   ]
  },
  {
   "cell_type": "code",
   "execution_count": 54,
   "id": "66e290f0-9e60-4858-8e16-cadf45ea02a6",
   "metadata": {},
   "outputs": [],
   "source": [
    "prompt_template_1 = prompt1_template = \"\"\"\n",
    "You are an expert evaluator for a Retrieval-Augmented Generation (RAG) system.\n",
    "Your task is to analyze the relevance of the generated answer compared to the original answer provided.\n",
    "Based on the relevance and similarity of the generated answer to the original answer, you will classify\n",
    "it as \"NON_RELEVANT\", \"PARTLY_RELEVANT\", or \"RELEVANT\".\n",
    "\n",
    "Here is the data for evaluation:\n",
    "\n",
    "Original Answer: {answer_orig}\n",
    "Generated Question: {question}\n",
    "Generated Answer: {answer_llm}\n",
    "\n",
    "Please analyze the content and context of the generated answer in relation to the original\n",
    "answer and provide your evaluation in parsable JSON without using code blocks:\n",
    "\n",
    "{{\n",
    "  \"Relevance\": \"NON_RELEVANT\" | \"PARTLY_RELEVANT\" | \"RELEVANT\",\n",
    "  \"Explanation\": \"[Provide a brief explanation for your evaluation]\"\n",
    "}}\n",
    "\"\"\".strip()\n",
    "\n",
    "prompt_template_2 = \"\"\"\n",
    "You are an expert evaluator for a Retrieval-Augmented Generation (RAG) system.\n",
    "Your task is to analyze the relevance of the generated answer to the given question.\n",
    "Based on the relevance of the generated answer, you will classify it\n",
    "as \"NON_RELEVANT\", \"PARTLY_RELEVANT\", or \"RELEVANT\".\n",
    "\n",
    "Here is the data for evaluation:\n",
    "\n",
    "Question: {question}\n",
    "Generated Answer: {answer_llm}\n",
    "\n",
    "Please analyze the content and context of the generated answer in relation to the question\n",
    "and provide your evaluation in parsable JSON without using code blocks:\n",
    "\n",
    "{{\n",
    "  \"Relevance\": \"NON_RELEVANT\" | \"PARTLY_RELEVANT\" | \"RELEVANT\",\n",
    "  \"Explanation\": \"[Provide a brief explanation for your evaluation]\"\n",
    "}}\n",
    "\"\"\".strip()"
   ]
  },
  {
   "cell_type": "markdown",
   "id": "9468b600-dbe6-4857-92f5-39fbfdda26fa",
   "metadata": {},
   "source": [
    "##### sample data"
   ]
  },
  {
   "cell_type": "code",
   "execution_count": 55,
   "id": "d1d2a30e-e596-45f1-bfd0-4608cb3e0ec8",
   "metadata": {},
   "outputs": [],
   "source": [
    "df_sample = df_gpt_4o_mini.sample(n=150, random_state=42)"
   ]
  },
  {
   "cell_type": "code",
   "execution_count": 56,
   "id": "7fc0ac5b-9d66-4732-ac47-d03cb0f0a000",
   "metadata": {},
   "outputs": [],
   "source": [
    "samples = df_sample.to_dict(orient='records')"
   ]
  },
  {
   "cell_type": "code",
   "execution_count": 57,
   "id": "2f1c3524-a207-45a8-8044-792efdf74543",
   "metadata": {},
   "outputs": [
    {
     "data": {
      "text/plain": [
       "{'answer_llm': \"To format a number to 3 decimal places using f-strings, you can use the following syntax:\\n\\n```python\\nprint(f'Average mark for the Homework is {avg:.3f}')\\n```\\n\\nThis will display the value of `avg` rounded to 3 decimal places.\",\n",
       " 'answer_orig': \"You can use round() function or f-strings\\nround(number, 4)  - this will round number up to 4 decimal places\\nprint(f'Average mark for the Homework is {avg:.3f}') - using F string\\nAlso there is pandas.Series. round idf you need to round values in the whole Series\\nPlease check the documentation\\nhttps://pandas.pydata.org/pandas-docs/stable/reference/api/pandas.Series.round.html#pandas.Series.round\\nAdded by Olga Rudakova\",\n",
       " 'document': '67afabf5',\n",
       " 'question': 'Can you demonstrate using f-strings to format a number to 3 decimal places?',\n",
       " 'course': 'machine-learning-zoomcamp',\n",
       " 'cosine': 0.7501978278160095}"
      ]
     },
     "execution_count": 57,
     "metadata": {},
     "output_type": "execute_result"
    }
   ],
   "source": [
    "record = samples[0]\n",
    "record"
   ]
  },
  {
   "cell_type": "code",
   "execution_count": 61,
   "id": "b5f953a0-cb9d-4230-8c72-65b626934dff",
   "metadata": {},
   "outputs": [
    {
     "name": "stdout",
     "output_type": "stream",
     "text": [
      "You are an expert evaluator for a Retrieval-Augmented Generation (RAG) system.\n",
      "Your task is to analyze the relevance of the generated answer compared to the original answer provided.\n",
      "Based on the relevance and similarity of the generated answer to the original answer, you will classify\n",
      "it as \"NON_RELEVANT\", \"PARTLY_RELEVANT\", or \"RELEVANT\".\n",
      "\n",
      "Here is the data for evaluation:\n",
      "\n",
      "Original Answer: You can use round() function or f-strings\n",
      "round(number, 4)  - this will round number up to 4 decimal places\n",
      "print(f'Average mark for the Homework is {avg:.3f}') - using F string\n",
      "Also there is pandas.Series. round idf you need to round values in the whole Series\n",
      "Please check the documentation\n",
      "https://pandas.pydata.org/pandas-docs/stable/reference/api/pandas.Series.round.html#pandas.Series.round\n",
      "Added by Olga Rudakova\n",
      "Generated Question: Can you demonstrate using f-strings to format a number to 3 decimal places?\n",
      "Generated Answer: To format a number to 3 decimal places using f-strings, you can use the following syntax:\n",
      "\n",
      "```python\n",
      "print(f'Average mark for the Homework is {avg:.3f}')\n",
      "```\n",
      "\n",
      "This will display the value of `avg` rounded to 3 decimal places.\n",
      "\n",
      "Please analyze the content and context of the generated answer in relation to the original\n",
      "answer and provide your evaluation in parsable JSON without using code blocks:\n",
      "\n",
      "{\n",
      "  \"Relevance\": \"NON_RELEVANT\" | \"PARTLY_RELEVANT\" | \"RELEVANT\",\n",
      "  \"Explanation\": \"[Provide a brief explanation for your evaluation]\"\n",
      "}\n"
     ]
    }
   ],
   "source": [
    "prompt = prompt_template_1.format(**record)\n",
    "print(prompt)"
   ]
  },
  {
   "cell_type": "code",
   "execution_count": 64,
   "id": "34fd1d8d-fc99-48ae-80f5-b416f4bc8e9a",
   "metadata": {},
   "outputs": [],
   "source": [
    "answer = llm(prompt , model='gpt-4o-mini')"
   ]
  },
  {
   "cell_type": "code",
   "execution_count": 65,
   "id": "aadf0831-ddaa-4e2e-9812-61d16b13201b",
   "metadata": {},
   "outputs": [
    {
     "data": {
      "text/plain": [
       "{'Relevance': 'PARTLY_RELEVANT',\n",
       " 'Explanation': 'The generated answer correctly demonstrates the use of f-strings to format a number to 3 decimal places, which directly answers part of the question. However, it omits the mention of the round() function, rounding a number to 4 decimal places, and the information about pandas.Series.round, which were included in the original answer. Therefore, while it is relevant to the specific question, it does not encompass the full breadth of the original answer.'}"
      ]
     },
     "execution_count": 65,
     "metadata": {},
     "output_type": "execute_result"
    }
   ],
   "source": [
    "json.loads(answer)"
   ]
  },
  {
   "cell_type": "code",
   "execution_count": 86,
   "id": "e134984f-68be-4b3e-b7da-3372901d7a09",
   "metadata": {},
   "outputs": [
    {
     "name": "stderr",
     "output_type": "stream",
     "text": [
      "100%|████████████████████████████████████████████████████████████████████████████████| 150/150 [03:58<00:00,  1.59s/it]\n"
     ]
    }
   ],
   "source": [
    "evaluations = []\n",
    "\n",
    "for record in tqdm(samples):\n",
    "    prompt = prompt_template_1.format(**record)\n",
    "    answer = llm(prompt , model='gpt-4o-mini')\n",
    "    evaluations.append(answer)"
   ]
  },
  {
   "cell_type": "code",
   "execution_count": 89,
   "id": "e971b6f2-7e7c-4ff9-a3f5-b131f9cdfc8e",
   "metadata": {},
   "outputs": [
    {
     "data": {
      "text/plain": [
       "{'Relevance': 'NON_RELEVANT',\n",
       " 'Explanation': 'The generated answer addresses wget issues on MacOS M1 and provides information about installing wget and using curl as an alternative, which is unrelated to the original answer that discusses configuration adjustments for IPv6 addresses. There is no connection between network settings for IPv6 and the use of wget or curl.'}"
      ]
     },
     "execution_count": 89,
     "metadata": {},
     "output_type": "execute_result"
    }
   ],
   "source": [
    "json.loads(evaluations[130])"
   ]
  },
  {
   "cell_type": "code",
   "execution_count": 90,
   "id": "ed366cca-61d4-4911-943d-e324d4b17fd9",
   "metadata": {},
   "outputs": [
    {
     "name": "stderr",
     "output_type": "stream",
     "text": [
      "100%|████████████████████████████████████████████████████████████████████████████| 150/150 [00:00<00:00, 142663.40it/s]\n"
     ]
    }
   ],
   "source": [
    "json_evaluations = []\n",
    "\n",
    "for i, str_answe in enumerate(tqdm(evaluations)):\n",
    "    json_answer = json.loads(str_answe)\n",
    "    json_evaluations.append(json_answer)"
   ]
  },
  {
   "cell_type": "code",
   "execution_count": 91,
   "id": "1422eb64-4017-42e1-b40a-ae393b5cccc7",
   "metadata": {},
   "outputs": [
    {
     "data": {
      "text/html": [
       "<div>\n",
       "<style scoped>\n",
       "    .dataframe tbody tr th:only-of-type {\n",
       "        vertical-align: middle;\n",
       "    }\n",
       "\n",
       "    .dataframe tbody tr th {\n",
       "        vertical-align: top;\n",
       "    }\n",
       "\n",
       "    .dataframe thead th {\n",
       "        text-align: right;\n",
       "    }\n",
       "</style>\n",
       "<table border=\"1\" class=\"dataframe\">\n",
       "  <thead>\n",
       "    <tr style=\"text-align: right;\">\n",
       "      <th></th>\n",
       "      <th>Relevance</th>\n",
       "      <th>Explanation</th>\n",
       "    </tr>\n",
       "  </thead>\n",
       "  <tbody>\n",
       "    <tr>\n",
       "      <th>0</th>\n",
       "      <td>PARTLY_RELEVANT</td>\n",
       "      <td>The generated answer specifically addresses th...</td>\n",
       "    </tr>\n",
       "    <tr>\n",
       "      <th>1</th>\n",
       "      <td>RELEVANT</td>\n",
       "      <td>The generated answer directly addresses the ge...</td>\n",
       "    </tr>\n",
       "    <tr>\n",
       "      <th>2</th>\n",
       "      <td>RELEVANT</td>\n",
       "      <td>The generated answer directly addresses the qu...</td>\n",
       "    </tr>\n",
       "    <tr>\n",
       "      <th>3</th>\n",
       "      <td>RELEVANT</td>\n",
       "      <td>The generated answer directly addresses the qu...</td>\n",
       "    </tr>\n",
       "    <tr>\n",
       "      <th>4</th>\n",
       "      <td>RELEVANT</td>\n",
       "      <td>The generated answer directly addresses the qu...</td>\n",
       "    </tr>\n",
       "    <tr>\n",
       "      <th>...</th>\n",
       "      <td>...</td>\n",
       "      <td>...</td>\n",
       "    </tr>\n",
       "    <tr>\n",
       "      <th>145</th>\n",
       "      <td>RELEVANT</td>\n",
       "      <td>The generated answer directly addresses the qu...</td>\n",
       "    </tr>\n",
       "    <tr>\n",
       "      <th>146</th>\n",
       "      <td>RELEVANT</td>\n",
       "      <td>The generated answer addresses the question of...</td>\n",
       "    </tr>\n",
       "    <tr>\n",
       "      <th>147</th>\n",
       "      <td>RELEVANT</td>\n",
       "      <td>The generated answer accurately explains why t...</td>\n",
       "    </tr>\n",
       "    <tr>\n",
       "      <th>148</th>\n",
       "      <td>RELEVANT</td>\n",
       "      <td>The generated answer directly addresses the qu...</td>\n",
       "    </tr>\n",
       "    <tr>\n",
       "      <th>149</th>\n",
       "      <td>RELEVANT</td>\n",
       "      <td>The generated answer closely mirrors the origi...</td>\n",
       "    </tr>\n",
       "  </tbody>\n",
       "</table>\n",
       "<p>150 rows × 2 columns</p>\n",
       "</div>"
      ],
      "text/plain": [
       "           Relevance                                        Explanation\n",
       "0    PARTLY_RELEVANT  The generated answer specifically addresses th...\n",
       "1           RELEVANT  The generated answer directly addresses the ge...\n",
       "2           RELEVANT  The generated answer directly addresses the qu...\n",
       "3           RELEVANT  The generated answer directly addresses the qu...\n",
       "4           RELEVANT  The generated answer directly addresses the qu...\n",
       "..               ...                                                ...\n",
       "145         RELEVANT  The generated answer directly addresses the qu...\n",
       "146         RELEVANT  The generated answer addresses the question of...\n",
       "147         RELEVANT  The generated answer accurately explains why t...\n",
       "148         RELEVANT  The generated answer directly addresses the qu...\n",
       "149         RELEVANT  The generated answer closely mirrors the origi...\n",
       "\n",
       "[150 rows x 2 columns]"
      ]
     },
     "execution_count": 91,
     "metadata": {},
     "output_type": "execute_result"
    }
   ],
   "source": [
    "df_evaluation_results = pd.DataFrame(json_evaluations)\n",
    "df_evaluation_results"
   ]
  },
  {
   "cell_type": "code",
   "execution_count": 97,
   "id": "15facb16-f8be-480d-bb4e-a910802b67e1",
   "metadata": {},
   "outputs": [
    {
     "data": {
      "text/plain": [
       "Relevance\n",
       "RELEVANT           126\n",
       "PARTLY_RELEVANT     19\n",
       "NON_RELEVANT         5\n",
       "Name: count, dtype: int64"
      ]
     },
     "execution_count": 97,
     "metadata": {},
     "output_type": "execute_result"
    }
   ],
   "source": [
    "df_evaluation_results.Relevance.value_counts()"
   ]
  },
  {
   "cell_type": "code",
   "execution_count": 108,
   "id": "0f11ba6e-4e6c-404d-b978-18a2650c0f96",
   "metadata": {},
   "outputs": [
    {
     "data": {
      "text/html": [
       "<div>\n",
       "<style scoped>\n",
       "    .dataframe tbody tr th:only-of-type {\n",
       "        vertical-align: middle;\n",
       "    }\n",
       "\n",
       "    .dataframe tbody tr th {\n",
       "        vertical-align: top;\n",
       "    }\n",
       "\n",
       "    .dataframe thead th {\n",
       "        text-align: right;\n",
       "    }\n",
       "</style>\n",
       "<table border=\"1\" class=\"dataframe\">\n",
       "  <thead>\n",
       "    <tr style=\"text-align: right;\">\n",
       "      <th></th>\n",
       "      <th>Relevance</th>\n",
       "      <th>Explanation</th>\n",
       "    </tr>\n",
       "  </thead>\n",
       "  <tbody>\n",
       "    <tr>\n",
       "      <th>49</th>\n",
       "      <td>NON_RELEVANT</td>\n",
       "      <td>The generated answer states that the context d...</td>\n",
       "    </tr>\n",
       "    <tr>\n",
       "      <th>98</th>\n",
       "      <td>NON_RELEVANT</td>\n",
       "      <td>The generated answer does not address the orig...</td>\n",
       "    </tr>\n",
       "    <tr>\n",
       "      <th>102</th>\n",
       "      <td>NON_RELEVANT</td>\n",
       "      <td>The generated answer does not address the ques...</td>\n",
       "    </tr>\n",
       "    <tr>\n",
       "      <th>119</th>\n",
       "      <td>NON_RELEVANT</td>\n",
       "      <td>The generated answer incorrectly states that t...</td>\n",
       "    </tr>\n",
       "    <tr>\n",
       "      <th>130</th>\n",
       "      <td>NON_RELEVANT</td>\n",
       "      <td>The generated answer addresses wget issues on ...</td>\n",
       "    </tr>\n",
       "  </tbody>\n",
       "</table>\n",
       "</div>"
      ],
      "text/plain": [
       "        Relevance                                        Explanation\n",
       "49   NON_RELEVANT  The generated answer states that the context d...\n",
       "98   NON_RELEVANT  The generated answer does not address the orig...\n",
       "102  NON_RELEVANT  The generated answer does not address the ques...\n",
       "119  NON_RELEVANT  The generated answer incorrectly states that t...\n",
       "130  NON_RELEVANT  The generated answer addresses wget issues on ..."
      ]
     },
     "execution_count": 108,
     "metadata": {},
     "output_type": "execute_result"
    }
   ],
   "source": [
    "df_evaluation_results[df_evaluation_results.Relevance == 'NON_RELEVANT']"
   ]
  },
  {
   "cell_type": "code",
   "execution_count": 110,
   "id": "7cbfcebc-5fd4-44e1-a619-c1f205d376e1",
   "metadata": {},
   "outputs": [
    {
     "data": {
      "text/plain": [
       "{'answer_llm': 'It seems like your question is quite broad; could you please clarify what specific questions you have related to the course? I can provide information based on the FAQ context, such as what happens if you miss a session, project scoring, or how to sign up.',\n",
       " 'answer_orig': 'While running the docker image if you get the same result check which model you are using.\\nRemember you are using a model downloading model + python version so remember to change the model in your file when running your prediction test.\\nAdded by Ahmed Okka',\n",
       " 'document': '9fbfcd61',\n",
       " 'question': 'questions',\n",
       " 'course': 'machine-learning-zoomcamp',\n",
       " 'cosine': -0.03996453434228897}"
      ]
     },
     "execution_count": 110,
     "metadata": {},
     "output_type": "execute_result"
    }
   ],
   "source": [
    "samples[102]"
   ]
  },
  {
   "cell_type": "code",
   "execution_count": 105,
   "id": "ee31c5ca-6622-47c9-96f9-58ae99d4d04d",
   "metadata": {},
   "outputs": [
    {
     "data": {
      "text/plain": [
       "[{'Relevance': 'NON_RELEVANT',\n",
       "  'Explanation': \"The generated answer states that the context does not provide specific details and refers to the original answer as 'TODO', indicating a lack of content or information to prepare for the assignments. Therefore, it does not address the user's question meaningfully.\"},\n",
       " {'Relevance': 'NON_RELEVANT',\n",
       "  'Explanation': 'The generated answer does not address the original question regarding the specific GitHub repository for the course theory. Instead, it provides unrelated advice about creating a personal repository, which does not link back to the original sources provided in the original answer.'},\n",
       " {'Relevance': 'NON_RELEVANT',\n",
       "  'Explanation': 'The generated answer does not address the question about running a Docker image or model usage mentioned in the original answer. Instead, it asks for clarification on a broad question and provides unrelated information about course-related FAQs.'},\n",
       " {'Relevance': 'NON_RELEVANT',\n",
       "  'Explanation': 'The generated answer incorrectly states that the context does not include a link to the Evaluation Matrix, whereas the original answer clearly contains the link. Thus, it does not address the query correctly.'},\n",
       " {'Relevance': 'NON_RELEVANT',\n",
       "  'Explanation': 'The generated answer addresses wget issues on MacOS M1 and provides information about installing wget and using curl as an alternative, which is unrelated to the original answer that discusses configuration adjustments for IPv6 addresses. There is no connection between network settings for IPv6 and the use of wget or curl.'}]"
      ]
     },
     "execution_count": 105,
     "metadata": {},
     "output_type": "execute_result"
    }
   ],
   "source": [
    "df_evaluation_results[df_evaluation_results.Relevance == 'NON_RELEVANT'].to_dict(orient='records')"
   ]
  },
  {
   "cell_type": "code",
   "execution_count": 103,
   "id": "f04ab024-1a0b-443c-ad99-751f3ffff0de",
   "metadata": {},
   "outputs": [],
   "source": [
    "prompt = prompt_template_2.format(**record)\n",
    "#print(prompt)"
   ]
  },
  {
   "cell_type": "code",
   "execution_count": 96,
   "id": "98730ca7-bcab-43d9-b13a-1df0645c1dc9",
   "metadata": {},
   "outputs": [
    {
     "name": "stderr",
     "output_type": "stream",
     "text": [
      "100%|████████████████████████████████████████████████████████████████████████████████| 150/150 [03:47<00:00,  1.52s/it]\n"
     ]
    }
   ],
   "source": [
    "evaluations_2_prompt = []\n",
    "\n",
    "for record in tqdm(samples):\n",
    "    prompt = prompt_template_2.format(**record)\n",
    "    answer = llm(prompt , model='gpt-4o-mini')\n",
    "    evaluations_2_prompt.append(answer)"
   ]
  },
  {
   "cell_type": "code",
   "execution_count": 98,
   "id": "6390fc88-e2c5-4500-ba2b-83d42e931e16",
   "metadata": {},
   "outputs": [],
   "source": [
    "json_evaluations_2 = []\n",
    "\n",
    "for i, str_answe in enumerate(evaluations_2_prompt):\n",
    "    json_answer = json.loads(str_answe)\n",
    "    json_evaluations_2.append(json_answer)"
   ]
  },
  {
   "cell_type": "code",
   "execution_count": 99,
   "id": "df18a1d6-be45-4518-9a5e-f4019e4f225f",
   "metadata": {},
   "outputs": [
    {
     "data": {
      "text/html": [
       "<div>\n",
       "<style scoped>\n",
       "    .dataframe tbody tr th:only-of-type {\n",
       "        vertical-align: middle;\n",
       "    }\n",
       "\n",
       "    .dataframe tbody tr th {\n",
       "        vertical-align: top;\n",
       "    }\n",
       "\n",
       "    .dataframe thead th {\n",
       "        text-align: right;\n",
       "    }\n",
       "</style>\n",
       "<table border=\"1\" class=\"dataframe\">\n",
       "  <thead>\n",
       "    <tr style=\"text-align: right;\">\n",
       "      <th></th>\n",
       "      <th>Relevance</th>\n",
       "      <th>Explanation</th>\n",
       "    </tr>\n",
       "  </thead>\n",
       "  <tbody>\n",
       "    <tr>\n",
       "      <th>0</th>\n",
       "      <td>RELEVANT</td>\n",
       "      <td>The generated answer directly addresses the qu...</td>\n",
       "    </tr>\n",
       "    <tr>\n",
       "      <th>1</th>\n",
       "      <td>RELEVANT</td>\n",
       "      <td>The generated answer directly addresses the qu...</td>\n",
       "    </tr>\n",
       "    <tr>\n",
       "      <th>2</th>\n",
       "      <td>PARTLY_RELEVANT</td>\n",
       "      <td>The generated answer mentions information prov...</td>\n",
       "    </tr>\n",
       "    <tr>\n",
       "      <th>3</th>\n",
       "      <td>RELEVANT</td>\n",
       "      <td>The generated answer correctly addresses the q...</td>\n",
       "    </tr>\n",
       "    <tr>\n",
       "      <th>4</th>\n",
       "      <td>RELEVANT</td>\n",
       "      <td>The generated answer directly addresses the qu...</td>\n",
       "    </tr>\n",
       "    <tr>\n",
       "      <th>...</th>\n",
       "      <td>...</td>\n",
       "      <td>...</td>\n",
       "    </tr>\n",
       "    <tr>\n",
       "      <th>145</th>\n",
       "      <td>RELEVANT</td>\n",
       "      <td>The generated answer provides a direct link to...</td>\n",
       "    </tr>\n",
       "    <tr>\n",
       "      <th>146</th>\n",
       "      <td>RELEVANT</td>\n",
       "      <td>The generated answer directly addresses the qu...</td>\n",
       "    </tr>\n",
       "    <tr>\n",
       "      <th>147</th>\n",
       "      <td>RELEVANT</td>\n",
       "      <td>The generated answer accurately addresses the ...</td>\n",
       "    </tr>\n",
       "    <tr>\n",
       "      <th>148</th>\n",
       "      <td>RELEVANT</td>\n",
       "      <td>The generated answer directly addresses the qu...</td>\n",
       "    </tr>\n",
       "    <tr>\n",
       "      <th>149</th>\n",
       "      <td>RELEVANT</td>\n",
       "      <td>The generated answer directly addresses the qu...</td>\n",
       "    </tr>\n",
       "  </tbody>\n",
       "</table>\n",
       "<p>150 rows × 2 columns</p>\n",
       "</div>"
      ],
      "text/plain": [
       "           Relevance                                        Explanation\n",
       "0           RELEVANT  The generated answer directly addresses the qu...\n",
       "1           RELEVANT  The generated answer directly addresses the qu...\n",
       "2    PARTLY_RELEVANT  The generated answer mentions information prov...\n",
       "3           RELEVANT  The generated answer correctly addresses the q...\n",
       "4           RELEVANT  The generated answer directly addresses the qu...\n",
       "..               ...                                                ...\n",
       "145         RELEVANT  The generated answer provides a direct link to...\n",
       "146         RELEVANT  The generated answer directly addresses the qu...\n",
       "147         RELEVANT  The generated answer accurately addresses the ...\n",
       "148         RELEVANT  The generated answer directly addresses the qu...\n",
       "149         RELEVANT  The generated answer directly addresses the qu...\n",
       "\n",
       "[150 rows x 2 columns]"
      ]
     },
     "execution_count": 99,
     "metadata": {},
     "output_type": "execute_result"
    }
   ],
   "source": [
    "df_evaluation_results_2 = pd.DataFrame(json_evaluations_2)\n",
    "df_evaluation_results_2"
   ]
  },
  {
   "cell_type": "code",
   "execution_count": 100,
   "id": "ccc289de-0515-4862-9138-90b91a64687a",
   "metadata": {},
   "outputs": [
    {
     "data": {
      "text/plain": [
       "Relevance\n",
       "RELEVANT           128\n",
       "PARTLY_RELEVANT     21\n",
       "NON_RELEVANT         1\n",
       "Name: count, dtype: int64"
      ]
     },
     "execution_count": 100,
     "metadata": {},
     "output_type": "execute_result"
    }
   ],
   "source": [
    "df_evaluation_results_2.Relevance.value_counts()"
   ]
  },
  {
   "cell_type": "code",
   "execution_count": 102,
   "id": "efd9e6be-261c-4c9e-8d18-759e534f319c",
   "metadata": {},
   "outputs": [
    {
     "data": {
      "text/plain": [
       "[{'Relevance': 'NON_RELEVANT',\n",
       "  'Explanation': 'The generated answer states that there is no specific information available regarding preparation for the coding assignments in Week 8, indicating a lack of relevance to the question asked.'}]"
      ]
     },
     "execution_count": 102,
     "metadata": {},
     "output_type": "execute_result"
    }
   ],
   "source": [
    "df_evaluation_results_2[df_evaluation_results_2.Relevance == 'NON_RELEVANT'].to_dict(orient='records')"
   ]
  },
  {
   "cell_type": "code",
   "execution_count": 106,
   "id": "4059ebcd-032f-4760-84b9-5f9e04f4482c",
   "metadata": {},
   "outputs": [
    {
     "data": {
      "text/html": [
       "<div>\n",
       "<style scoped>\n",
       "    .dataframe tbody tr th:only-of-type {\n",
       "        vertical-align: middle;\n",
       "    }\n",
       "\n",
       "    .dataframe tbody tr th {\n",
       "        vertical-align: top;\n",
       "    }\n",
       "\n",
       "    .dataframe thead th {\n",
       "        text-align: right;\n",
       "    }\n",
       "</style>\n",
       "<table border=\"1\" class=\"dataframe\">\n",
       "  <thead>\n",
       "    <tr style=\"text-align: right;\">\n",
       "      <th></th>\n",
       "      <th>Relevance</th>\n",
       "      <th>Explanation</th>\n",
       "    </tr>\n",
       "  </thead>\n",
       "  <tbody>\n",
       "    <tr>\n",
       "      <th>49</th>\n",
       "      <td>NON_RELEVANT</td>\n",
       "      <td>The generated answer states that there is no s...</td>\n",
       "    </tr>\n",
       "  </tbody>\n",
       "</table>\n",
       "</div>"
      ],
      "text/plain": [
       "       Relevance                                        Explanation\n",
       "49  NON_RELEVANT  The generated answer states that there is no s..."
      ]
     },
     "execution_count": 106,
     "metadata": {},
     "output_type": "execute_result"
    }
   ],
   "source": [
    "df_evaluation_results_2[df_evaluation_results_2.Relevance == 'NON_RELEVANT']"
   ]
  },
  {
   "cell_type": "code",
   "execution_count": 107,
   "id": "b69ee08a-1077-45a2-ae1b-890b3ab41f8a",
   "metadata": {},
   "outputs": [
    {
     "data": {
      "text/plain": [
       "{'answer_llm': 'The context does not provide specific details on how to prepare for the coding assignments in Week 8. It simply states \"TODO\" for the question regarding getting started with Week 8. Therefore, further information or instructions on this preparation are not available in the provided context.',\n",
       " 'answer_orig': 'TODO',\n",
       " 'document': 'ff40f83b',\n",
       " 'question': 'How should I prepare for the coding assignments in Week 8?',\n",
       " 'course': 'machine-learning-zoomcamp',\n",
       " 'cosine': 0.34277015924453735}"
      ]
     },
     "execution_count": 107,
     "metadata": {},
     "output_type": "execute_result"
    }
   ],
   "source": [
    "samples[49]"
   ]
  },
  {
   "cell_type": "code",
   "execution_count": 114,
   "id": "d16ec8ed-9cfa-44cc-911a-f0dea3ab4509",
   "metadata": {},
   "outputs": [],
   "source": [
    "df_evaluation_results_2.to_csv('data/df_evaluation_results_2_qa.csv', index=False)"
   ]
  },
  {
   "cell_type": "code",
   "execution_count": 115,
   "id": "fd137299-6437-4b12-ba53-70317aba7960",
   "metadata": {},
   "outputs": [],
   "source": [
    "df_evaluation_results.to_csv('data/df_evaluation_results_qa.csv', index=False)"
   ]
  },
  {
   "cell_type": "code",
   "execution_count": 116,
   "id": "18ebcd2b-6eaa-4f51-b7f7-81da06cd98a0",
   "metadata": {},
   "outputs": [],
   "source": [
    "df_gpt_4o_mini.to_csv('data/df_gpt_4o_mini_cosine.csv', index=False)\n",
    "df_gpt4o.to_csv('data/df_gpt4o_cosine.csv', index=False)\n",
    "df_gpt_35.to_csv('data/df_gpt_35_cosine.csv', index=False)"
   ]
  },
  {
   "cell_type": "code",
   "execution_count": null,
   "id": "23df28e7-b6f7-4dba-bcba-10ec427a3e40",
   "metadata": {},
   "outputs": [],
   "source": []
  }
 ],
 "metadata": {
  "kernelspec": {
   "display_name": "Python 3 (ipykernel)",
   "language": "python",
   "name": "python3"
  },
  "language_info": {
   "codemirror_mode": {
    "name": "ipython",
    "version": 3
   },
   "file_extension": ".py",
   "mimetype": "text/x-python",
   "name": "python",
   "nbconvert_exporter": "python",
   "pygments_lexer": "ipython3",
   "version": "3.12.1"
  }
 },
 "nbformat": 4,
 "nbformat_minor": 5
}
