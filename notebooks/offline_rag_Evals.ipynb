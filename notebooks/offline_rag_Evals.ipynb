{
 "cells": [
  {
   "cell_type": "markdown",
   "id": "10314576-5906-4893-abf2-b9a5dddc967e",
   "metadata": {},
   "source": [
    "#### Load documents with ID"
   ]
  },
  {
   "cell_type": "code",
   "execution_count": 1,
   "id": "77c8854c-5f8c-4836-99bc-425aaf51c74c",
   "metadata": {},
   "outputs": [],
   "source": [
    "import requests\n",
    "import pandas as pd\n",
    "import json"
   ]
  },
  {
   "cell_type": "code",
   "execution_count": 2,
   "id": "e4ec9f9f-bb6d-4fff-81e5-ad3b10823537",
   "metadata": {},
   "outputs": [],
   "source": [
    "base_url = 'https://github.com/DataTalksClub/llm-zoomcamp/blob/main'\n",
    "relative_url = '03-vector-search/eval/documents-with-ids.json'\n",
    "docs_url = f'{base_url}/{relative_url}?raw=1'\n",
    "docs_response = requests.get(docs_url)\n",
    "\n",
    "documents = docs_response.json()"
   ]
  },
  {
   "cell_type": "code",
   "execution_count": 3,
   "id": "6bf018c8-adbb-44ce-aed0-29f556df8f61",
   "metadata": {},
   "outputs": [
    {
     "data": {
      "text/plain": [
       "{'text': \"The purpose of this document is to capture frequently asked technical questions\\nThe exact day and hour of the course will be 15th Jan 2024 at 17h00. The course will start with the first  “Office Hours'' live.1\\nSubscribe to course public Google Calendar (it works from Desktop only).\\nRegister before the course starts using this link.\\nJoin the course Telegram channel with announcements.\\nDon’t forget to register in DataTalks.Club's Slack and join the channel.\",\n",
       " 'section': 'General course-related questions',\n",
       " 'question': 'Course - When will the course start?',\n",
       " 'course': 'data-engineering-zoomcamp',\n",
       " 'id': 'c02e79ef'}"
      ]
     },
     "execution_count": 3,
     "metadata": {},
     "output_type": "execute_result"
    }
   ],
   "source": [
    "documents[0]"
   ]
  },
  {
   "cell_type": "code",
   "execution_count": 4,
   "id": "9fb792ba-43ab-4a21-b9ab-6375a9c708f6",
   "metadata": {},
   "outputs": [
    {
     "data": {
      "text/plain": [
       "{'text': \"The purpose of this document is to capture frequently asked technical questions\\nThe exact day and hour of the course will be 15th Jan 2024 at 17h00. The course will start with the first  “Office Hours'' live.1\\nSubscribe to course public Google Calendar (it works from Desktop only).\\nRegister before the course starts using this link.\\nJoin the course Telegram channel with announcements.\\nDon’t forget to register in DataTalks.Club's Slack and join the channel.\",\n",
       " 'section': 'General course-related questions',\n",
       " 'question': 'Course - When will the course start?',\n",
       " 'course': 'data-engineering-zoomcamp',\n",
       " 'id': 'c02e79ef'}"
      ]
     },
     "execution_count": 4,
     "metadata": {},
     "output_type": "execute_result"
    }
   ],
   "source": [
    "with open('document_with_ids.json', 'r') as f:\n",
    "    data = json.load(f)\n",
    "data[0]"
   ]
  },
  {
   "cell_type": "markdown",
   "id": "2c713eb6-34e7-488e-9e81-3df6beef768b",
   "metadata": {},
   "source": [
    "#### Load Ground truth data"
   ]
  },
  {
   "cell_type": "code",
   "execution_count": 5,
   "id": "c0203499-eda6-45b9-bf5d-3c407b5c16da",
   "metadata": {},
   "outputs": [],
   "source": [
    "df_ground_truth = pd.read_csv('ground_truth_data.csv')\n",
    "df_ground_truth = df_ground_truth[df_ground_truth.course == 'machine-learning-zoomcamp']\n",
    "ground_truth = df_ground_truth.to_dict(orient= 'records')"
   ]
  },
  {
   "cell_type": "code",
   "execution_count": 6,
   "id": "798899d5-8b4f-4597-928a-7893d4942b7f",
   "metadata": {},
   "outputs": [
    {
     "data": {
      "text/plain": [
       "{'question': 'What happens if I cannot attend a class session?',\n",
       " 'course': 'machine-learning-zoomcamp',\n",
       " 'document': '5170565b'}"
      ]
     },
     "execution_count": 6,
     "metadata": {},
     "output_type": "execute_result"
    }
   ],
   "source": [
    "ground_truth[10]"
   ]
  },
  {
   "cell_type": "code",
   "execution_count": 7,
   "id": "dab498d6-1bb3-4399-81f1-edbad56403e2",
   "metadata": {},
   "outputs": [
    {
     "data": {
      "text/plain": [
       "'Everything is recorded, so you won’t miss anything. You will be able to ask your questions for office hours in advance and we will cover them during the live stream. Also, you can always ask questions in Slack.'"
      ]
     },
     "execution_count": 7,
     "metadata": {},
     "output_type": "execute_result"
    }
   ],
   "source": [
    "docs_idx = {d['id']: d for d in documents}\n",
    "docs_idx['5170565b']['text']"
   ]
  },
  {
   "cell_type": "markdown",
   "id": "c489b52b-5288-4ea0-9004-e4b2c461d348",
   "metadata": {},
   "source": [
    "### index data"
   ]
  },
  {
   "cell_type": "code",
   "execution_count": 8,
   "id": "b1f3c07c-0540-4c97-91ff-4d4d4cb3cef2",
   "metadata": {},
   "outputs": [
    {
     "name": "stderr",
     "output_type": "stream",
     "text": [
      "/home/codespace/.local/lib/python3.12/site-packages/tqdm/auto.py:21: TqdmWarning: IProgress not found. Please update jupyter and ipywidgets. See https://ipywidgets.readthedocs.io/en/stable/user_install.html\n",
      "  from .autonotebook import tqdm as notebook_tqdm\n"
     ]
    }
   ],
   "source": [
    "from sentence_transformers import SentenceTransformer\n",
    "from elasticsearch import Elasticsearch"
   ]
  },
  {
   "cell_type": "code",
   "execution_count": 9,
   "id": "e6a41516-8790-4e77-985d-703bd8c08a41",
   "metadata": {},
   "outputs": [],
   "source": [
    "model_name = 'multi-qa-MiniLM-L6-cos-v1'\n",
    "model = SentenceTransformer(model_name)"
   ]
  },
  {
   "cell_type": "code",
   "execution_count": 10,
   "id": "b2e4280c-69f0-415b-90dd-1a5f047ab120",
   "metadata": {},
   "outputs": [
    {
     "data": {
      "text/plain": [
       "ObjectApiResponse({'acknowledged': True, 'shards_acknowledged': True, 'index': 'course-questions'})"
      ]
     },
     "execution_count": 10,
     "metadata": {},
     "output_type": "execute_result"
    }
   ],
   "source": [
    "es_client = Elasticsearch('http://localhost:9200')\n",
    "\n",
    "index_settings = {\n",
    "    \"settings\": {\n",
    "        \"number_of_shards\": 1,\n",
    "        \"number_of_replicas\": 0\n",
    "    },\n",
    "    \"mappings\": {\n",
    "        \"properties\": {\n",
    "            \"text\": {\"type\": \"text\"},\n",
    "            \"section\": {\"type\": \"text\"},\n",
    "            \"question\": {\"type\": \"text\"},\n",
    "            \"course\": {\"type\": \"keyword\"},\n",
    "            \"id\": {\"type\": \"keyword\"},\n",
    "            \"question_text_vector\": {\n",
    "                \"type\": \"dense_vector\",\n",
    "                \"dims\": 384,\n",
    "                \"index\": True,\n",
    "                \"similarity\": \"cosine\"\n",
    "            },\n",
    "        }\n",
    "    }\n",
    "}\n",
    "\n",
    "index_name = \"course-questions\"\n",
    "es_client.indices.delete(index=index_name, ignore_unavailable=True)\n",
    "es_client.indices.create(index = index_name, body = index_settings)"
   ]
  },
  {
   "cell_type": "code",
   "execution_count": 11,
   "id": "e7a3bb50-c463-47ae-9337-358798f71580",
   "metadata": {},
   "outputs": [
    {
     "name": "stderr",
     "output_type": "stream",
     "text": [
      "100%|███████████████████████████████████████████████████████████| 948/948 [01:02<00:00, 15.23it/s]\n"
     ]
    }
   ],
   "source": [
    "from tqdm import tqdm\n",
    "\n",
    "for doc in tqdm(documents):\n",
    "    question = doc['question']\n",
    "    text = doc['text']\n",
    "    doc['question_text_vector'] = model.encode(question + ' ' + text)\n",
    "\n",
    "    es_client.index(index= index_name, document= doc)"
   ]
  },
  {
   "cell_type": "code",
   "execution_count": 12,
   "id": "863bfbca-1ef3-4736-a16f-8cf05a8653a5",
   "metadata": {},
   "outputs": [],
   "source": [
    "def elastic_search_knn(field, vector, course):\n",
    "    knn = {\n",
    "        \"field\" : field,\n",
    "        \"query_vector\" : vector,\n",
    "        \"k\" : 5,\n",
    "        \"num_candidates\" : 10000,\n",
    "        \"filter\" : {\n",
    "            \"term\" : {\n",
    "                \"course\" : course\n",
    "                }\n",
    "            }\n",
    "        }\n",
    "    search_query = {\n",
    "        \"knn\" : knn,\n",
    "        \"_source\" : [\"text\", \"section\", \"question\", \"course\", \"id\"]\n",
    "    }\n",
    "    \n",
    "    es_result = es_client.search(\n",
    "        index = index_name,\n",
    "        body = search_query\n",
    "    )\n",
    "    result_docs = []\n",
    "    \n",
    "    for hit in es_result['hits']['hits']:\n",
    "        result_docs.append(hit['_source'])\n",
    "    \n",
    "    return result_docs\n",
    "\n",
    "def question_text_vector_knn(q):\n",
    "    question = q[\"question\"]\n",
    "    course = q[\"course\"]\n",
    "\n",
    "    v_q = model.encode(question)\n",
    "    return elastic_search_knn(\"question_text_vector\", v_q, course)"
   ]
  },
  {
   "cell_type": "code",
   "execution_count": 13,
   "id": "14bf5e9e-61b5-4a9c-8cab-cee40ad1950a",
   "metadata": {},
   "outputs": [
    {
     "data": {
      "text/plain": [
       "[{'question': 'What if I miss a session?',\n",
       "  'course': 'machine-learning-zoomcamp',\n",
       "  'section': 'General course-related questions',\n",
       "  'text': 'Everything is recorded, so you won’t miss anything. You will be able to ask your questions for office hours in advance and we will cover them during the live stream. Also, you can always ask questions in Slack.',\n",
       "  'id': '5170565b'},\n",
       " {'question': 'Is it going to be live? When?',\n",
       "  'course': 'machine-learning-zoomcamp',\n",
       "  'section': 'General course-related questions',\n",
       "  'text': 'The course videos are pre-recorded, you can start watching the course right now.\\nWe will also occasionally have office hours - live sessions where we will answer your questions. The office hours sessions are recorded too.\\nYou can see the office hours as well as the pre-recorded course videos in the course playlist on YouTube.',\n",
       "  'id': '39fda9f0'},\n",
       " {'question': 'The same accuracy on epochs',\n",
       "  'course': 'machine-learning-zoomcamp',\n",
       "  'section': '8. Neural Networks and Deep Learning',\n",
       "  'text': \"Problem description\\nThe accuracy and the loss are both still the same or nearly the same while training.\\nSolution description\\nIn the homework, you should set class_mode='binary' while reading the data.\\nAlso, problem occurs when you choose the wrong optimizer, batch size, or learning rate\\nAdded by Ekaterina Kutovaia\",\n",
       "  'id': '7d11d5ce'},\n",
       " {'question': 'Useful Resource for Missing Data Treatment\\nhttps://www.kaggle.com/code/parulpandey/a-guide-to-handling-missing-values-in-python/notebook',\n",
       "  'course': 'machine-learning-zoomcamp',\n",
       "  'section': '2. Machine Learning for Regression',\n",
       "  'text': '(Hrithik Kumar Advani)',\n",
       "  'id': '81b8e8d0'},\n",
       " {'question': 'Will I get a certificate if I missed the midterm project?',\n",
       "  'course': 'machine-learning-zoomcamp',\n",
       "  'section': 'General course-related questions',\n",
       "  'text': \"Yes, it's possible. See the previous answer.\",\n",
       "  'id': '1d644223'}]"
      ]
     },
     "execution_count": 13,
     "metadata": {},
     "output_type": "execute_result"
    }
   ],
   "source": [
    "question_text_vector_knn(dict(\n",
    "    question='Are sessions recorded if I miss one?',\n",
    "    course='machine-learning-zoomcamp'\n",
    "))"
   ]
  },
  {
   "cell_type": "markdown",
   "id": "13038773-c455-4de2-9b87-ec75ccc74caa",
   "metadata": {},
   "source": [
    "#### The Rag Flow"
   ]
  },
  {
   "cell_type": "code",
   "execution_count": 14,
   "id": "6f1ca22d-b5d6-43f0-a99f-901fb6837b66",
   "metadata": {},
   "outputs": [],
   "source": [
    "def build_prompt(query, search_results):\n",
    "    prompt_template = \"\"\"\n",
    "You're a course teaching assistant. Answer the QUESTION based on the CONTEXT from the FAQ database.\n",
    "Use only the facts from the CONTEXT when answering the QUESTION.\n",
    "\n",
    "QUESTION: {question}\n",
    "\n",
    "CONTEXT: \n",
    "{context}\"\"\".strip()\n",
    "    context = \"\"\n",
    "    for doc in search_results:\n",
    "        context = context + f\"section: {doc['section']}\\nquestion: {doc['question']}\\nAnswer: {doc['text']}\\n\\n\"\n",
    "\n",
    "    prompt = prompt_template.format(question=query, context = context).strip()\n",
    "    return prompt"
   ]
  },
  {
   "cell_type": "code",
   "execution_count": 15,
   "id": "e8dc847b-a5fa-440a-be5c-d67573e5f517",
   "metadata": {},
   "outputs": [],
   "source": [
    "from openai import OpenAI\n",
    "from dotenv import load_dotenv\n",
    "import os\n",
    "\n",
    "load_dotenv()\n",
    "\n",
    "api_key = os.getenv('OPENAI_API_KEY')\n",
    "client = OpenAI(api_key = api_key)\n",
    "\n",
    "def llm(prompt, model = 'gpt-4o-mini'):\n",
    "    response = client.chat.completions.create(\n",
    "        model = model,\n",
    "        messages =  [{\"role\" : \"user\", \"content\" : prompt}]\n",
    "    )\n",
    "    return response.choices[0].message.content"
   ]
  },
  {
   "cell_type": "code",
   "execution_count": 16,
   "id": "3a273372-5c7c-4b5a-b582-0e01c99d554a",
   "metadata": {},
   "outputs": [],
   "source": [
    "def rag(query: dict, model = 'gpt-4o-mini') ->str:\n",
    "    search_results = question_text_vector_knn(query)\n",
    "    prompt= build_prompt(query['question'], search_results)\n",
    "    answer = llm(prompt, model=model)\n",
    "    return answer"
   ]
  },
  {
   "cell_type": "code",
   "execution_count": 17,
   "id": "24cf7de2-b083-46a3-aa5a-b0f717e7af05",
   "metadata": {},
   "outputs": [
    {
     "data": {
      "text/plain": [
       "{'question': 'What happens if I cannot attend a class session?',\n",
       " 'course': 'machine-learning-zoomcamp',\n",
       " 'document': '5170565b'}"
      ]
     },
     "execution_count": 17,
     "metadata": {},
     "output_type": "execute_result"
    }
   ],
   "source": [
    "ground_truth[10]"
   ]
  },
  {
   "cell_type": "code",
   "execution_count": 18,
   "id": "81c0b293-4044-4e98-be16-0cae239bbc29",
   "metadata": {},
   "outputs": [
    {
     "data": {
      "text/plain": [
       "'If you cannot attend a class session, everything is recorded, so you won’t miss anything. You will have the opportunity to ask questions during office hours in advance, and those questions will be addressed during the live stream. Additionally, you can always ask questions in Slack.'"
      ]
     },
     "execution_count": 18,
     "metadata": {},
     "output_type": "execute_result"
    }
   ],
   "source": [
    "rag(ground_truth[10])"
   ]
  },
  {
   "cell_type": "code",
   "execution_count": 19,
   "id": "6767ea66-0482-4534-8a2e-d3206e4d64b7",
   "metadata": {},
   "outputs": [
    {
     "data": {
      "text/plain": [
       "'Everything is recorded, so you won’t miss anything. You will be able to ask your questions for office hours in advance and we will cover them during the live stream. Also, you can always ask questions in Slack.'"
      ]
     },
     "execution_count": 19,
     "metadata": {},
     "output_type": "execute_result"
    }
   ],
   "source": [
    "docs_idx['5170565b']['text']"
   ]
  },
  {
   "cell_type": "markdown",
   "id": "c2c6da97-c41d-4b5a-8ed3-cb1f9dc74d6c",
   "metadata": {},
   "source": [
    "### Cosine Similarity Metric"
   ]
  },
  {
   "cell_type": "code",
   "execution_count": 20,
   "id": "8a6e7b45-edef-4eb0-a5c3-14f544d1b8bf",
   "metadata": {},
   "outputs": [
    {
     "data": {
      "text/plain": [
       "np.float32(0.7919637)"
      ]
     },
     "execution_count": 20,
     "metadata": {},
     "output_type": "execute_result"
    }
   ],
   "source": [
    "llm_answer = 'If you cannot attend a class session, everything is recorded, so you won’t miss anything. You can ask your questions in advance for office hours, and those will be covered during the live stream. Additionally, you can always ask questions in Slack.'\n",
    "doc_answer = 'Everything is recorded, so you won’t miss anything. You will be able to ask your questions for office hours in advance and we will cover them during the live stream. Also, you can always ask questions in Slack.'\n",
    "\n",
    "v_llm = model.encode(llm_answer)\n",
    "v_doc = model.encode(doc_answer)\n",
    "\n",
    "v_llm.dot(v_doc)"
   ]
  },
  {
   "cell_type": "code",
   "execution_count": 23,
   "id": "48c15763-3a8c-4dae-9489-c8fdf4e96e05",
   "metadata": {},
   "outputs": [],
   "source": [
    "answers = {}"
   ]
  },
  {
   "cell_type": "code",
   "execution_count": null,
   "id": "c31094f9-febb-4870-aea7-ff6cc6b210ba",
   "metadata": {},
   "outputs": [],
   "source": [
    "answers"
   ]
  },
  {
   "cell_type": "code",
   "execution_count": null,
   "id": "32d2fab1-3ee6-41bd-ba84-a7df608f8384",
   "metadata": {},
   "outputs": [],
   "source": [
    "for i, rec in enumerate(tqdm(ground_truth)):\n",
    "    if i in answers:\n",
    "        continue\n",
    "    answer_llm = rag(rec)\n",
    "    doc_id = rec['document']\n",
    "    orig_document = docs_idx[doc_id]\n",
    "    answer_orig = orig_document['text']\n",
    "\n",
    "    answers[i] = {\n",
    "        \"answer_llm\" : answer_llm,\n",
    "        \"answer_orig\" : answer_orig,\n",
    "        \"document\" : doc_id\n",
    "    }"
   ]
  },
  {
   "cell_type": "code",
   "execution_count": 31,
   "id": "4c33b52a-d060-4bdb-b723-997da1af945b",
   "metadata": {},
   "outputs": [],
   "source": [
    "df_gpt_4o_mini = pd.DataFrame(answers.values())"
   ]
  },
  {
   "cell_type": "code",
   "execution_count": 32,
   "id": "e2a4951a-a6e5-4368-9ea0-d86b9cbd8679",
   "metadata": {},
   "outputs": [
    {
     "data": {
      "text/html": [
       "<div>\n",
       "<style scoped>\n",
       "    .dataframe tbody tr th:only-of-type {\n",
       "        vertical-align: middle;\n",
       "    }\n",
       "\n",
       "    .dataframe tbody tr th {\n",
       "        vertical-align: top;\n",
       "    }\n",
       "\n",
       "    .dataframe thead th {\n",
       "        text-align: right;\n",
       "    }\n",
       "</style>\n",
       "<table border=\"1\" class=\"dataframe\">\n",
       "  <thead>\n",
       "    <tr style=\"text-align: right;\">\n",
       "      <th></th>\n",
       "      <th>answer_llm</th>\n",
       "      <th>answer_orig</th>\n",
       "      <th>document</th>\n",
       "    </tr>\n",
       "  </thead>\n",
       "  <tbody>\n",
       "    <tr>\n",
       "      <th>77</th>\n",
       "      <td>Yes, you can begin the course materials before...</td>\n",
       "      <td>The course is available in the self-paced mode...</td>\n",
       "      <td>636f55d5</td>\n",
       "    </tr>\n",
       "    <tr>\n",
       "      <th>28</th>\n",
       "      <td>If you unsubscribed from the newsletter, you w...</td>\n",
       "      <td>The process is automated now, so you should re...</td>\n",
       "      <td>6ba259b1</td>\n",
       "    </tr>\n",
       "    <tr>\n",
       "      <th>13</th>\n",
       "      <td>Yes, you can ask questions outside of the live...</td>\n",
       "      <td>Everything is recorded, so you won’t miss anyt...</td>\n",
       "      <td>5170565b</td>\n",
       "    </tr>\n",
       "    <tr>\n",
       "      <th>34</th>\n",
       "      <td>Yes, there are options for extra credits that ...</td>\n",
       "      <td>Approximately 4 months, but may take more if y...</td>\n",
       "      <td>67e2fd13</td>\n",
       "    </tr>\n",
       "    <tr>\n",
       "      <th>47</th>\n",
       "      <td>If you miss the midterm project, you may still...</td>\n",
       "      <td>Yes, it's possible. See the previous answer.</td>\n",
       "      <td>1d644223</td>\n",
       "    </tr>\n",
       "  </tbody>\n",
       "</table>\n",
       "</div>"
      ],
      "text/plain": [
       "                                           answer_llm  \\\n",
       "77  Yes, you can begin the course materials before...   \n",
       "28  If you unsubscribed from the newsletter, you w...   \n",
       "13  Yes, you can ask questions outside of the live...   \n",
       "34  Yes, there are options for extra credits that ...   \n",
       "47  If you miss the midterm project, you may still...   \n",
       "\n",
       "                                          answer_orig  document  \n",
       "77  The course is available in the self-paced mode...  636f55d5  \n",
       "28  The process is automated now, so you should re...  6ba259b1  \n",
       "13  Everything is recorded, so you won’t miss anyt...  5170565b  \n",
       "34  Approximately 4 months, but may take more if y...  67e2fd13  \n",
       "47       Yes, it's possible. See the previous answer.  1d644223  "
      ]
     },
     "execution_count": 32,
     "metadata": {},
     "output_type": "execute_result"
    }
   ],
   "source": [
    "df_gpt_4o_mini.sample(n=5)"
   ]
  },
  {
   "cell_type": "code",
   "execution_count": null,
   "id": "f6fb26b3-03a2-4dbf-9ca0-3de629f37caa",
   "metadata": {},
   "outputs": [],
   "source": []
  }
 ],
 "metadata": {
  "kernelspec": {
   "display_name": "Python 3 (ipykernel)",
   "language": "python",
   "name": "python3"
  },
  "language_info": {
   "codemirror_mode": {
    "name": "ipython",
    "version": 3
   },
   "file_extension": ".py",
   "mimetype": "text/x-python",
   "name": "python",
   "nbconvert_exporter": "python",
   "pygments_lexer": "ipython3",
   "version": "3.12.1"
  }
 },
 "nbformat": 4,
 "nbformat_minor": 5
}
