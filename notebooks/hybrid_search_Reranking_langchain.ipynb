{
 "cells": [
  {
   "cell_type": "code",
   "execution_count": 83,
   "id": "4e329f49-0e94-4bfb-9c41-983c93a4865f",
   "metadata": {},
   "outputs": [],
   "source": [
    "import json\n",
    "import pandas as pd\n",
    "from tqdm.auto import tqdm\n",
    "from elasticsearch import Elasticsearch\n",
    "from sentence_transformers import SentenceTransformer"
   ]
  },
  {
   "cell_type": "code",
   "execution_count": 84,
   "id": "0c8fa6b9-108f-4ad2-9ff6-d0ca728da57f",
   "metadata": {},
   "outputs": [],
   "source": [
    "with open('document_with_ids.json', 'rt') as f_in:\n",
    "    documents = json.load(f_in)"
   ]
  },
  {
   "cell_type": "code",
   "execution_count": 85,
   "id": "d70dc4a0-512b-45e8-97e2-08860b597799",
   "metadata": {},
   "outputs": [],
   "source": [
    "model_name = 'multi-qa-MiniLM-L6-cos-v1'\n",
    "model = SentenceTransformer(model_name)"
   ]
  },
  {
   "cell_type": "markdown",
   "id": "6ecf0236-541d-4868-831c-a3222a599533",
   "metadata": {},
   "source": [
    "### Indexing"
   ]
  },
  {
   "cell_type": "code",
   "execution_count": 86,
   "id": "8b75ba32-bf29-4982-a21d-90707163c496",
   "metadata": {},
   "outputs": [
    {
     "data": {
      "application/vnd.jupyter.widget-view+json": {
       "model_id": "e4dff850b1d34d4dba5e3b73eeeb367a",
       "version_major": 2,
       "version_minor": 0
      },
      "text/plain": [
       "  0%|          | 0/948 [00:00<?, ?it/s]"
      ]
     },
     "metadata": {},
     "output_type": "display_data"
    }
   ],
   "source": [
    "for doc in tqdm(documents):\n",
    "    question = doc['question']\n",
    "    text = doc['text']\n",
    "    qt = question + ' ' + text\n",
    "\n",
    "    doc['question_vector'] = model.encode(question)\n",
    "    doc['text_vector'] = model.encode(text)\n",
    "    doc['question_text_vector'] = model.encode(qt)\n",
    "    "
   ]
  },
  {
   "cell_type": "code",
   "execution_count": 87,
   "id": "caa9d5c7-41fb-473f-9ea5-e3777e3072c4",
   "metadata": {},
   "outputs": [
    {
     "data": {
      "text/plain": [
       "ObjectApiResponse({'acknowledged': True, 'shards_acknowledged': True, 'index': 'course_questions'})"
      ]
     },
     "execution_count": 87,
     "metadata": {},
     "output_type": "execute_result"
    }
   ],
   "source": [
    "es_client = Elasticsearch(\"http://localhost:9200\")\n",
    "\n",
    "index_settings = {\n",
    "    \"settings\": {\n",
    "        \"number_of_shards\" : 1,\n",
    "        \"number_of_replicas\" : 0\n",
    "    },\n",
    "    \"mappings\" : {\n",
    "        \"properties\" : {\n",
    "            \"text\" : {\"type\" : \"text\"},\n",
    "            \"section\" : {\"type\" : \"text\"},\n",
    "            \"question\" : {\"type\" : \"text\"},\n",
    "            \"course\" : {\"type\" : \"keyword\"},\n",
    "            \"id\" : {\"type\" : \"keyword\"},\n",
    "            \"question_vector\" : {\n",
    "                \"type\" : \"dense_vector\",\n",
    "                \"dims\" : 384,\n",
    "                \"index\" : True,\n",
    "                \"similarity\": \"cosine\"\n",
    "            },\n",
    "            \"text_vector\" : {\n",
    "                \"type\" : \"dense_vector\",\n",
    "                \"dims\" : 384,\n",
    "                \"index\" : True,\n",
    "                \"similarity\": \"cosine\"\n",
    "            },\n",
    "            \"question_text_vector\" : {\n",
    "                \"type\" : \"dense_vector\",\n",
    "                \"dims\" : 384,\n",
    "                \"index\" : True,\n",
    "                \"similarity\": \"cosine\"\n",
    "            },\n",
    "        }\n",
    "    }\n",
    "}\n",
    "\n",
    "index_name = \"course_questions\"\n",
    "es_client.indices.delete(index = index_name, ignore_unavailable=True)\n",
    "es_client.indices.create(index = index_name, body = index_settings)"
   ]
  },
  {
   "cell_type": "code",
   "execution_count": 88,
   "id": "67e7de42-1bce-4b6d-bee3-8c1954f73471",
   "metadata": {},
   "outputs": [
    {
     "data": {
      "application/vnd.jupyter.widget-view+json": {
       "model_id": "1589931e1c7a43b09d07144876b3d7c4",
       "version_major": 2,
       "version_minor": 0
      },
      "text/plain": [
       "  0%|          | 0/948 [00:00<?, ?it/s]"
      ]
     },
     "metadata": {},
     "output_type": "display_data"
    }
   ],
   "source": [
    "for doc in tqdm(documents):\n",
    "    es_client.index(index=index_name, document=doc)"
   ]
  },
  {
   "cell_type": "markdown",
   "id": "00e33afb-ee66-464f-8e3f-8eba0293f83a",
   "metadata": {},
   "source": [
    "#### Retrieval stage"
   ]
  },
  {
   "cell_type": "code",
   "execution_count": 89,
   "id": "e96898f2-b116-495c-9959-d3769e09f048",
   "metadata": {},
   "outputs": [],
   "source": [
    "from langchain.embeddings import SentenceTransformerEmbeddings\n",
    "from typing import Dict\n",
    "from langchain_elasticsearch import ElasticsearchRetriever"
   ]
  },
  {
   "cell_type": "code",
   "execution_count": 90,
   "id": "99d22bff-3e4b-4700-be95-9714b1bb1dcc",
   "metadata": {},
   "outputs": [],
   "source": [
    "es_url = \"http://localhost:9200\""
   ]
  },
  {
   "cell_type": "code",
   "execution_count": 91,
   "id": "5e221ae5-d1f4-4beb-8be9-89bd8bbc3c75",
   "metadata": {},
   "outputs": [],
   "source": [
    "course = \"data-engineering-zoomcamp\"\n",
    "query = \"Can i still join the course?\"\n",
    "embeddings = SentenceTransformerEmbeddings(model_name = 'multi-qa-MiniLM-L6-cos-v1')"
   ]
  },
  {
   "cell_type": "code",
   "execution_count": 92,
   "id": "95b65931-bc00-4f4b-a9d4-dae5e9133ed6",
   "metadata": {},
   "outputs": [],
   "source": [
    "def hybrid_query(search_query: str) -> Dict:\n",
    "    vector = embeddings.embed_query(search_query)  # same embeddings as for indexing\n",
    "    return {\n",
    "        \"query\" : {\n",
    "            \"bool\": {\n",
    "                \"must\": {\n",
    "                    \"multi_match\": {\n",
    "                        \"query\": search_query,\n",
    "                        \"fields\": [\"question\", \"text\", \"section\"],\n",
    "                        \"type\": \"best_fields\",\n",
    "                        \"boost\" :  0.9\n",
    "                    }\n",
    "                },\n",
    "                \"filter\": {\n",
    "                    \"term\": {\n",
    "                        \"course\": course\n",
    "                    }\n",
    "                }\n",
    "            }\n",
    "        },\n",
    "        \"knn\" : {\n",
    "            \"field\" : \"question_text_vector\",\n",
    "            \"query_vector\" : vector,\n",
    "            \"k\" : 5,\n",
    "            \"num_candidates\" : 10000,\n",
    "            \"boost\" :  0.1,\n",
    "            \"filter\" : {\n",
    "                \"term\" : {\n",
    "                    \"course\" : course\n",
    "                        }\n",
    "                    }\n",
    "        },\n",
    "        \"size\" : 5,\n",
    "        #\"rank\" : {\"rrf\": {} },\n",
    "    }\n",
    "\n",
    "\n",
    "hybrid_retriever = ElasticsearchRetriever.from_es_params(\n",
    "    index_name=index_name,\n",
    "    body_func=hybrid_query,\n",
    "    content_field=\"text\",\n",
    "    url=es_url,\n",
    ")"
   ]
  },
  {
   "cell_type": "code",
   "execution_count": 93,
   "id": "31ca8386-2c65-4637-b7df-4a27ac0d6b2b",
   "metadata": {
    "scrolled": true
   },
   "outputs": [],
   "source": [
    "hybrid_result = hybrid_retriever.invoke(query)"
   ]
  },
  {
   "cell_type": "code",
   "execution_count": 73,
   "id": "31d5f84a-fa8f-4327-83ee-545557d6d531",
   "metadata": {},
   "outputs": [
    {
     "name": "stdout",
     "output_type": "stream",
     "text": [
      "Course - Can I still join the course after the start date? data-engineering-zoomcamp 19.887222\n",
      "Course - Can I follow the course after it finishes? data-engineering-zoomcamp 11.013195\n",
      "Course - What can I do before the course starts? data-engineering-zoomcamp 10.935482\n",
      "Course - When will the course start? data-engineering-zoomcamp 10.732398\n",
      "Course - Can I get support if I take the course in the self-paced mode? data-engineering-zoomcamp 10.2377405\n"
     ]
    }
   ],
   "source": [
    "for result in hybrid_result:\n",
    "    print(result.metadata['_source']['question'],result.metadata['_source']['course'], result.metadata['_score'])"
   ]
  },
  {
   "cell_type": "markdown",
   "id": "ee0a41df-bcf8-4a2b-be77-875bc1a43e99",
   "metadata": {},
   "source": [
    "## hybrid"
   ]
  },
  {
   "cell_type": "code",
   "execution_count": 94,
   "id": "f133a7e2-b250-4d91-8d26-dbf675d49085",
   "metadata": {},
   "outputs": [],
   "source": [
    "df_ground_truth = pd.read_csv('ground_truth_data.csv')\n",
    "ground_truth = df_ground_truth.to_dict(orient='records')"
   ]
  },
  {
   "cell_type": "code",
   "execution_count": 95,
   "id": "e5a02a50-1070-47d9-ba4e-0b4684f3b412",
   "metadata": {},
   "outputs": [],
   "source": [
    "def hit_rate(relavance_total):\n",
    "    cnt = 0\n",
    "    for line in relavance_total:\n",
    "        if True in line:\n",
    "            cnt = cnt + 1\n",
    "    return cnt / len(relavance_total)"
   ]
  },
  {
   "cell_type": "code",
   "execution_count": 96,
   "id": "6531a4e6-5c2c-4b68-87bb-5df4994e2d3b",
   "metadata": {},
   "outputs": [],
   "source": [
    "def mrr_score(relavance_total):\n",
    "    score = 0.0\n",
    "    for line in relavance_total:\n",
    "        for rank in range(len(line)):\n",
    "            if line[rank] == True:\n",
    "                score = score + 1 / (rank + 1)\n",
    "        \n",
    "    return score / len(relavance_total)"
   ]
  },
  {
   "cell_type": "code",
   "execution_count": 103,
   "id": "fe7b210c-0ae3-4902-850d-fb39815a76af",
   "metadata": {},
   "outputs": [],
   "source": [
    "#Reuse a single client/retriever instead of recreating it per request:\n",
    "\n",
    "hybrid_retriever = ElasticsearchRetriever.from_es_params(\n",
    "        index_name=index_name,\n",
    "        body_func=hybrid_query,\n",
    "        content_field=\"text\",\n",
    "        url=es_url,\n",
    "    )"
   ]
  },
  {
   "cell_type": "code",
   "execution_count": 122,
   "id": "6ca8b0c3-519f-4489-b88e-6b9377ab6187",
   "metadata": {},
   "outputs": [],
   "source": [
    "def elastic_search_hybrid(field, query, course):\n",
    "    def hybrid_query(search_query: str) -> Dict:\n",
    "        vector = embeddings.embed_query(search_query)  # same embeddings as for indexing\n",
    "        return {\n",
    "            \"query\" : {\n",
    "                \"bool\": {\n",
    "                    \"must\": {\n",
    "                        \"multi_match\": {\n",
    "                            \"query\": search_query,\n",
    "                            \"fields\": [\"question\", \"text\", \"section\"],\n",
    "                            \"type\": \"best_fields\",\n",
    "                            \"boost\" :  0.4\n",
    "                        }\n",
    "                    },\n",
    "                    \"filter\": {\n",
    "                        \"term\": {\n",
    "                            \"course\": course\n",
    "                        }\n",
    "                    }\n",
    "                }\n",
    "            },\n",
    "            \"knn\" : {\n",
    "                \"field\" : field,\n",
    "                \"query_vector\" : vector,\n",
    "                \"k\" : 5,\n",
    "                \"num_candidates\" : 10000,\n",
    "                \"boost\" :  0.6,\n",
    "                \"filter\" : {\n",
    "                    \"term\" : {\n",
    "                        \"course\" : course\n",
    "                            }\n",
    "                        }\n",
    "            },\n",
    "            \"size\" : 5,\n",
    "            \"_source\" : [\"text\", \"section\", \"question\", \"course\", \"id\"],\n",
    "            #\"rank\" : {\"rrf\": {} },\n",
    "        }\n",
    "    #Reuse a single client/retriever instead of recreating it per request, move function outside\n",
    "    \n",
    "    hybrid_retriever = ElasticsearchRetriever.from_es_params(\n",
    "        index_name=index_name,\n",
    "        body_func=hybrid_query,\n",
    "        content_field=\"text\",\n",
    "        url=es_url,\n",
    "    )\n",
    "\n",
    "    hybrid_result = hybrid_retriever.invoke(query)\n",
    "    \n",
    "    result_docs = []\n",
    "    \n",
    "    \n",
    "    for hit in hybrid_result:\n",
    "        result_docs.append(hit.metadata['_source'])\n",
    "    \n",
    "    return result_docs"
   ]
  },
  {
   "cell_type": "code",
   "execution_count": 123,
   "id": "7c65a498-1617-4bdb-865c-8ed269a76086",
   "metadata": {},
   "outputs": [
    {
     "data": {
      "text/plain": [
       "{'question': 'What is the starting date and time for the course?',\n",
       " 'course': 'data-engineering-zoomcamp',\n",
       " 'document': 'c02e79ef'}"
      ]
     },
     "execution_count": 123,
     "metadata": {},
     "output_type": "execute_result"
    }
   ],
   "source": [
    "ground_truth[0]"
   ]
  },
  {
   "cell_type": "code",
   "execution_count": 124,
   "id": "c00ccb0a-d3f0-4bc2-a9df-82635ae93cb1",
   "metadata": {},
   "outputs": [
    {
     "data": {
      "text/plain": [
       "[{'section': 'General course-related questions',\n",
       "  'question': 'Homework and Leaderboard - what is the system for points in the course management platform?',\n",
       "  'course': 'data-engineering-zoomcamp',\n",
       "  'id': '29865466'},\n",
       " {'section': 'General course-related questions',\n",
       "  'question': 'Course - Can I still join the course after the start date?',\n",
       "  'course': 'data-engineering-zoomcamp',\n",
       "  'id': '7842b56a'},\n",
       " {'section': 'General course-related questions',\n",
       "  'question': 'Course - What are the prerequisites for this course?',\n",
       "  'course': 'data-engineering-zoomcamp',\n",
       "  'id': '1f6520ca'},\n",
       " {'section': 'Module 5: pyspark',\n",
       "  'question': 'Homework - how to convert the time difference of two timestamps to hours',\n",
       "  'course': 'data-engineering-zoomcamp',\n",
       "  'id': 'f01df45b'},\n",
       " {'section': 'General course-related questions',\n",
       "  'question': 'Homework - Are late submissions of homework allowed?',\n",
       "  'course': 'data-engineering-zoomcamp',\n",
       "  'id': 'be5bfee4'}]"
      ]
     },
     "execution_count": 124,
     "metadata": {},
     "output_type": "execute_result"
    }
   ],
   "source": [
    "question = ground_truth[0]['question']\n",
    "course = ground_truth[0]['course']\n",
    "elastic_search_hybrid('question_text_vector', question, course)"
   ]
  },
  {
   "cell_type": "code",
   "execution_count": 125,
   "id": "bcb80db9-8dce-4da8-b9e6-e5a54280cae5",
   "metadata": {},
   "outputs": [],
   "source": [
    "def question_text_hybrid(q):\n",
    "    question = q[\"question\"]\n",
    "    course = q[\"course\"]\n",
    "\n",
    "    return elastic_search_hybrid(\"question_text_vector\", question, course)"
   ]
  },
  {
   "cell_type": "code",
   "execution_count": 126,
   "id": "cbc25901-9f83-4135-a1f6-ed25a82ecc40",
   "metadata": {},
   "outputs": [],
   "source": [
    "from time import sleep"
   ]
  },
  {
   "cell_type": "code",
   "execution_count": 127,
   "id": "b5d9802d-0b1f-41d4-bdf8-d05ba7c923f6",
   "metadata": {},
   "outputs": [],
   "source": [
    "def evaluation_function(ground_truth, search_function):\n",
    "    relevance_total = []\n",
    "\n",
    "    for q in tqdm(ground_truth):\n",
    "        doc_id = q['document']\n",
    "        results = search_function(q)\n",
    "        relevance = [d['id'] == doc_id for d in results]\n",
    "        relevance_total.append(relevance)\n",
    "        sleep(0.1)\n",
    "    return {\n",
    "        'hit_rate': hit_rate(relevance_total),\n",
    "        'mrr_score': mrr_score(relevance_total)\n",
    "    }"
   ]
  },
  {
   "cell_type": "code",
   "execution_count": 128,
   "id": "24efd111-b463-4a80-a201-a7966711784d",
   "metadata": {},
   "outputs": [
    {
     "data": {
      "application/vnd.jupyter.widget-view+json": {
       "model_id": "b77c80e67a6442a3b1d92bd3159509b5",
       "version_major": 2,
       "version_minor": 0
      },
      "text/plain": [
       "  0%|          | 0/4735 [00:00<?, ?it/s]"
      ]
     },
     "metadata": {},
     "output_type": "display_data"
    },
    {
     "data": {
      "text/plain": [
       "{'hit_rate': 0.9083421330517424, 'mrr_score': 0.8043083421330526}"
      ]
     },
     "execution_count": 128,
     "metadata": {},
     "output_type": "execute_result"
    }
   ],
   "source": [
    "evaluation_function(ground_truth, question_text_hybrid)"
   ]
  },
  {
   "cell_type": "code",
   "execution_count": null,
   "id": "74605792-0a49-46d3-8504-c047601ec23a",
   "metadata": {},
   "outputs": [],
   "source": []
  }
 ],
 "metadata": {
  "kernelspec": {
   "display_name": "Python 3",
   "language": "python",
   "name": "python3"
  },
  "language_info": {
   "codemirror_mode": {
    "name": "ipython",
    "version": 3
   },
   "file_extension": ".py",
   "mimetype": "text/x-python",
   "name": "python",
   "nbconvert_exporter": "python",
   "pygments_lexer": "ipython3",
   "version": "3.10.10"
  }
 },
 "nbformat": 4,
 "nbformat_minor": 5
}
