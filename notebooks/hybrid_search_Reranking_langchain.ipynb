{
 "cells": [
  {
   "cell_type": "code",
   "execution_count": 1,
   "id": "4e329f49-0e94-4bfb-9c41-983c93a4865f",
   "metadata": {},
   "outputs": [],
   "source": [
    "import json\n",
    "import pandas as pd\n",
    "from tqdm.auto import tqdm\n",
    "from elasticsearch import Elasticsearch\n",
    "from sentence_transformers import SentenceTransformer"
   ]
  },
  {
   "cell_type": "code",
   "execution_count": 2,
   "id": "0c8fa6b9-108f-4ad2-9ff6-d0ca728da57f",
   "metadata": {},
   "outputs": [],
   "source": [
    "with open('document_with_ids.json', 'rt') as f_in:\n",
    "    documents = json.load(f_in)"
   ]
  },
  {
   "cell_type": "code",
   "execution_count": 3,
   "id": "d70dc4a0-512b-45e8-97e2-08860b597799",
   "metadata": {},
   "outputs": [],
   "source": [
    "model_name = 'multi-qa-MiniLM-L6-cos-v1'\n",
    "model = SentenceTransformer(model_name)"
   ]
  },
  {
   "cell_type": "markdown",
   "id": "6ecf0236-541d-4868-831c-a3222a599533",
   "metadata": {},
   "source": [
    "### Indexing"
   ]
  },
  {
   "cell_type": "code",
   "execution_count": 4,
   "id": "8b75ba32-bf29-4982-a21d-90707163c496",
   "metadata": {},
   "outputs": [
    {
     "data": {
      "application/vnd.jupyter.widget-view+json": {
       "model_id": "f91dd72be4db4593a93c18944d38a128",
       "version_major": 2,
       "version_minor": 0
      },
      "text/plain": [
       "  0%|          | 0/948 [00:00<?, ?it/s]"
      ]
     },
     "metadata": {},
     "output_type": "display_data"
    }
   ],
   "source": [
    "for doc in tqdm(documents):\n",
    "    question = doc['question']\n",
    "    text = doc['text']\n",
    "    qt = question + ' ' + text\n",
    "\n",
    "    doc['question_vector'] = model.encode(question)\n",
    "    doc['text_vector'] = model.encode(text)\n",
    "    doc['question_text_vector'] = model.encode(qt)\n",
    "    "
   ]
  },
  {
   "cell_type": "code",
   "execution_count": 5,
   "id": "caa9d5c7-41fb-473f-9ea5-e3777e3072c4",
   "metadata": {},
   "outputs": [
    {
     "data": {
      "text/plain": [
       "ObjectApiResponse({'acknowledged': True, 'shards_acknowledged': True, 'index': 'course_questions'})"
      ]
     },
     "execution_count": 5,
     "metadata": {},
     "output_type": "execute_result"
    }
   ],
   "source": [
    "es_client = Elasticsearch(\"http://localhost:9200\")\n",
    "\n",
    "index_settings = {\n",
    "    \"settings\": {\n",
    "        \"number_of_shards\" : 1,\n",
    "        \"number_of_replicas\" : 0\n",
    "    },\n",
    "    \"mappings\" : {\n",
    "        \"properties\" : {\n",
    "            \"text\" : {\"type\" : \"text\"},\n",
    "            \"section\" : {\"type\" : \"text\"},\n",
    "            \"question\" : {\"type\" : \"text\"},\n",
    "            \"course\" : {\"type\" : \"keyword\"},\n",
    "            \"id\" : {\"type\" : \"keyword\"},\n",
    "            \"question_vector\" : {\n",
    "                \"type\" : \"dense_vector\",\n",
    "                \"dims\" : 384,\n",
    "                \"index\" : True,\n",
    "                \"similarity\": \"cosine\"\n",
    "            },\n",
    "            \"text_vector\" : {\n",
    "                \"type\" : \"dense_vector\",\n",
    "                \"dims\" : 384,\n",
    "                \"index\" : True,\n",
    "                \"similarity\": \"cosine\"\n",
    "            },\n",
    "            \"question_text_vector\" : {\n",
    "                \"type\" : \"dense_vector\",\n",
    "                \"dims\" : 384,\n",
    "                \"index\" : True,\n",
    "                \"similarity\": \"cosine\"\n",
    "            },\n",
    "        }\n",
    "    }\n",
    "}\n",
    "\n",
    "index_name = \"course_questions\"\n",
    "es_client.indices.delete(index = index_name, ignore_unavailable=True)\n",
    "es_client.indices.create(index = index_name, body = index_settings)"
   ]
  },
  {
   "cell_type": "code",
   "execution_count": 6,
   "id": "67e7de42-1bce-4b6d-bee3-8c1954f73471",
   "metadata": {},
   "outputs": [
    {
     "data": {
      "application/vnd.jupyter.widget-view+json": {
       "model_id": "4067e671faca4b9b9fbdded03f52ad41",
       "version_major": 2,
       "version_minor": 0
      },
      "text/plain": [
       "  0%|          | 0/948 [00:00<?, ?it/s]"
      ]
     },
     "metadata": {},
     "output_type": "display_data"
    }
   ],
   "source": [
    "for doc in tqdm(documents):\n",
    "    es_client.index(index=index_name, document=doc)"
   ]
  },
  {
   "cell_type": "markdown",
   "id": "00e33afb-ee66-464f-8e3f-8eba0293f83a",
   "metadata": {},
   "source": [
    "#### Retrieval stage"
   ]
  },
  {
   "cell_type": "code",
   "execution_count": null,
   "id": "95b65931-bc00-4f4b-a9d4-dae5e9133ed6",
   "metadata": {},
   "outputs": [],
   "source": []
  },
  {
   "cell_type": "code",
   "execution_count": null,
   "id": "31ca8386-2c65-4637-b7df-4a27ac0d6b2b",
   "metadata": {},
   "outputs": [],
   "source": []
  },
  {
   "cell_type": "code",
   "execution_count": null,
   "id": "31d5f84a-fa8f-4327-83ee-545557d6d531",
   "metadata": {},
   "outputs": [],
   "source": []
  },
  {
   "cell_type": "code",
   "execution_count": null,
   "id": "e5a02a50-1070-47d9-ba4e-0b4684f3b412",
   "metadata": {},
   "outputs": [],
   "source": []
  },
  {
   "cell_type": "code",
   "execution_count": null,
   "id": "6531a4e6-5c2c-4b68-87bb-5df4994e2d3b",
   "metadata": {},
   "outputs": [],
   "source": []
  }
 ],
 "metadata": {
  "kernelspec": {
   "display_name": "Python 3",
   "language": "python",
   "name": "python3"
  },
  "language_info": {
   "codemirror_mode": {
    "name": "ipython",
    "version": 3
   },
   "file_extension": ".py",
   "mimetype": "text/x-python",
   "name": "python",
   "nbconvert_exporter": "python",
   "pygments_lexer": "ipython3",
   "version": "3.10.10"
  }
 },
 "nbformat": 4,
 "nbformat_minor": 5
}
