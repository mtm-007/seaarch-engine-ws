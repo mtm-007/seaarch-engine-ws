{
 "cells": [
  {
   "cell_type": "code",
   "execution_count": 1,
   "id": "4e329f49-0e94-4bfb-9c41-983c93a4865f",
   "metadata": {},
   "outputs": [
    {
     "name": "stderr",
     "output_type": "stream",
     "text": [
      "/home/MERHAWI/miniforge3/lib/python3.12/site-packages/tqdm/auto.py:21: TqdmWarning: IProgress not found. Please update jupyter and ipywidgets. See https://ipywidgets.readthedocs.io/en/stable/user_install.html\n",
      "  from .autonotebook import tqdm as notebook_tqdm\n"
     ]
    }
   ],
   "source": [
    "import json\n",
    "from elasticsearch import Elasticsearch\n",
    "from tqdm.auto import tqdm\n",
    "import pandas as pd\n",
    "from sentence_transformers import SentenceTransformer"
   ]
  },
  {
   "cell_type": "code",
   "execution_count": 2,
   "id": "0c8fa6b9-108f-4ad2-9ff6-d0ca728da57f",
   "metadata": {},
   "outputs": [],
   "source": [
    "with open('document_with_ids.json', 'rt') as f_in:\n",
    "    documents = json.load(f_in)"
   ]
  },
  {
   "cell_type": "code",
   "execution_count": 3,
   "id": "d70dc4a0-512b-45e8-97e2-08860b597799",
   "metadata": {},
   "outputs": [],
   "source": [
    "model_name = 'multi-qa-MiniLM-L6-cos-v1'\n",
    "model = SentenceTransformer(model_name)"
   ]
  },
  {
   "cell_type": "code",
   "execution_count": 4,
   "id": "047a7c57-13ce-4095-95ec-77503959ca6c",
   "metadata": {},
   "outputs": [],
   "source": [
    "es_client = Elasticsearch(\"http://localhost:9200\")"
   ]
  },
  {
   "cell_type": "code",
   "execution_count": 5,
   "id": "a4aea71f-f652-4279-a023-ba2f5d4b38bc",
   "metadata": {},
   "outputs": [
    {
     "data": {
      "text/plain": [
       "ObjectApiResponse({'acknowledged': True, 'shards_acknowledged': True, 'index': 'course_questions'})"
      ]
     },
     "execution_count": 5,
     "metadata": {},
     "output_type": "execute_result"
    }
   ],
   "source": [
    "\n",
    "index_settings = {\n",
    "    \"settings\": {\n",
    "        \"number_of_shards\" : 1,\n",
    "        \"number_of_replicas\" : 0\n",
    "    },\n",
    "    \"mappings\" : {\n",
    "        \"properties\" : {\n",
    "            \"text\" : {\"type\" : \"text\"},\n",
    "            \"section\" : {\"type\" : \"text\"},\n",
    "            \"question\" : {\"type\" : \"text\"},\n",
    "            \"course\" : {\"type\" : \"keyword\"},\n",
    "            \"id\" : {\"type\" : \"keyword\"},\n",
    "            \"question_vector\" : {\n",
    "                \"type\" : \"dense_vector\",\n",
    "                \"dims\" : 384,\n",
    "                \"index\" : True,\n",
    "                \"similarity\": \"cosine\"\n",
    "            },\n",
    "            \"text_vector\" : {\n",
    "                \"type\" : \"dense_vector\",\n",
    "                \"dims\" : 384,\n",
    "                \"index\" : True,\n",
    "                \"similarity\": \"cosine\"\n",
    "            },\n",
    "            \"question_text_vector\" : {\n",
    "                \"type\" : \"dense_vector\",\n",
    "                \"dims\" : 384,\n",
    "                \"index\" : True,\n",
    "                \"similarity\": \"cosine\"\n",
    "            },\n",
    "        }\n",
    "    }\n",
    "}\n",
    "\n",
    "index_name = \"course_questions\"\n",
    "es_client.indices.delete(index = index_name, ignore_unavailable=True)\n",
    "es_client.indices.create(index = index_name, body = index_settings)"
   ]
  },
  {
   "cell_type": "code",
   "execution_count": 6,
   "id": "8b75ba32-bf29-4982-a21d-90707163c496",
   "metadata": {},
   "outputs": [
    {
     "name": "stderr",
     "output_type": "stream",
     "text": [
      "100%|███████████████████████████████████████████████████████████████████████████████| 948/948 [01:04<00:00, 14.69it/s]\n"
     ]
    }
   ],
   "source": [
    "for doc in tqdm(documents):\n",
    "    question = doc['question']\n",
    "    text = doc['text']\n",
    "    qt = question + ' ' + text\n",
    "\n",
    "    doc['question_vector'] = model.encode(question)\n",
    "    doc['text_vector'] = model.encode(text)\n",
    "    doc['question_text_vector'] = model.encode(qt)\n",
    "    "
   ]
  },
  {
   "cell_type": "code",
   "execution_count": 7,
   "id": "67e7de42-1bce-4b6d-bee3-8c1954f73471",
   "metadata": {},
   "outputs": [
    {
     "name": "stderr",
     "output_type": "stream",
     "text": [
      "100%|██████████████████████████████████████████████████████████████████████████████| 948/948 [00:08<00:00, 112.97it/s]\n"
     ]
    }
   ],
   "source": [
    "for doc in tqdm(documents):\n",
    "    es_client.index(index=index_name, document=doc)"
   ]
  },
  {
   "cell_type": "code",
   "execution_count": 8,
   "id": "b95b8252-0ff9-402a-9261-8fe87be5781d",
   "metadata": {},
   "outputs": [],
   "source": [
    "query = \"Can i still join the course?\""
   ]
  },
  {
   "cell_type": "code",
   "execution_count": 9,
   "id": "9ec9f893-1cfd-4161-afb9-fb3a39df7c86",
   "metadata": {},
   "outputs": [],
   "source": [
    "query_vec = model.encode(query)"
   ]
  },
  {
   "cell_type": "code",
   "execution_count": 10,
   "id": "2aa18f45-1496-4fc0-882e-b67d47ae46c5",
   "metadata": {},
   "outputs": [],
   "source": [
    "def elastic_search_knn(field, vector, course):\n",
    "    knn = {\n",
    "        \"field\" : field,\n",
    "        \"query_vector\" : vector,\n",
    "        \"k\" : 5,\n",
    "        \"num_candidates\" : 10000,\n",
    "        \"filter\" : {\n",
    "            \"term\" : {\n",
    "                \"course\" : course\n",
    "                }\n",
    "            }\n",
    "        }\n",
    "    search_query = {\n",
    "        \"knn\" : knn,\n",
    "        \"_source\" : [\"text\", \"section\", \"question\", \"course\", \"id\"]\n",
    "    }\n",
    "    \n",
    "    es_result = es_client.search(\n",
    "        index = index_name,\n",
    "        body = search_query\n",
    "    )\n",
    "    result_docs = []\n",
    "    \n",
    "    for hit in es_result['hits']['hits']:\n",
    "        result_docs.append(hit['_source'])\n",
    "    \n",
    "    return result_docs"
   ]
  },
  {
   "cell_type": "code",
   "execution_count": 11,
   "id": "e5e4e104-11e6-45ca-96e6-e2f736d0b4d2",
   "metadata": {},
   "outputs": [],
   "source": [
    "def question_vector_knn(q):\n",
    "    question = q[\"question\"]\n",
    "    course = q[\"course\"]\n",
    "\n",
    "    v_q = model.encode(question)\n",
    "    return elastic_search_knn(\"question_vector\", v_q, course)"
   ]
  },
  {
   "cell_type": "code",
   "execution_count": 12,
   "id": "e9270e3a-3c07-4d52-9e65-965d1f4bdbee",
   "metadata": {},
   "outputs": [],
   "source": [
    "df_ground_truth = pd.read_csv('ground_truth_data.csv')"
   ]
  },
  {
   "cell_type": "code",
   "execution_count": 13,
   "id": "99a998d8-e117-4137-adb1-96d6b71060a0",
   "metadata": {},
   "outputs": [],
   "source": [
    "ground_truth = df_ground_truth.to_dict(orient='records')"
   ]
  },
  {
   "cell_type": "code",
   "execution_count": 14,
   "id": "3c656273-f914-4058-b0ef-2a3eced62ca8",
   "metadata": {},
   "outputs": [],
   "source": [
    "def hit_rate(relavance_total):\n",
    "    cnt = 0\n",
    "    for line in relavance_total:\n",
    "        if True in line:\n",
    "            cnt = cnt + 1\n",
    "    return cnt / len(relavance_total)"
   ]
  },
  {
   "cell_type": "code",
   "execution_count": 15,
   "id": "d226c975-9000-48ec-a656-70f36dc62bfc",
   "metadata": {},
   "outputs": [],
   "source": [
    "def mrr_score(relavance_total):\n",
    "    score = 0.0\n",
    "    for line in relavance_total:\n",
    "        for rank in range(len(line)):\n",
    "            if line[rank] == True:\n",
    "                score = score + 1 / (rank + 1)\n",
    "        \n",
    "    return score / len(relavance_total)"
   ]
  },
  {
   "cell_type": "code",
   "execution_count": 16,
   "id": "db161160-cd15-46d5-a2d6-f149e3a47529",
   "metadata": {},
   "outputs": [],
   "source": [
    "def evaluation_function(ground_truth, search_function):\n",
    "    relevance_total = []\n",
    "\n",
    "    for q in tqdm(ground_truth):\n",
    "        doc_id = q['document']\n",
    "        #results = search_function(query=q['question'], course=q['course'])\n",
    "        results = search_function(q)\n",
    "        relevance = [d['id'] == doc_id for d in results]\n",
    "        relevance_total.append(relevance)\n",
    "    return {\n",
    "        'hit_rate': hit_rate(relevance_total),\n",
    "        'mrr_score': mrr_score(relevance_total)\n",
    "    }"
   ]
  },
  {
   "cell_type": "code",
   "execution_count": 17,
   "id": "b8062ffc-4dc2-497c-83d5-48cf964ed68f",
   "metadata": {},
   "outputs": [
    {
     "name": "stderr",
     "output_type": "stream",
     "text": [
      "100%|█████████████████████████████████████████████████████████████████████████████| 4735/4735 [01:41<00:00, 46.71it/s]\n"
     ]
    },
    {
     "data": {
      "text/plain": [
       "{'hit_rate': 0.737909186906019, 'mrr_score': 0.6191622668074627}"
      ]
     },
     "execution_count": 17,
     "metadata": {},
     "output_type": "execute_result"
    }
   ],
   "source": [
    "evaluation_function(ground_truth, question_vector_knn)"
   ]
  },
  {
   "cell_type": "code",
   "execution_count": 18,
   "id": "158cc952-9305-497f-a9c2-79a2941c2921",
   "metadata": {},
   "outputs": [],
   "source": [
    "def text_vector_knn(q):\n",
    "    question = q[\"question\"]\n",
    "    course = q[\"course\"]\n",
    "\n",
    "    v_q = model.encode(question)\n",
    "    return elastic_search_knn(\"text_vector\", v_q, course)"
   ]
  },
  {
   "cell_type": "code",
   "execution_count": 20,
   "id": "23481114-c5aa-4f51-838b-f6c3df02d823",
   "metadata": {},
   "outputs": [
    {
     "name": "stderr",
     "output_type": "stream",
     "text": [
      "100%|██████████████████████████████████████████████████████████████████████████████| 4735/4735 [01:37<00:00, 48.53it/s]\n"
     ]
    },
    {
     "data": {
      "text/plain": [
       "{'hit_rate': 0.8270327349524815, 'mrr_score': 0.6902358324533618}"
      ]
     },
     "execution_count": 20,
     "metadata": {},
     "output_type": "execute_result"
    }
   ],
   "source": [
    "evaluation_function(ground_truth, text_vector_knn)"
   ]
  },
  {
   "cell_type": "code",
   "execution_count": 21,
   "id": "2e1fcb79-aaf3-42e1-8267-515f327cc5d0",
   "metadata": {},
   "outputs": [],
   "source": [
    "def question_text_vector_knn(q):\n",
    "    question = q[\"question\"]\n",
    "    course = q[\"course\"]\n",
    "\n",
    "    v_q = model.encode(question)\n",
    "    return elastic_search_knn(\"question_text_vector\", v_q, course)"
   ]
  },
  {
   "cell_type": "code",
   "execution_count": 22,
   "id": "a61a66b5-8c18-4182-ad87-949442124a65",
   "metadata": {},
   "outputs": [
    {
     "name": "stderr",
     "output_type": "stream",
     "text": [
      "100%|██████████████████████████████████████████████████████████████████████████████| 4735/4735 [01:37<00:00, 48.69it/s]\n"
     ]
    },
    {
     "data": {
      "text/plain": [
       "{'hit_rate': 0.9102428722280888, 'mrr_score': 0.7961457233368543}"
      ]
     },
     "execution_count": 22,
     "metadata": {},
     "output_type": "execute_result"
    }
   ],
   "source": [
    "evaluation_function(ground_truth, question_text_vector_knn)"
   ]
  },
  {
   "cell_type": "code",
   "execution_count": 23,
   "id": "1e12139c-9914-43c3-a953-2911c2da4271",
   "metadata": {},
   "outputs": [],
   "source": [
    "def elastic_search_knn_combined(vector,course):\n",
    "    search_query = {\n",
    "        \"size\": 5,\n",
    "        \"query\": {\n",
    "            \"bool\": {\n",
    "                \"must\": [\n",
    "                    {\n",
    "                        \"script_score\" : {\n",
    "                            \"query\" : {\n",
    "                                \"term\" : {\n",
    "                                    \"course\" : course\n",
    "                                }\n",
    "                            },\n",
    "                            \"script\" : {\n",
    "                                \"source\" : \"\"\"\n",
    "                                    cosineSimilarity(params.query_vector, \"question_vector\") +\n",
    "                                    cosineSimilarity(params.query_vector, \"text_vector\") +\n",
    "                                    cosineSimilarity(params.query_vector, \"question_text_vector\") + 1\n",
    "                                \"\"\",\n",
    "                                \"params\" : {\n",
    "                                    \"query_vector\" : vector\n",
    "                                }\n",
    "                            }\n",
    "                        }\n",
    "                    }\n",
    "                ],\n",
    "                \"filter\": {\n",
    "                    \"term\": {\n",
    "                        \"course\": course\n",
    "                    }\n",
    "                }\n",
    "            }\n",
    "        },\n",
    "        \"_source\" : [\"text\", \"section\", \"question\", \"course\", \"id\"]\n",
    "    }\n",
    "\n",
    "    es_result = es_client.search(\n",
    "        index = index_name,\n",
    "        body = search_query\n",
    "    )\n",
    "    result_docs = []\n",
    "    \n",
    "    for hit in es_result['hits']['hits']:\n",
    "        result_docs.append(hit['_source'])\n",
    "    \n",
    "    return result_docs"
   ]
  },
  {
   "cell_type": "code",
   "execution_count": 24,
   "id": "870f16cc-eb36-48e9-adbe-36fbccad6150",
   "metadata": {},
   "outputs": [],
   "source": [
    "def vector_combined_knn(q):\n",
    "    question = q[\"question\"]\n",
    "    course = q[\"course\"]\n",
    "\n",
    "    v_q = model.encode(question)\n",
    "    return elastic_search_knn_combined(v_q, course)"
   ]
  },
  {
   "cell_type": "code",
   "execution_count": 25,
   "id": "6800de2f-05bf-45f4-9f4f-fd699c836cea",
   "metadata": {},
   "outputs": [
    {
     "name": "stderr",
     "output_type": "stream",
     "text": [
      "100%|██████████████████████████████████████████████████████████████████████████████| 4735/4735 [01:37<00:00, 48.63it/s]\n"
     ]
    },
    {
     "data": {
      "text/plain": [
       "{'hit_rate': 0.8937697993664203, 'mrr_score': 0.7736923618444222}"
      ]
     },
     "execution_count": 25,
     "metadata": {},
     "output_type": "execute_result"
    }
   ],
   "source": [
    "evaluation_function(ground_truth, vector_combined_knn)"
   ]
  },
  {
   "cell_type": "code",
   "execution_count": null,
   "id": "e2dc8e48-ed39-4af3-8062-142148b326d5",
   "metadata": {},
   "outputs": [],
   "source": []
  }
 ],
 "metadata": {
  "kernelspec": {
   "display_name": "Python 3 (ipykernel)",
   "language": "python",
   "name": "python3"
  },
  "language_info": {
   "codemirror_mode": {
    "name": "ipython",
    "version": 3
   },
   "file_extension": ".py",
   "mimetype": "text/x-python",
   "name": "python",
   "nbconvert_exporter": "python",
   "pygments_lexer": "ipython3",
   "version": "3.12.1"
  }
 },
 "nbformat": 4,
 "nbformat_minor": 5
}
